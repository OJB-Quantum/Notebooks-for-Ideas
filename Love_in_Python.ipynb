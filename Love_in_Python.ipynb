{
  "nbformat": 4,
  "nbformat_minor": 0,
  "metadata": {
    "colab": {
      "provenance": [],
      "authorship_tag": "ABX9TyOF3xDsbrXVipGEbJIKeeIL",
      "include_colab_link": true
    },
    "kernelspec": {
      "name": "python3",
      "display_name": "Python 3"
    },
    "language_info": {
      "name": "python"
    }
  },
  "cells": [
    {
      "cell_type": "markdown",
      "metadata": {
        "id": "view-in-github",
        "colab_type": "text"
      },
      "source": [
        "<a href=\"https://colab.research.google.com/github/OJB-Quantum/Notebooks-for-Ideas/blob/main/Love_in_Python.ipynb\" target=\"_parent\"><img src=\"https://colab.research.google.com/assets/colab-badge.svg\" alt=\"Open In Colab\"/></a>"
      ]
    },
    {
      "cell_type": "code",
      "execution_count": 1,
      "metadata": {
        "colab": {
          "base_uri": "https://localhost:8080/"
        },
        "id": "uygMbkbzr006",
        "outputId": "e3bdb9d6-d26c-4d7c-b2d6-2a9c2e6e998c"
      },
      "outputs": [
        {
          "output_type": "stream",
          "name": "stdout",
          "text": [
            "                                                            \n",
            "                                                            \n",
            "                                                            \n",
            "                erEnginee           gineerEng               \n",
            "            ineerEngineerEngi   rEngineerEngineer           \n",
            "          gineerEngineerEngineerEngineerEngineerEng         \n",
            "         gineerEngineerEngineerEngineerEngineerEngin        \n",
            "        gineerEngineerEngineerEngineerEngineerEnginee       \n",
            "        ineerEngineerEngineerEngineerEngineerEngineer       \n",
            "        neerEngineerEngineerEngineerEngineerEngineerE       \n",
            "        eerEngineerEngineerEngineerEngineerEngineerEn       \n",
            "        erEngineerEngineerEngineerEngineerEngineerEng       \n",
            "        rEngineerEngineerEngineerEngineerEngineerEngi       \n",
            "         ngineerEngineerEngineerEngineerEngineerEngi        \n",
            "          ineerEngineerEngineerEngineerEngineerEngi         \n",
            "          neerEngineerEngineerEngineerEngineerEngin         \n",
            "            rEngineerEngineerEngineerEngineerEngi           \n",
            "             ngineerEngineerEngineerEngineerEngi            \n",
            "              ineerEngineerEngineerEngineerEngi             \n",
            "                erEngineerEngineerEngineerEng               \n",
            "                  ngineerEngineerEngineerEn                 \n",
            "                    neerEngineerEngineerE                   \n",
            "                       EngineerEnginee                      \n",
            "                          neerEngin                         \n",
            "                             Eng                            \n",
            "                              g                             \n",
            "                                                            \n",
            "                                                            \n",
            "                                                            \n",
            "                                                            \n"
          ]
        }
      ],
      "source": [
        "print('\\n'.join\n",
        "([''.join\n",
        "([('Engineer'[(x-y)%8 ]\n",
        "if((x*0.05)**2+(y*0.1)**2-1)\n",
        "**3-(x*0.05)**2*(y*0.1)\n",
        "**3<=0 else' ')\n",
        "for x in range(-30,30)])\n",
        "for y in range(15,-15,-1)]))"
      ]
    },
    {
      "cell_type": "markdown",
      "source": [
        "Hi bb."
      ],
      "metadata": {
        "id": "NeNFLqNmr_lA"
      }
    },
    {
      "cell_type": "code",
      "source": [
        "print('\\n'.join\n",
        "([''.join\n",
        "([('Khaliya'[(x-y)%7 ] # Let the number afterwards match the number of characters used :)\n",
        "if((x*0.05)**2+(y*0.1)**2-1)\n",
        "**3-(x*0.05)**2*(y*0.1)\n",
        "**3<=0 else' ')\n",
        "for x in range(-30,30)])\n",
        "for y in range(15,-15,-1)]))"
      ],
      "metadata": {
        "colab": {
          "base_uri": "https://localhost:8080/"
        },
        "id": "hJhH_NZdr-x9",
        "outputId": "38e3c704-6b3d-478b-a8cf-c1f4a453cd1f"
      },
      "execution_count": 6,
      "outputs": [
        {
          "output_type": "stream",
          "name": "stdout",
          "text": [
            "                                                            \n",
            "                                                            \n",
            "                                                            \n",
            "                aliyaKhal           haliyaKha               \n",
            "            aKhaliyaKhaliyaKh   yaKhaliyaKhaliyaK           \n",
            "          yaKhaliyaKhaliyaKhaliyaKhaliyaKhaliyaKhal         \n",
            "         yaKhaliyaKhaliyaKhaliyaKhaliyaKhaliyaKhaliy        \n",
            "        yaKhaliyaKhaliyaKhaliyaKhaliyaKhaliyaKhaliyaK       \n",
            "        aKhaliyaKhaliyaKhaliyaKhaliyaKhaliyaKhaliyaKh       \n",
            "        KhaliyaKhaliyaKhaliyaKhaliyaKhaliyaKhaliyaKha       \n",
            "        haliyaKhaliyaKhaliyaKhaliyaKhaliyaKhaliyaKhal       \n",
            "        aliyaKhaliyaKhaliyaKhaliyaKhaliyaKhaliyaKhali       \n",
            "        liyaKhaliyaKhaliyaKhaliyaKhaliyaKhaliyaKhaliy       \n",
            "         yaKhaliyaKhaliyaKhaliyaKhaliyaKhaliyaKhaliy        \n",
            "          KhaliyaKhaliyaKhaliyaKhaliyaKhaliyaKhaliy         \n",
            "          haliyaKhaliyaKhaliyaKhaliyaKhaliyaKhaliya         \n",
            "            iyaKhaliyaKhaliyaKhaliyaKhaliyaKhaliy           \n",
            "             aKhaliyaKhaliyaKhaliyaKhaliyaKhaliy            \n",
            "              haliyaKhaliyaKhaliyaKhaliyaKhaliy             \n",
            "                iyaKhaliyaKhaliyaKhaliyaKhali               \n",
            "                  KhaliyaKhaliyaKhaliyaKhal                 \n",
            "                    liyaKhaliyaKhaliyaKha                   \n",
            "                       KhaliyaKhaliyaK                      \n",
            "                          iyaKhaliy                         \n",
            "                             hal                            \n",
            "                              l                             \n",
            "                                                            \n",
            "                                                            \n",
            "                                                            \n",
            "                                                            \n"
          ]
        }
      ]
    }
  ]
}