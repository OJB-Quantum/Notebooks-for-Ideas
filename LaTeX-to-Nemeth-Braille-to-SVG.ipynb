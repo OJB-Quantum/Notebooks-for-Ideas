{
  "nbformat": 4,
  "nbformat_minor": 0,
  "metadata": {
    "colab": {
      "provenance": [],
      "authorship_tag": "ABX9TyMgC5hu8DiEiXs/SQU6imtb",
      "include_colab_link": true
    },
    "kernelspec": {
      "name": "python3",
      "display_name": "Python 3"
    },
    "language_info": {
      "name": "python"
    }
  },
  "cells": [
    {
      "cell_type": "markdown",
      "metadata": {
        "id": "view-in-github",
        "colab_type": "text"
      },
      "source": [
        "<a href=\"https://colab.research.google.com/github/OJB-Quantum/Notebooks-for-Ideas/blob/main/LaTeX-to-Nemeth-Braille-to-SVG.ipynb\" target=\"_parent\"><img src=\"https://colab.research.google.com/assets/colab-badge.svg\" alt=\"Open In Colab\"/></a>"
      ]
    },
    {
      "cell_type": "markdown",
      "source": [
        "The aim of this script (written by Onri Jay Benally):\n",
        "- To generate an SVG of mathematics and text in Braille format.\n",
        "-  When paired with open source modeling and rendering tools like Blender, the SVG can be converted into a 3D-printable object."
      ],
      "metadata": {
        "id": "68IuGujXXF0f"
      }
    },
    {
      "cell_type": "code",
      "execution_count": 1,
      "metadata": {
        "colab": {
          "base_uri": "https://localhost:8080/"
        },
        "id": "TjNq3c_rQG6v",
        "outputId": "044ce4d4-b6c6-4a71-a46b-a38b087220eb"
      },
      "outputs": [
        {
          "output_type": "stream",
          "name": "stdout",
          "text": [
            "Collecting svgwrite\n",
            "  Downloading svgwrite-1.4.3-py3-none-any.whl.metadata (8.8 kB)\n",
            "Downloading svgwrite-1.4.3-py3-none-any.whl (67 kB)\n",
            "\u001b[?25l   \u001b[90m━━━━━━━━━━━━━━━━━━━━━━━━━━━━━━━━━━━━━━━━\u001b[0m \u001b[32m0.0/67.1 kB\u001b[0m \u001b[31m?\u001b[0m eta \u001b[36m-:--:--\u001b[0m\r\u001b[2K   \u001b[90m━━━━━━━━━━━━━━━━━━━━━━━━━━━━━━━━━━━━━━━━\u001b[0m \u001b[32m67.1/67.1 kB\u001b[0m \u001b[31m2.0 MB/s\u001b[0m eta \u001b[36m0:00:00\u001b[0m\n",
            "\u001b[?25hInstalling collected packages: svgwrite\n",
            "Successfully installed svgwrite-1.4.3\n"
          ]
        }
      ],
      "source": [
        "!pip install svgwrite"
      ]
    },
    {
      "cell_type": "code",
      "source": [
        "import svgwrite"
      ],
      "metadata": {
        "id": "KaZjADMyQudT"
      },
      "execution_count": 2,
      "outputs": []
    },
    {
      "cell_type": "code",
      "source": [
        "# Simple dictionary to map LaTeX symbols to Nemeth Braille dots\n",
        "latex_to_nemeth = {\n",
        "    \"\\\\alpha\": \"⠁⠇⠋⠁\",  # Example mapping\n",
        "    \"\\\\beta\": \"⠃⠢⠞⠕⠅\",  # Example mapping\n",
        "    \"x^2\": \"⠭⠔⠆\",  # Example mapping for x squared\n",
        "    # Add more mappings as needed\n",
        "}\n",
        "\n",
        "# Function to convert LaTeX to Nemeth Braille dots\n",
        "def convert_to_nemeth(latex_str):\n",
        "    nemeth_str = ''\n",
        "    for symbol in latex_str.split():\n",
        "        if symbol in latex_to_nemeth:\n",
        "            nemeth_str += latex_to_nemeth[symbol] + ' '\n",
        "        else:\n",
        "            nemeth_str += \"⠿\"  # Placeholder for unmapped symbols\n",
        "    return nemeth_str.strip()\n",
        "\n",
        "# Function to create an SVG with Nemeth dots and description\n",
        "def create_svg(latex_str, description, filename=\"output.svg\"):\n",
        "    nemeth_str = convert_to_nemeth(latex_str)\n",
        "\n",
        "    # Create an SVG drawing\n",
        "    dwg = svgwrite.Drawing(filename, profile='tiny', size=(\"400px\", \"200px\"))\n",
        "\n",
        "    # Add Nemeth dots\n",
        "    dwg.add(dwg.text(nemeth_str, insert=(10, 50), font_size=\"20px\", font_family=\"Braille\"))\n",
        "\n",
        "    # Add description text\n",
        "    dwg.add(dwg.text(description, insert=(10, 100), font_size=\"15px\", fill=\"black\"))\n",
        "\n",
        "    # Save the SVG\n",
        "    dwg.save()\n",
        "\n",
        "# Example usage\n",
        "latex_input = \"\\\\alpha x^2 \\\\beta\"\n",
        "description = \"This is an example of alpha times x squared plus beta.\"\n",
        "create_svg(latex_input, description)"
      ],
      "metadata": {
        "id": "BghF74O8Qm9O"
      },
      "execution_count": 3,
      "outputs": []
    },
    {
      "cell_type": "markdown",
      "source": [
        "See the SVG output in the files section on the left."
      ],
      "metadata": {
        "id": "8_jVvKiZYARW"
      }
    }
  ]
}