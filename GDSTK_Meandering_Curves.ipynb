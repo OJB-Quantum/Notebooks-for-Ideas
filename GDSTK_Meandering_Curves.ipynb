{
  "nbformat": 4,
  "nbformat_minor": 0,
  "metadata": {
    "colab": {
      "provenance": [],
      "authorship_tag": "ABX9TyNt+LbjshR+r2vySQtNUK9q",
      "include_colab_link": true
    },
    "kernelspec": {
      "name": "python3",
      "display_name": "Python 3"
    },
    "language_info": {
      "name": "python"
    }
  },
  "cells": [
    {
      "cell_type": "markdown",
      "metadata": {
        "id": "view-in-github",
        "colab_type": "text"
      },
      "source": [
        "<a href=\"https://colab.research.google.com/github/OJB-Quantum/Notebooks-for-Ideas/blob/main/GDSTK_Meandering_Curves.ipynb\" target=\"_parent\"><img src=\"https://colab.research.google.com/assets/colab-badge.svg\" alt=\"Open In Colab\"/></a>"
      ]
    },
    {
      "cell_type": "code",
      "execution_count": 1,
      "metadata": {
        "colab": {
          "base_uri": "https://localhost:8080/"
        },
        "id": "DYQQ8T411NbI",
        "outputId": "ff091b63-4b15-4ad0-eedb-bcde5c53cfc2"
      },
      "outputs": [
        {
          "output_type": "stream",
          "name": "stdout",
          "text": [
            "Collecting gdstk\n",
            "  Downloading gdstk-0.9.60-cp311-cp311-manylinux_2_28_x86_64.whl.metadata (8.8 kB)\n",
            "Collecting hilbertcurve\n",
            "  Downloading hilbertcurve-2.0.5-py3-none-any.whl.metadata (11 kB)\n",
            "Requirement already satisfied: numpy in /usr/local/lib/python3.11/dist-packages (from gdstk) (2.0.2)\n",
            "Downloading gdstk-0.9.60-cp311-cp311-manylinux_2_28_x86_64.whl (534 kB)\n",
            "\u001b[2K   \u001b[90m━━━━━━━━━━━━━━━━━━━━━━━━━━━━━━━━━━━━━━━━\u001b[0m \u001b[32m534.7/534.7 kB\u001b[0m \u001b[31m19.9 MB/s\u001b[0m eta \u001b[36m0:00:00\u001b[0m\n",
            "\u001b[?25hDownloading hilbertcurve-2.0.5-py3-none-any.whl (8.6 kB)\n",
            "Installing collected packages: hilbertcurve, gdstk\n",
            "Successfully installed gdstk-0.9.60 hilbertcurve-2.0.5\n"
          ]
        }
      ],
      "source": [
        "!pip install gdstk hilbertcurve"
      ]
    },
    {
      "cell_type": "code",
      "source": [
        "import gdstk\n",
        "import matplotlib.pyplot as plt\n",
        "import numpy as np\n",
        "\n",
        "# Parameters\n",
        "iterations = 20\n",
        "line_width = 1.0  # in microns\n",
        "segment_length = 10.0  # length of horizontal segments\n",
        "segment_height = 5.0   # height of vertical segments\n",
        "\n",
        "# Initialize starting point\n",
        "points = []\n",
        "x, y = 0.0, 0.0\n",
        "direction = 1  # 1 for up, -1 for down\n",
        "\n",
        "for i in range(iterations):\n",
        "    # Horizontal segment\n",
        "    x += segment_length\n",
        "    points.append((x, y))\n",
        "    # Vertical segment\n",
        "    y += direction * segment_height\n",
        "    points.append((x, y))\n",
        "    # Reverse direction\n",
        "    direction *= -1\n",
        "\n",
        "# Final horizontal segment to complete the pattern\n",
        "x += segment_length\n",
        "points.append((x, y))\n",
        "\n",
        "# Create FlexPath\n",
        "path = gdstk.FlexPath(points, line_width)\n",
        "\n",
        "# Create cell and library\n",
        "cell = gdstk.Cell(\"MEANDER_LINE\")\n",
        "cell.add(path)\n",
        "lib = gdstk.Library()\n",
        "lib.add(cell)\n",
        "\n",
        "# Write to GDSII file\n",
        "lib.write_gds(\"meander_line.gds\") # Be sure that this name matches the name of the output GDS\n",
        "\n",
        "# Plot using matplotlib\n",
        "fig, ax = plt.subplots()\n",
        "for polygon in path.to_polygons():\n",
        "    x_coords, y_coords = zip(*polygon.points)\n",
        "    ax.plot(x_coords, y_coords, 'k-')\n",
        "ax.set_aspect('equal')\n",
        "plt.title(\"Meander Line\")\n",
        "plt.xlabel(\"X (microns)\")\n",
        "plt.ylabel(\"Y (microns)\")\n",
        "plt.grid(True)\n",
        "plt.show()"
      ],
      "metadata": {
        "colab": {
          "base_uri": "https://localhost:8080/",
          "height": 117
        },
        "id": "3NfQkaOu1Xkh",
        "outputId": "ba26aacf-ff1d-4a18-d320-e8fdfddddbf1"
      },
      "execution_count": 2,
      "outputs": [
        {
          "output_type": "display_data",
          "data": {
            "text/plain": [
              "<Figure size 640x480 with 1 Axes>"
            ],
            "image/png": "[encoded data removed]"
          },
          "metadata": {}
        }
      ]
    },
    {
      "cell_type": "code",
      "source": [
        "from google.colab import files\n",
        "files.download(\"meander_line.gds\")"
      ],
      "metadata": {
        "colab": {
          "base_uri": "https://localhost:8080/",
          "height": 17
        },
        "id": "mPjhb_s71dll",
        "outputId": "ca5f647a-4aa0-4633-b745-0d98ad12cfde"
      },
      "execution_count": null,
      "outputs": [
        {
          "output_type": "display_data",
          "data": {
            "text/plain": [
              "<IPython.core.display.Javascript object>"
            ],
            "application/javascript": [
              "\n",
              "    async function download(id, filename, size) {\n",
              "      if (!google.colab.kernel.accessAllowed) {\n",
              "        return;\n",
              "      }\n",
              "      const div = document.createElement('div');\n",
              "      const label = document.createElement('label');\n",
              "      label.textContent = `Downloading \"${filename}\": `;\n",
              "      div.appendChild(label);\n",
              "      const progress = document.createElement('progress');\n",
              "      progress.max = size;\n",
              "      div.appendChild(progress);\n",
              "      document.body.appendChild(div);\n",
              "\n",
              "      const buffers = [];\n",
              "      let downloaded = 0;\n",
              "\n",
              "      const channel = await google.colab.kernel.comms.open(id);\n",
              "      // Send a message to notify the kernel that we're ready.\n",
              "      channel.send({})\n",
              "\n",
              "      for await (const message of channel.messages) {\n",
              "        // Send a message to notify the kernel that we're ready.\n",
              "        channel.send({})\n",
              "        if (message.buffers) {\n",
              "          for (const buffer of message.buffers) {\n",
              "            buffers.push(buffer);\n",
              "            downloaded += buffer.byteLength;\n",
              "            progress.value = downloaded;\n",
              "          }\n",
              "        }\n",
              "      }\n",
              "      const blob = new Blob(buffers, {type: 'application/binary'});\n",
              "      const a = document.createElement('a');\n",
              "      a.href = window.URL.createObjectURL(blob);\n",
              "      a.download = filename;\n",
              "      div.appendChild(a);\n",
              "      a.click();\n",
              "      div.remove();\n",
              "    }\n",
              "  "
            ]
          },
          "metadata": {}
        },
        {
          "output_type": "display_data",
          "data": {
            "text/plain": [
              "<IPython.core.display.Javascript object>"
            ],
            "application/javascript": [
              "download(\"download_acbd04ef-9337-41b9-8e04-a051b2d349e8\", \"meander_line.gds\", 806)"
            ]
          },
          "metadata": {}
        }
      ]
    },
    {
      "cell_type": "code",
      "source": [
        "import gdstk\n",
        "import matplotlib.pyplot as plt\n",
        "import numpy as np\n",
        "\n",
        "# Parameters\n",
        "iterations = 50\n",
        "line_width = 0.5  # in microns\n",
        "segment_length = 1.0  # length of horizontal segments\n",
        "segment_height = 10.0   # height of vertical segments\n",
        "\n",
        "# Initialize starting point\n",
        "points = []\n",
        "x, y = 0.0, 0.0\n",
        "direction = 1  # 1 for up, -1 for down\n",
        "\n",
        "for i in range(iterations):\n",
        "    # Horizontal segment\n",
        "    x += segment_length\n",
        "    points.append((x, y))\n",
        "    # Vertical segment\n",
        "    y += direction * segment_height\n",
        "    points.append((x, y))\n",
        "    # Reverse direction\n",
        "    direction *= -1\n",
        "\n",
        "# Final horizontal segment to complete the pattern\n",
        "x += segment_length\n",
        "points.append((x, y))\n",
        "\n",
        "# Create FlexPath\n",
        "path = gdstk.FlexPath(points, line_width)\n",
        "\n",
        "# Create cell and library\n",
        "cell = gdstk.Cell(\"MEANDER_LINE\")\n",
        "cell.add(path)\n",
        "lib = gdstk.Library()\n",
        "lib.add(cell)\n",
        "\n",
        "# Write to GDSII file\n",
        "lib.write_gds(\"wide_meander_line.gds\")\n",
        "\n",
        "# Plot using matplotlib\n",
        "fig, ax = plt.subplots()\n",
        "for polygon in path.to_polygons():\n",
        "    x_coords, y_coords = zip(*polygon.points)\n",
        "    ax.plot(x_coords, y_coords, 'k-')\n",
        "ax.set_aspect('equal')\n",
        "plt.title(\"Meander Line\")\n",
        "plt.xlabel(\"X (microns)\")\n",
        "plt.ylabel(\"Y (microns)\")\n",
        "plt.grid(True)\n",
        "plt.show()"
      ],
      "metadata": {
        "colab": {
          "base_uri": "https://localhost:8080/",
          "height": 206
        },
        "id": "vSgKeeAa153U",
        "outputId": "3a94088f-97e0-4b0e-e9ec-f32190416358"
      },
      "execution_count": null,
      "outputs": [
        {
          "output_type": "display_data",
          "data": {
            "text/plain": [
              "<Figure size 640x480 with 1 Axes>"
            ],
            "image/png": "[encoded data removed]"
          },
          "metadata": {}
        }
      ]
    },
    {
      "cell_type": "code",
      "source": [
        "from google.colab import files\n",
        "files.download(\"wide_meander_line.gds\")"
      ],
      "metadata": {
        "colab": {
          "base_uri": "https://localhost:8080/",
          "height": 17
        },
        "id": "vRls5RbP1727",
        "outputId": "cf6c535a-5072-4147-c5bf-2c54b1053c65"
      },
      "execution_count": null,
      "outputs": [
        {
          "output_type": "display_data",
          "data": {
            "text/plain": [
              "<IPython.core.display.Javascript object>"
            ],
            "application/javascript": [
              "\n",
              "    async function download(id, filename, size) {\n",
              "      if (!google.colab.kernel.accessAllowed) {\n",
              "        return;\n",
              "      }\n",
              "      const div = document.createElement('div');\n",
              "      const label = document.createElement('label');\n",
              "      label.textContent = `Downloading \"${filename}\": `;\n",
              "      div.appendChild(label);\n",
              "      const progress = document.createElement('progress');\n",
              "      progress.max = size;\n",
              "      div.appendChild(progress);\n",
              "      document.body.appendChild(div);\n",
              "\n",
              "      const buffers = [];\n",
              "      let downloaded = 0;\n",
              "\n",
              "      const channel = await google.colab.kernel.comms.open(id);\n",
              "      // Send a message to notify the kernel that we're ready.\n",
              "      channel.send({})\n",
              "\n",
              "      for await (const message of channel.messages) {\n",
              "        // Send a message to notify the kernel that we're ready.\n",
              "        channel.send({})\n",
              "        if (message.buffers) {\n",
              "          for (const buffer of message.buffers) {\n",
              "            buffers.push(buffer);\n",
              "            downloaded += buffer.byteLength;\n",
              "            progress.value = downloaded;\n",
              "          }\n",
              "        }\n",
              "      }\n",
              "      const blob = new Blob(buffers, {type: 'application/binary'});\n",
              "      const a = document.createElement('a');\n",
              "      a.href = window.URL.createObjectURL(blob);\n",
              "      a.download = filename;\n",
              "      div.appendChild(a);\n",
              "      a.click();\n",
              "      div.remove();\n",
              "    }\n",
              "  "
            ]
          },
          "metadata": {}
        },
        {
          "output_type": "display_data",
          "data": {
            "text/plain": [
              "<IPython.core.display.Javascript object>"
            ],
            "application/javascript": [
              "download(\"download_5e6d9eb2-b894-4182-a411-04bd0f07dd33\", \"wide_meander_line.gds\", 1814)"
            ]
          },
          "metadata": {}
        }
      ]
    },
    {
      "cell_type": "code",
      "source": [
        "import gdstk\n",
        "import numpy as np\n",
        "import matplotlib.pyplot as plt\n",
        "\n",
        "# Parameters\n",
        "total_length = 2000.0  # microns\n",
        "center_width = 10.0    # microns\n",
        "gap = 6.0              # microns\n",
        "segment_length = 100.0 # microns\n",
        "bend_radius = 100.0     # microns\n",
        "\n",
        "# Calculate the number of segments needed\n",
        "num_segments = int(total_length / segment_length)\n",
        "\n",
        "# Initialize starting point\n",
        "x, y = 0.0, 0.0\n",
        "direction = 1  # 1 for up, -1 for down\n",
        "\n",
        "# Create path points\n",
        "points = [(x, y)]\n",
        "for i in range(num_segments):\n",
        "    x += segment_length\n",
        "    points.append((x, y))\n",
        "    y += direction * segment_length\n",
        "    points.append((x, y))\n",
        "    direction *= -1  # Reverse direction\n",
        "\n",
        "# Create RobustPath for center conductor\n",
        "center_path = gdstk.RobustPath(points[0], center_width, layer=1)\n",
        "for pt in points[1:]:\n",
        "    center_path.segment(pt)\n",
        "\n",
        "# Create RobustPaths for gaps (left and right)\n",
        "left_gap = gdstk.RobustPath(points[0], center_width, offset=center_width/2 + gap, layer=2)\n",
        "right_gap = gdstk.RobustPath(points[0], center_width, offset=-(center_width/2 + gap), layer=2)\n",
        "for pt in points[1:]:\n",
        "    left_gap.segment(pt)\n",
        "    right_gap.segment(pt)\n",
        "\n",
        "# Create cell and library\n",
        "cell = gdstk.Cell(\"MEANDERING_CPW\")\n",
        "cell.add(center_path)\n",
        "cell.add(left_gap)\n",
        "cell.add(right_gap)\n",
        "lib = gdstk.Library()\n",
        "lib.add(cell)\n",
        "\n",
        "# Write to GDSII file\n",
        "lib.write_gds(\"meandering_cpw.gds\")\n",
        "\n",
        "# Plot using matplotlib\n",
        "fig, ax = plt.subplots()\n",
        "for path in [center_path, left_gap, right_gap]:\n",
        "    for polygon in path.to_polygons():\n",
        "        x_coords, y_coords = zip(*polygon.points)\n",
        "        ax.plot(x_coords, y_coords, 'k-')\n",
        "ax.set_aspect('equal')\n",
        "plt.title(\"Meandering Coplanar Waveguide (CPW)\")\n",
        "ax.set_xlabel(\"X (microns)\")\n",
        "ax.set_ylabel(\"Y (microns)\")\n",
        "ax.grid(True)\n",
        "plt.show()"
      ],
      "metadata": {
        "id": "wx8k8SpbhYV4",
        "outputId": "320b14a0-a0e5-43be-e392-35d50c80c2b7",
        "colab": {
          "base_uri": "https://localhost:8080/",
          "height": 135
        }
      },
      "execution_count": 28,
      "outputs": [
        {
          "output_type": "display_data",
          "data": {
            "text/plain": [
              "<Figure size 640x480 with 1 Axes>"
            ],
            "image/png": "[encoded data removed]"
          },
          "metadata": {}
        }
      ]
    },
    {
      "cell_type": "code",
      "source": [
        "from google.colab import files\n",
        "files.download(\"meandering_cpw.gds\")"
      ],
      "metadata": {
        "id": "cuSb-MRjhW3d",
        "outputId": "0ed3279c-3f49-48bf-83ad-fcbc16e8c811",
        "colab": {
          "base_uri": "https://localhost:8080/",
          "height": 17
        }
      },
      "execution_count": 29,
      "outputs": [
        {
          "output_type": "display_data",
          "data": {
            "text/plain": [
              "<IPython.core.display.Javascript object>"
            ],
            "application/javascript": [
              "\n",
              "    async function download(id, filename, size) {\n",
              "      if (!google.colab.kernel.accessAllowed) {\n",
              "        return;\n",
              "      }\n",
              "      const div = document.createElement('div');\n",
              "      const label = document.createElement('label');\n",
              "      label.textContent = `Downloading \"${filename}\": `;\n",
              "      div.appendChild(label);\n",
              "      const progress = document.createElement('progress');\n",
              "      progress.max = size;\n",
              "      div.appendChild(progress);\n",
              "      document.body.appendChild(div);\n",
              "\n",
              "      const buffers = [];\n",
              "      let downloaded = 0;\n",
              "\n",
              "      const channel = await google.colab.kernel.comms.open(id);\n",
              "      // Send a message to notify the kernel that we're ready.\n",
              "      channel.send({})\n",
              "\n",
              "      for await (const message of channel.messages) {\n",
              "        // Send a message to notify the kernel that we're ready.\n",
              "        channel.send({})\n",
              "        if (message.buffers) {\n",
              "          for (const buffer of message.buffers) {\n",
              "            buffers.push(buffer);\n",
              "            downloaded += buffer.byteLength;\n",
              "            progress.value = downloaded;\n",
              "          }\n",
              "        }\n",
              "      }\n",
              "      const blob = new Blob(buffers, {type: 'application/binary'});\n",
              "      const a = document.createElement('a');\n",
              "      a.href = window.URL.createObjectURL(blob);\n",
              "      a.download = filename;\n",
              "      div.appendChild(a);\n",
              "      a.click();\n",
              "      div.remove();\n",
              "    }\n",
              "  "
            ]
          },
          "metadata": {}
        },
        {
          "output_type": "display_data",
          "data": {
            "text/plain": [
              "<IPython.core.display.Javascript object>"
            ],
            "application/javascript": [
              "download(\"download_0181f197-4425-452a-809a-5e050d33aae4\", \"meandering_cpw.gds\", 2344)"
            ]
          },
          "metadata": {}
        }
      ]
    }
  ]
}