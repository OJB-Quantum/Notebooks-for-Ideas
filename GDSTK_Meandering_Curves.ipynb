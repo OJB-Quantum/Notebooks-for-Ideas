{
  "nbformat": 4,
  "nbformat_minor": 0,
  "metadata": {
    "colab": {
      "provenance": [],
      "authorship_tag": "ABX9TyMmZXmDpDNi8hSFsNNyWATI",
      "include_colab_link": true
    },
    "kernelspec": {
      "name": "python3",
      "display_name": "Python 3"
    },
    "language_info": {
      "name": "python"
    }
  },
  "cells": [
    {
      "cell_type": "markdown",
      "metadata": {
        "id": "view-in-github",
        "colab_type": "text"
      },
      "source": [
        "<a href=\"https://colab.research.google.com/github/OJB-Quantum/Notebooks-for-Ideas/blob/main/GDSTK_Meandering_Curves.ipynb\" target=\"_parent\"><img src=\"https://colab.research.google.com/assets/colab-badge.svg\" alt=\"Open In Colab\"/></a>"
      ]
    },
    {
      "cell_type": "code",
      "execution_count": 1,
      "metadata": {
        "colab": {
          "base_uri": "https://localhost:8080/"
        },
        "id": "DYQQ8T411NbI",
        "outputId": "db7f7cd4-aa51-48bc-81fb-25885dd3bd8f"
      },
      "outputs": [
        {
          "output_type": "stream",
          "name": "stdout",
          "text": [
            "Collecting gdstk\n",
            "  Downloading gdstk-0.9.60-cp311-cp311-manylinux_2_28_x86_64.whl.metadata (8.8 kB)\n",
            "Collecting hilbertcurve\n",
            "  Downloading hilbertcurve-2.0.5-py3-none-any.whl.metadata (11 kB)\n",
            "Requirement already satisfied: numpy in /usr/local/lib/python3.11/dist-packages (from gdstk) (2.0.2)\n",
            "Downloading gdstk-0.9.60-cp311-cp311-manylinux_2_28_x86_64.whl (534 kB)\n",
            "\u001b[2K   \u001b[90m━━━━━━━━━━━━━━━━━━━━━━━━━━━━━━━━━━━━━━━━\u001b[0m \u001b[32m534.7/534.7 kB\u001b[0m \u001b[31m8.5 MB/s\u001b[0m eta \u001b[36m0:00:00\u001b[0m\n",
            "\u001b[?25hDownloading hilbertcurve-2.0.5-py3-none-any.whl (8.6 kB)\n",
            "Installing collected packages: hilbertcurve, gdstk\n",
            "Successfully installed gdstk-0.9.60 hilbertcurve-2.0.5\n"
          ]
        }
      ],
      "source": [
        "!pip install gdstk hilbertcurve"
      ]
    },
    {
      "cell_type": "code",
      "source": [
        "import gdstk\n",
        "import matplotlib.pyplot as plt\n",
        "import numpy as np\n",
        "\n",
        "# Parameters\n",
        "iterations = 20\n",
        "line_width = 1.0  # in microns\n",
        "segment_length = 10.0  # length of horizontal segments\n",
        "segment_height = 5.0   # height of vertical segments\n",
        "\n",
        "# Initialize starting point\n",
        "points = []\n",
        "x, y = 0.0, 0.0\n",
        "direction = 1  # 1 for up, -1 for down\n",
        "\n",
        "for i in range(iterations):\n",
        "    # Horizontal segment\n",
        "    x += segment_length\n",
        "    points.append((x, y))\n",
        "    # Vertical segment\n",
        "    y += direction * segment_height\n",
        "    points.append((x, y))\n",
        "    # Reverse direction\n",
        "    direction *= -1\n",
        "\n",
        "# Final horizontal segment to complete the pattern\n",
        "x += segment_length\n",
        "points.append((x, y))\n",
        "\n",
        "# Create FlexPath\n",
        "path = gdstk.FlexPath(points, line_width)\n",
        "\n",
        "# Create cell and library\n",
        "cell = gdstk.Cell(\"MEANDER_LINE\")\n",
        "cell.add(path)\n",
        "lib = gdstk.Library()\n",
        "lib.add(cell)\n",
        "\n",
        "# Write to GDSII file\n",
        "lib.write_gds(\"meander_line.gds\") # Be sure that this name matches the name of the output GDS\n",
        "\n",
        "# Plot using matplotlib\n",
        "fig, ax = plt.subplots()\n",
        "for polygon in path.to_polygons():\n",
        "    x_coords, y_coords = zip(*polygon.points)\n",
        "    ax.plot(x_coords, y_coords, 'k-')\n",
        "ax.set_aspect('equal')\n",
        "plt.title(\"Meander Line\")\n",
        "plt.xlabel(\"X (microns)\")\n",
        "plt.ylabel(\"Y (microns)\")\n",
        "plt.grid(True)\n",
        "plt.show()"
      ],
      "metadata": {
        "colab": {
          "base_uri": "https://localhost:8080/",
          "height": 117
        },
        "id": "3NfQkaOu1Xkh",
        "outputId": "1e52cc67-0294-4bf7-8e73-71ec3fdd081d"
      },
      "execution_count": 8,
      "outputs": [
        {
          "output_type": "display_data",
          "data": {
            "text/plain": [
              "<Figure size 640x480 with 1 Axes>"
            ],
            "image/png": "[encoded data removed]"
          },
          "metadata": {}
        }
      ]
    },
    {
      "cell_type": "code",
      "source": [
        "from google.colab import files\n",
        "files.download(\"meander_line.gds\")"
      ],
      "metadata": {
        "colab": {
          "base_uri": "https://localhost:8080/",
          "height": 17
        },
        "id": "mPjhb_s71dll",
        "outputId": "ca5f647a-4aa0-4633-b745-0d98ad12cfde"
      },
      "execution_count": 3,
      "outputs": [
        {
          "output_type": "display_data",
          "data": {
            "text/plain": [
              "<IPython.core.display.Javascript object>"
            ],
            "application/javascript": [
              "\n",
              "    async function download(id, filename, size) {\n",
              "      if (!google.colab.kernel.accessAllowed) {\n",
              "        return;\n",
              "      }\n",
              "      const div = document.createElement('div');\n",
              "      const label = document.createElement('label');\n",
              "      label.textContent = `Downloading \"${filename}\": `;\n",
              "      div.appendChild(label);\n",
              "      const progress = document.createElement('progress');\n",
              "      progress.max = size;\n",
              "      div.appendChild(progress);\n",
              "      document.body.appendChild(div);\n",
              "\n",
              "      const buffers = [];\n",
              "      let downloaded = 0;\n",
              "\n",
              "      const channel = await google.colab.kernel.comms.open(id);\n",
              "      // Send a message to notify the kernel that we're ready.\n",
              "      channel.send({})\n",
              "\n",
              "      for await (const message of channel.messages) {\n",
              "        // Send a message to notify the kernel that we're ready.\n",
              "        channel.send({})\n",
              "        if (message.buffers) {\n",
              "          for (const buffer of message.buffers) {\n",
              "            buffers.push(buffer);\n",
              "            downloaded += buffer.byteLength;\n",
              "            progress.value = downloaded;\n",
              "          }\n",
              "        }\n",
              "      }\n",
              "      const blob = new Blob(buffers, {type: 'application/binary'});\n",
              "      const a = document.createElement('a');\n",
              "      a.href = window.URL.createObjectURL(blob);\n",
              "      a.download = filename;\n",
              "      div.appendChild(a);\n",
              "      a.click();\n",
              "      div.remove();\n",
              "    }\n",
              "  "
            ]
          },
          "metadata": {}
        },
        {
          "output_type": "display_data",
          "data": {
            "text/plain": [
              "<IPython.core.display.Javascript object>"
            ],
            "application/javascript": [
              "download(\"download_acbd04ef-9337-41b9-8e04-a051b2d349e8\", \"meander_line.gds\", 806)"
            ]
          },
          "metadata": {}
        }
      ]
    },
    {
      "cell_type": "code",
      "source": [
        "import gdstk\n",
        "import matplotlib.pyplot as plt\n",
        "import numpy as np\n",
        "\n",
        "# Parameters\n",
        "iterations = 50\n",
        "line_width = 0.5  # in microns\n",
        "segment_length = 1.0  # length of horizontal segments\n",
        "segment_height = 10.0   # height of vertical segments\n",
        "\n",
        "# Initialize starting point\n",
        "points = []\n",
        "x, y = 0.0, 0.0\n",
        "direction = 1  # 1 for up, -1 for down\n",
        "\n",
        "for i in range(iterations):\n",
        "    # Horizontal segment\n",
        "    x += segment_length\n",
        "    points.append((x, y))\n",
        "    # Vertical segment\n",
        "    y += direction * segment_height\n",
        "    points.append((x, y))\n",
        "    # Reverse direction\n",
        "    direction *= -1\n",
        "\n",
        "# Final horizontal segment to complete the pattern\n",
        "x += segment_length\n",
        "points.append((x, y))\n",
        "\n",
        "# Create FlexPath\n",
        "path = gdstk.FlexPath(points, line_width)\n",
        "\n",
        "# Create cell and library\n",
        "cell = gdstk.Cell(\"MEANDER_LINE\")\n",
        "cell.add(path)\n",
        "lib = gdstk.Library()\n",
        "lib.add(cell)\n",
        "\n",
        "# Write to GDSII file\n",
        "lib.write_gds(\"wide_meander_line.gds\")\n",
        "\n",
        "# Plot using matplotlib\n",
        "fig, ax = plt.subplots()\n",
        "for polygon in path.to_polygons():\n",
        "    x_coords, y_coords = zip(*polygon.points)\n",
        "    ax.plot(x_coords, y_coords, 'k-')\n",
        "ax.set_aspect('equal')\n",
        "plt.title(\"Meander Line\")\n",
        "plt.xlabel(\"X (microns)\")\n",
        "plt.ylabel(\"Y (microns)\")\n",
        "plt.grid(True)\n",
        "plt.show()"
      ],
      "metadata": {
        "colab": {
          "base_uri": "https://localhost:8080/",
          "height": 206
        },
        "id": "vSgKeeAa153U",
        "outputId": "3a94088f-97e0-4b0e-e9ec-f32190416358"
      },
      "execution_count": 9,
      "outputs": [
        {
          "output_type": "display_data",
          "data": {
            "text/plain": [
              "<Figure size 640x480 with 1 Axes>"
            ],
            "image/png": "[encoded data removed]"
          },
          "metadata": {}
        }
      ]
    },
    {
      "cell_type": "code",
      "source": [
        "from google.colab import files\n",
        "files.download(\"wide_meander_line.gds\")"
      ],
      "metadata": {
        "colab": {
          "base_uri": "https://localhost:8080/",
          "height": 17
        },
        "id": "vRls5RbP1727",
        "outputId": "cf6c535a-5072-4147-c5bf-2c54b1053c65"
      },
      "execution_count": 10,
      "outputs": [
        {
          "output_type": "display_data",
          "data": {
            "text/plain": [
              "<IPython.core.display.Javascript object>"
            ],
            "application/javascript": [
              "\n",
              "    async function download(id, filename, size) {\n",
              "      if (!google.colab.kernel.accessAllowed) {\n",
              "        return;\n",
              "      }\n",
              "      const div = document.createElement('div');\n",
              "      const label = document.createElement('label');\n",
              "      label.textContent = `Downloading \"${filename}\": `;\n",
              "      div.appendChild(label);\n",
              "      const progress = document.createElement('progress');\n",
              "      progress.max = size;\n",
              "      div.appendChild(progress);\n",
              "      document.body.appendChild(div);\n",
              "\n",
              "      const buffers = [];\n",
              "      let downloaded = 0;\n",
              "\n",
              "      const channel = await google.colab.kernel.comms.open(id);\n",
              "      // Send a message to notify the kernel that we're ready.\n",
              "      channel.send({})\n",
              "\n",
              "      for await (const message of channel.messages) {\n",
              "        // Send a message to notify the kernel that we're ready.\n",
              "        channel.send({})\n",
              "        if (message.buffers) {\n",
              "          for (const buffer of message.buffers) {\n",
              "            buffers.push(buffer);\n",
              "            downloaded += buffer.byteLength;\n",
              "            progress.value = downloaded;\n",
              "          }\n",
              "        }\n",
              "      }\n",
              "      const blob = new Blob(buffers, {type: 'application/binary'});\n",
              "      const a = document.createElement('a');\n",
              "      a.href = window.URL.createObjectURL(blob);\n",
              "      a.download = filename;\n",
              "      div.appendChild(a);\n",
              "      a.click();\n",
              "      div.remove();\n",
              "    }\n",
              "  "
            ]
          },
          "metadata": {}
        },
        {
          "output_type": "display_data",
          "data": {
            "text/plain": [
              "<IPython.core.display.Javascript object>"
            ],
            "application/javascript": [
              "download(\"download_5e6d9eb2-b894-4182-a411-04bd0f07dd33\", \"wide_meander_line.gds\", 1814)"
            ]
          },
          "metadata": {}
        }
      ]
    }
  ]
}