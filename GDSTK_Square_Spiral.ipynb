{
  "nbformat": 4,
  "nbformat_minor": 0,
  "metadata": {
    "colab": {
      "provenance": [],
      "authorship_tag": "ABX9TyPfCnhaPGbLM2+wq+T6EyC0",
      "include_colab_link": true
    },
    "kernelspec": {
      "name": "python3",
      "display_name": "Python 3"
    },
    "language_info": {
      "name": "python"
    }
  },
  "cells": [
    {
      "cell_type": "markdown",
      "metadata": {
        "id": "view-in-github",
        "colab_type": "text"
      },
      "source": [
        "<a href=\"https://colab.research.google.com/github/OJB-Quantum/Notebooks-for-Ideas/blob/main/GDSTK_Square_Spiral.ipynb\" target=\"_parent\"><img src=\"https://colab.research.google.com/assets/colab-badge.svg\" alt=\"Open In Colab\"/></a>"
      ]
    },
    {
      "cell_type": "markdown",
      "source": [
        "Running this script will generate a square spiral, with a plot preview using matplotlib. Once the design is downloaded at the end, please be sure to add the \".gds\" file extension when saving the file to your local machine."
      ],
      "metadata": {
        "id": "f4OKjsTI_GLS"
      }
    },
    {
      "cell_type": "code",
      "execution_count": 1,
      "metadata": {
        "colab": {
          "base_uri": "https://localhost:8080/"
        },
        "id": "4gBspARv8VOT",
        "outputId": "16b658c3-7a5e-45c3-9d8f-bbff6e77af2a"
      },
      "outputs": [
        {
          "output_type": "stream",
          "name": "stdout",
          "text": [
            "Collecting gdstk\n",
            "  Downloading gdstk-0.9.60-cp311-cp311-manylinux_2_28_x86_64.whl.metadata (8.8 kB)\n",
            "Requirement already satisfied: numpy in /usr/local/lib/python3.11/dist-packages (from gdstk) (2.0.2)\n",
            "Downloading gdstk-0.9.60-cp311-cp311-manylinux_2_28_x86_64.whl (534 kB)\n",
            "\u001b[2K   \u001b[90m━━━━━━━━━━━━━━━━━━━━━━━━━━━━━━━━━━━━━━━━\u001b[0m \u001b[32m534.7/534.7 kB\u001b[0m \u001b[31m16.7 MB/s\u001b[0m eta \u001b[36m0:00:00\u001b[0m\n",
            "\u001b[?25hInstalling collected packages: gdstk\n",
            "Successfully installed gdstk-0.9.60\n"
          ]
        }
      ],
      "source": [
        "!pip install gdstk"
      ]
    },
    {
      "cell_type": "code",
      "source": [
        "import gdstk\n",
        "import matplotlib.pyplot as plt\n",
        "import numpy as np\n",
        "\n",
        "# Parameters\n",
        "turns = 10\n",
        "step = 10  # Length of each segment\n",
        "start_x, start_y = 0, 0  # Starting point\n",
        "\n",
        "# Initialize path\n",
        "path = gdstk.FlexPath([(start_x, start_y)], width=1)\n",
        "\n",
        "# Directions: right, up, left, down\n",
        "directions = [(1, 0), (0, 1), (-1, 0), (0, -1)]\n",
        "\n",
        "# Build the spiral\n",
        "current_pos = np.array([start_x, start_y], dtype=float)\n",
        "length = step\n",
        "for i in range(1, 2 * turns + 1):\n",
        "    direction = directions[(i - 1) % 4]\n",
        "    delta = np.array(direction) * length\n",
        "    current_pos += delta\n",
        "    path.segment(current_pos)\n",
        "    if i % 2 == 0:\n",
        "        length += step\n",
        "\n",
        "# Create a cell and add the path\n",
        "cell = gdstk.Cell(\"SPIRAL\")\n",
        "cell.add(path)\n",
        "\n",
        "# Create a library and add the cell\n",
        "lib = gdstk.Library()\n",
        "lib.add(cell)\n",
        "\n",
        "# Save to a GDSII file\n",
        "lib.write_gds(\"square_spiral.gds\")\n",
        "\n",
        "# Plot using matplotlib\n",
        "fig, ax = plt.subplots()\n",
        "for polygon in path.to_polygons():\n",
        "    points = polygon.points  # Access the array of points\n",
        "    x, y = zip(*points)      # Unpack the points into x and y coordinates\n",
        "    ax.plot(x, y, 'k-')      # Plot the polygon\n",
        "ax.set_aspect('equal')\n",
        "plt.title(\"2D Square Spiral with 10 Turns\")\n",
        "plt.xlabel(\"X\")\n",
        "plt.ylabel(\"Y\")\n",
        "plt.grid(True)\n",
        "plt.show()"
      ],
      "metadata": {
        "colab": {
          "base_uri": "https://localhost:8080/",
          "height": 472
        },
        "id": "VTcctmVC9xgC",
        "outputId": "3407a498-122a-436c-dfe4-2a53916b5e00"
      },
      "execution_count": 3,
      "outputs": [
        {
          "output_type": "display_data",
          "data": {
            "text/plain": [
              "<Figure size 640x480 with 1 Axes>"
            ],
            "image/png": "[encoded data removed]"
          },
          "metadata": {}
        }
      ]
    },
    {
      "cell_type": "code",
      "source": [
        "from google.colab import files\n",
        "files.download(\"square_spiral.gds\")"
      ],
      "metadata": {
        "colab": {
          "base_uri": "https://localhost:8080/",
          "height": 17
        },
        "id": "imXK6nTR-LiM",
        "outputId": "35d0fd71-c2f7-4f4b-e810-cccabfff623c"
      },
      "execution_count": 4,
      "outputs": [
        {
          "output_type": "display_data",
          "data": {
            "text/plain": [
              "<IPython.core.display.Javascript object>"
            ],
            "application/javascript": [
              "\n",
              "    async function download(id, filename, size) {\n",
              "      if (!google.colab.kernel.accessAllowed) {\n",
              "        return;\n",
              "      }\n",
              "      const div = document.createElement('div');\n",
              "      const label = document.createElement('label');\n",
              "      label.textContent = `Downloading \"${filename}\": `;\n",
              "      div.appendChild(label);\n",
              "      const progress = document.createElement('progress');\n",
              "      progress.max = size;\n",
              "      div.appendChild(progress);\n",
              "      document.body.appendChild(div);\n",
              "\n",
              "      const buffers = [];\n",
              "      let downloaded = 0;\n",
              "\n",
              "      const channel = await google.colab.kernel.comms.open(id);\n",
              "      // Send a message to notify the kernel that we're ready.\n",
              "      channel.send({})\n",
              "\n",
              "      for await (const message of channel.messages) {\n",
              "        // Send a message to notify the kernel that we're ready.\n",
              "        channel.send({})\n",
              "        if (message.buffers) {\n",
              "          for (const buffer of message.buffers) {\n",
              "            buffers.push(buffer);\n",
              "            downloaded += buffer.byteLength;\n",
              "            progress.value = downloaded;\n",
              "          }\n",
              "        }\n",
              "      }\n",
              "      const blob = new Blob(buffers, {type: 'application/binary'});\n",
              "      const a = document.createElement('a');\n",
              "      a.href = window.URL.createObjectURL(blob);\n",
              "      a.download = filename;\n",
              "      div.appendChild(a);\n",
              "      a.click();\n",
              "      div.remove();\n",
              "    }\n",
              "  "
            ]
          },
          "metadata": {}
        },
        {
          "output_type": "display_data",
          "data": {
            "text/plain": [
              "<IPython.core.display.Javascript object>"
            ],
            "application/javascript": [
              "download(\"download_2bb5c177-5b6d-4793-80c7-535ed27bb21e\", \"square_spiral.gds\", 480)"
            ]
          },
          "metadata": {}
        }
      ]
    }
  ]
}