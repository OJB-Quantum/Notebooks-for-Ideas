{
  "nbformat": 4,
  "nbformat_minor": 0,
  "metadata": {
    "colab": {
      "provenance": [],
      "include_colab_link": true
    },
    "kernelspec": {
      "name": "python3",
      "display_name": "Python 3"
    },
    "language_info": {
      "name": "python"
    }
  },
  "cells": [
    {
      "cell_type": "markdown",
      "metadata": {
        "id": "view-in-github",
        "colab_type": "text"
      },
      "source": [
        "<a href=\"https://colab.research.google.com/github/OJB-Quantum/Notebooks-for-Ideas/blob/main/Image_to_SVG_Converter_Attempt.ipynb\" target=\"_parent\"><img src=\"https://colab.research.google.com/assets/colab-badge.svg\" alt=\"Open In Colab\"/></a>"
      ]
    },
    {
      "cell_type": "code",
      "source": [
        "!pip install Pillow scikit-image cairosvg"
      ],
      "metadata": {
        "colab": {
          "base_uri": "https://localhost:8080/"
        },
        "id": "VLjD6auVGqwX",
        "outputId": "4c0db151-6173-49ce-a8c9-5a61983ed8f7"
      },
      "execution_count": null,
      "outputs": [
        {
          "output_type": "stream",
          "name": "stdout",
          "text": [
            "Requirement already satisfied: Pillow in /usr/local/lib/python3.10/dist-packages (9.4.0)\n",
            "Requirement already satisfied: scikit-image in /usr/local/lib/python3.10/dist-packages (0.23.2)\n",
            "Requirement already satisfied: cairosvg in /usr/local/lib/python3.10/dist-packages (2.7.1)\n",
            "Requirement already satisfied: numpy>=1.23 in /usr/local/lib/python3.10/dist-packages (from scikit-image) (1.26.4)\n",
            "Requirement already satisfied: scipy>=1.9 in /usr/local/lib/python3.10/dist-packages (from scikit-image) (1.13.1)\n",
            "Requirement already satisfied: networkx>=2.8 in /usr/local/lib/python3.10/dist-packages (from scikit-image) (3.3)\n",
            "Requirement already satisfied: imageio>=2.33 in /usr/local/lib/python3.10/dist-packages (from scikit-image) (2.34.2)\n",
            "Requirement already satisfied: tifffile>=2022.8.12 in /usr/local/lib/python3.10/dist-packages (from scikit-image) (2024.8.30)\n",
            "Requirement already satisfied: packaging>=21 in /usr/local/lib/python3.10/dist-packages (from scikit-image) (24.1)\n",
            "Requirement already satisfied: lazy-loader>=0.4 in /usr/local/lib/python3.10/dist-packages (from scikit-image) (0.4)\n",
            "Requirement already satisfied: cairocffi in /usr/local/lib/python3.10/dist-packages (from cairosvg) (1.7.1)\n",
            "Requirement already satisfied: cssselect2 in /usr/local/lib/python3.10/dist-packages (from cairosvg) (0.7.0)\n",
            "Requirement already satisfied: defusedxml in /usr/local/lib/python3.10/dist-packages (from cairosvg) (0.7.1)\n",
            "Requirement already satisfied: tinycss2 in /usr/local/lib/python3.10/dist-packages (from cairosvg) (1.3.0)\n",
            "Requirement already satisfied: cffi>=1.1.0 in /usr/local/lib/python3.10/dist-packages (from cairocffi->cairosvg) (1.17.1)\n",
            "Requirement already satisfied: webencodings in /usr/local/lib/python3.10/dist-packages (from cssselect2->cairosvg) (0.5.1)\n",
            "Requirement already satisfied: pycparser in /usr/local/lib/python3.10/dist-packages (from cffi>=1.1.0->cairocffi->cairosvg) (2.22)\n"
          ]
        }
      ]
    },
    {
      "cell_type": "code",
      "source": [
        "from google.colab import files\n",
        "from PIL import Image\n",
        "import numpy as np\n",
        "from skimage import measure\n",
        "import io\n",
        "from IPython.display import SVG, display"
      ],
      "metadata": {
        "id": "bH5IhOmwG9pX"
      },
      "execution_count": null,
      "outputs": []
    },
    {
      "cell_type": "code",
      "source": [
        "def upload_image():\n",
        "    uploaded = files.upload()  # Allows you to upload an image from your local machine\n",
        "    for filename in uploaded.keys():\n",
        "        return filename  # Return the filename of the uploaded file\n",
        "\n",
        "def resize_image(image, max_resolution=(2560, 1440)):\n",
        "    # Resize the image to fit within 2560x1440 while maintaining the aspect ratio\n",
        "    image.thumbnail(max_resolution, Image.ANTIALIAS)\n",
        "    return image\n",
        "\n",
        "def convert_image_to_svg(image_path, output_svg_path):\n",
        "    # Load the image and reduce its resolution\n",
        "    image = Image.open(image_path)\n",
        "    image = resize_image(image, max_resolution=(2560, 1440))  # Resize to 2.5K resolution\n",
        "\n",
        "    # Convert the image to 8-bit (256 colors)\n",
        "    image = image.convert('P', palette=Image.ADAPTIVE, colors=256)\n",
        "\n",
        "    # Get the color palette (list of RGB values)\n",
        "    palette = image.getpalette()\n",
        "    palette = [palette[i:i+3] for i in range(0, len(palette), 3)]\n",
        "\n",
        "    # Convert image to a NumPy array\n",
        "    image_array = np.array(image)\n",
        "\n",
        "    # Create an SVG file and write the contours with color fills\n",
        "    svg_data = io.StringIO()\n",
        "    svg_data.write('<svg xmlns=\"http://www.w3.org/2000/svg\" version=\"1.1\">\\n')\n",
        "\n",
        "    # Loop over all the colors in the palette\n",
        "    unique_colors = np.unique(image_array)\n",
        "    for color_index in unique_colors:\n",
        "        # Extract contours for the current color\n",
        "        mask = (image_array == color_index).astype(np.uint8)\n",
        "        contours = measure.find_contours(mask, level=0.8)\n",
        "\n",
        "        # Get the RGB value for the current color from the palette\n",
        "        color_rgb = palette[color_index]\n",
        "        fill_color = f'rgb({color_rgb[0]},{color_rgb[1]},{color_rgb[2]})'\n",
        "\n",
        "        for contour in contours:\n",
        "            svg_data.write(f'<path d=\"M ')\n",
        "            for point in contour:\n",
        "                svg_data.write(f'{point[1]},{point[0]} ')\n",
        "            svg_data.write(f'\" fill=\"{fill_color}\" stroke=\"none\"/>\\n')\n",
        "\n",
        "    svg_data.write('</svg>')\n",
        "\n",
        "    # Save the SVG file\n",
        "    with open(output_svg_path, 'w') as f:\n",
        "        f.write(svg_data.getvalue())\n",
        "\n",
        "    return svg_data.getvalue()\n",
        "\n",
        "def display_svg(svg_content):\n",
        "    # Convert the SVG content to a data URL for display\n",
        "    svg_bytes = svg_content.encode('utf-8')\n",
        "    display(SVG(data=svg_bytes))\n",
        "\n",
        "# Upload an image\n",
        "image_path = upload_image()\n",
        "\n",
        "# Path to the output SVG file\n",
        "output_svg_path = 'output_image.svg'\n",
        "\n",
        "# Convert the image to SVG with 8-bit color representation and 2.5K resolution\n",
        "svg_content = convert_image_to_svg(image_path, output_svg_path)\n",
        "\n",
        "# Preview the SVG\n",
        "display_svg(svg_content)\n",
        "\n",
        "print(f\"SVG saved at: {output_svg_path}\")"
      ],
      "metadata": {
        "id": "ttGom5gBPk6H"
      },
      "execution_count": null,
      "outputs": []
    },
    {
      "cell_type": "code",
      "source": [
        "# Maximum allowed window size\n",
        "MAX_WIDTH = 2560\n",
        "MAX_HEIGHT = 1440\n",
        "\n",
        "def upload_image():\n",
        "    # Function to upload the image\n",
        "    from google.colab import files\n",
        "    uploaded = files.upload()  # Allows you to upload an image from your local machine\n",
        "    for filename in uploaded.keys():\n",
        "        return filename  # Return the filename of the uploaded file\n",
        "\n",
        "def scale_dimensions(original_width, original_height):\n",
        "    # Calculate scaling factor to fit within the 2560x1440 window\n",
        "    width_scale = MAX_WIDTH / original_width\n",
        "    height_scale = MAX_HEIGHT / original_height\n",
        "    scale_factor = min(width_scale, height_scale)  # Use the smaller scale to fit both dimensions\n",
        "\n",
        "    return scale_factor\n",
        "\n",
        "def convert_image_to_svg(image_path, output_svg_path):\n",
        "    # Load the image and quantize it to 8-bit (256 colors)\n",
        "    image = Image.open(image_path).convert('P', palette=Image.ADAPTIVE, colors=256)\n",
        "\n",
        "    # Get the original image dimensions\n",
        "    original_width, original_height = image.size\n",
        "    scale_factor = scale_dimensions(original_width, original_height)\n",
        "\n",
        "    # Get the color palette (list of RGB values)\n",
        "    palette = image.getpalette()\n",
        "    palette = [palette[i:i+3] for i in range(0, len(palette), 3)]\n",
        "\n",
        "    # Convert image to a NumPy array\n",
        "    image_array = np.array(image)\n",
        "\n",
        "    # Create an SVG file and write the contours with color fills\n",
        "    svg_data = io.StringIO()\n",
        "    svg_data.write(f'<svg xmlns=\"http://www.w3.org/2000/svg\" version=\"1.1\" width=\"{original_width * scale_factor}\" height=\"{original_height * scale_factor}\">\\n')\n",
        "\n",
        "    # Loop over all the colors in the palette\n",
        "    unique_colors = np.unique(image_array)\n",
        "    for color_index in unique_colors:\n",
        "        # Extract contours for the current color\n",
        "        mask = (image_array == color_index).astype(np.uint8)\n",
        "        contours = measure.find_contours(mask, level=0.8)\n",
        "\n",
        "        # Get the RGB value for the current color from the palette\n",
        "        color_rgb = palette[color_index]\n",
        "        fill_color = f'rgb({color_rgb[0]},{color_rgb[1]},{color_rgb[2]})'\n",
        "\n",
        "        for contour in contours:\n",
        "            svg_data.write(f'<path d=\"M ')\n",
        "            for point in contour:\n",
        "                # Apply scaling to the contour points\n",
        "                svg_data.write(f'{point[1] * scale_factor},{point[0] * scale_factor} ')\n",
        "            svg_data.write(f'\" fill=\"{fill_color}\" stroke=\"none\"/>\\n')\n",
        "\n",
        "    svg_data.write('</svg>')\n",
        "\n",
        "    # Save the SVG file\n",
        "    with open(output_svg_path, 'w') as f:\n",
        "        f.write(svg_data.getvalue())\n",
        "\n",
        "    return svg_data.getvalue()\n",
        "\n",
        "def display_svg(svg_content):\n",
        "    # Convert the SVG content to a data URL for display\n",
        "    svg_bytes = svg_content.encode('utf-8')\n",
        "    display(SVG(data=svg_bytes))\n",
        "\n",
        "# Upload an image\n",
        "image_path = upload_image()\n",
        "\n",
        "# Path to the output SVG file\n",
        "output_svg_path = 'output_image.svg'\n",
        "\n",
        "# Convert the image to SVG with 8-bit color representation and scaling\n",
        "svg_content = convert_image_to_svg(image_path, output_svg_path)\n",
        "\n",
        "# Preview the SVG\n",
        "display_svg(svg_content)\n",
        "\n",
        "print(f\"SVG saved at: {output_svg_path}\")"
      ],
      "metadata": {
        "id": "-wQRuVLcPpGc"
      },
      "execution_count": null,
      "outputs": []
    }
  ]
}