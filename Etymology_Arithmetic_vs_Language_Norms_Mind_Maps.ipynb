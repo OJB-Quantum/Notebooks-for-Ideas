{
  "nbformat": 4,
  "nbformat_minor": 0,
  "metadata": {
    "colab": {
      "provenance": [],
      "authorship_tag": "ABX9TyNoic2IJ09yH2Sp9R3HNYao",
      "include_colab_link": true
    },
    "kernelspec": {
      "name": "python3",
      "display_name": "Python 3"
    },
    "language_info": {
      "name": "python"
    }
  },
  "cells": [
    {
      "cell_type": "markdown",
      "metadata": {
        "id": "view-in-github",
        "colab_type": "text"
      },
      "source": [
        "<a href=\"https://colab.research.google.com/github/OJB-Quantum/Notebooks-for-Ideas/blob/main/Etymology_Arithmetic_vs_Language_Norms_Mind_Maps.ipynb\" target=\"_parent\"><img src=\"https://colab.research.google.com/assets/colab-badge.svg\" alt=\"Open In Colab\"/></a>"
      ]
    },
    {
      "cell_type": "code",
      "execution_count": null,
      "metadata": {
        "id": "fDXgchErBEgp"
      },
      "outputs": [],
      "source": [
        "# Install dependencies (Graphviz binaries + Python wrapper)\n",
        "!apt-get -qq update && apt-get -qq install -y graphviz\n",
        "!pip install -q graphviz"
      ]
    },
    {
      "cell_type": "code",
      "source": [
        "# Generate & display both mind-maps\n",
        "from graphviz import Digraph\n",
        "from IPython.display import SVG, display\n",
        "\n",
        "# ───────────────────────────────────────────────\n",
        "# 1) Mind-map: “Etymological Arithmetic” pathway\n",
        "# ───────────────────────────────────────────────\n",
        "arith = Digraph(comment=\"Etymological Arithmetic\", format=\"svg\")\n",
        "arith.attr(rankdir=\"TB\")\n",
        "arith.attr('node', shape=\"box\", style=\"rounded,filled\", fillcolor=\"#e0f2ff\")\n",
        "\n",
        "arith.node(\"R\", \"Root concept\\n(e.g. FURCA = fork)\")\n",
        "arith.node(\"N\", \"Numeric prefix\\n(bi-, tri-, penta-, etc.)\")\n",
        "arith.node(\"C\", \"Combine parts\\n→ *pentafurcation*\")\n",
        "arith.node(\"L\", \"Literal gloss\\n“five-fork-ing”\")\n",
        "arith.node(\"I\", \"Implied meaning\\n= 5-way split\")\n",
        "arith.node(\"A\", \"Attested?\\n(may be rare)\")\n",
        "\n",
        "arith.edges([(\"R\", \"C\"), (\"N\", \"C\"), (\"C\", \"L\"), (\"L\", \"I\"), (\"I\", \"A\")])\n",
        "\n",
        "# ─────────────────────────────────────────────\n",
        "# 2) Mind-map: “Language Norms” development\n",
        "# ─────────────────────────────────────────────\n",
        "norms = Digraph(comment=\"Language Norms\", format=\"svg\")\n",
        "norms.attr(rankdir=\"TB\")\n",
        "norms.attr('node', shape=\"box\", style=\"rounded,filled\", fillcolor=\"#fef5d4\")\n",
        "\n",
        "norms.node(\"T\", \"Coined term\\n(e.g. *pentafurcation*)\")\n",
        "norms.node(\"U\", \"Early specialist use\")\n",
        "norms.node(\"E\", \"Euphony & ease\\nof pronunciation\")\n",
        "norms.node(\"F\", \"Field adoption\\n(medicine, biology…)\")\n",
        "norms.node(\"D\", \"Dictionary entry\")\n",
        "norms.node(\"C\", \"Conventional meaning\\n(settled usage)\")\n",
        "\n",
        "norms.edges([(\"T\", \"U\"), (\"T\", \"E\"), (\"U\", \"F\"), (\"E\", \"F\"), (\"F\", \"D\"), (\"D\", \"C\")])\n",
        "\n",
        "# ─────────────────────────────────────────────\n",
        "# Render & display both diagrams\n",
        "# ─────────────────────────────────────────────\n",
        "# Render SVGs for later saving\n",
        "arith_svg = arith.pipe().decode(\"utf-8\")\n",
        "norms_svg = norms.pipe().decode(\"utf-8\")\n",
        "\n",
        "# Display in notebook\n",
        "for svg in (arith_svg, norms_svg):\n",
        "    display(SVG(svg))\n",
        "\n",
        "# ▶️ CELL 3 — Save SVGs to files and provide download links\n",
        "from IPython.display import FileLink\n",
        "\n",
        "# Write SVG contents to files\n",
        "with open('etymology_map.svg', 'w') as f:\n",
        "    f.write(arith_svg)\n",
        "with open('norms_map.svg', 'w') as f:\n",
        "    f.write(norms_svg)\n",
        "\n",
        "# Display download links\n",
        "print(\"Download the Etymological Arithmetic map:\")\n",
        "display(FileLink('etymology_map.svg'))\n",
        "print(\"Download the Language Norms map:\")\n",
        "display(FileLink('norms_map.svg'))"
      ],
      "metadata": {
        "colab": {
          "base_uri": "https://localhost:8080/",
          "height": 1000
        },
        "id": "mB44LLi6C5cx",
        "outputId": "d242169e-b5b2-4e29-8204-db3c47283d6a"
      },
      "execution_count": 4,
      "outputs": [
        {
          "output_type": "display_data",
          "data": {
            "text/plain": [
              "<IPython.core.display.SVG object>"
            ],
            "image/svg+xml": "<svg xmlns=\"http://www.w3.org/2000/svg\" xmlns:xlink=\"http://www.w3.org/1999/xlink\" width=\"292pt\" height=\"342pt\" viewBox=\"0.00 0.00 291.50 342.00\">\n<g id=\"graph0\" class=\"graph\" transform=\"scale(1 1) rotate(0) translate(4 338)\">\n<title>%3</title>\n<polygon fill=\"white\" stroke=\"transparent\" points=\"-4,4 -4,-338 287.5,-338 287.5,4 -4,4\"/>\n<!-- R -->\n<g id=\"node1\" class=\"node\">\n<title>R</title>\n<path fill=\"#e0f2ff\" stroke=\"black\" d=\"M120,-334C120,-334 12,-334 12,-334 6,-334 0,-328 0,-322 0,-322 0,-308 0,-308 0,-302 6,-296 12,-296 12,-296 120,-296 120,-296 126,-296 132,-302 132,-308 132,-308 132,-322 132,-322 132,-328 126,-334 120,-334\"/>\n<text text-anchor=\"middle\" x=\"66\" y=\"-318.8\" font-family=\"Times,serif\" font-size=\"14.00\">Root concept</text>\n<text text-anchor=\"middle\" x=\"66\" y=\"-303.8\" font-family=\"Times,serif\" font-size=\"14.00\">(e.g. FURCA = fork)</text>\n</g>\n<!-- C -->\n<g id=\"node3\" class=\"node\">\n<title>C</title>\n<path fill=\"#e0f2ff\" stroke=\"black\" d=\"M192,-260C192,-260 90,-260 90,-260 84,-260 78,-254 78,-248 78,-248 78,-234 78,-234 78,-228 84,-222 90,-222 90,-222 192,-222 192,-222 198,-222 204,-228 204,-234 204,-234 204,-248 204,-248 204,-254 198,-260 192,-260\"/>\n<text text-anchor=\"middle\" x=\"141\" y=\"-244.8\" font-family=\"Times,serif\" font-size=\"14.00\">Combine parts</text>\n<text text-anchor=\"middle\" x=\"141\" y=\"-229.8\" font-family=\"Times,serif\" font-size=\"14.00\">→ *pentafurcation*</text>\n</g>\n<!-- R&#45;&gt;C -->\n<g id=\"edge1\" class=\"edge\">\n<title>R-&gt;C</title>\n<path fill=\"none\" stroke=\"black\" d=\"M84.93,-295.83C93.99,-287.13 104.98,-276.58 114.83,-267.13\"/>\n<polygon fill=\"black\" stroke=\"black\" points=\"117.29,-269.61 122.08,-260.16 112.44,-264.56 117.29,-269.61\"/>\n</g>\n<!-- N -->\n<g id=\"node2\" class=\"node\">\n<title>N</title>\n<path fill=\"#e0f2ff\" stroke=\"black\" d=\"M271.5,-334C271.5,-334 162.5,-334 162.5,-334 156.5,-334 150.5,-328 150.5,-322 150.5,-322 150.5,-308 150.5,-308 150.5,-302 156.5,-296 162.5,-296 162.5,-296 271.5,-296 271.5,-296 277.5,-296 283.5,-302 283.5,-308 283.5,-308 283.5,-322 283.5,-322 283.5,-328 277.5,-334 271.5,-334\"/>\n<text text-anchor=\"middle\" x=\"217\" y=\"-318.8\" font-family=\"Times,serif\" font-size=\"14.00\">Numeric prefix</text>\n<text text-anchor=\"middle\" x=\"217\" y=\"-303.8\" font-family=\"Times,serif\" font-size=\"14.00\">(bi-, tri-, penta-, etc.)</text>\n</g>\n<!-- N&#45;&gt;C -->\n<g id=\"edge2\" class=\"edge\">\n<title>N-&gt;C</title>\n<path fill=\"none\" stroke=\"black\" d=\"M197.82,-295.83C188.64,-287.13 177.5,-276.58 167.52,-267.13\"/>\n<polygon fill=\"black\" stroke=\"black\" points=\"169.84,-264.5 160.17,-260.16 165.02,-269.58 169.84,-264.5\"/>\n</g>\n<!-- L -->\n<g id=\"node4\" class=\"node\">\n<title>L</title>\n<path fill=\"#e0f2ff\" stroke=\"black\" d=\"M178,-186C178,-186 104,-186 104,-186 98,-186 92,-180 92,-174 92,-174 92,-160 92,-160 92,-154 98,-148 104,-148 104,-148 178,-148 178,-148 184,-148 190,-154 190,-160 190,-160 190,-174 190,-174 190,-180 184,-186 178,-186\"/>\n<text text-anchor=\"middle\" x=\"141\" y=\"-170.8\" font-family=\"Times,serif\" font-size=\"14.00\">Literal gloss</text>\n<text text-anchor=\"middle\" x=\"141\" y=\"-155.8\" font-family=\"Times,serif\" font-size=\"14.00\">“five-fork-ing”</text>\n</g>\n<!-- C&#45;&gt;L -->\n<g id=\"edge3\" class=\"edge\">\n<title>C-&gt;L</title>\n<path fill=\"none\" stroke=\"black\" d=\"M141,-221.83C141,-214.13 141,-204.97 141,-196.42\"/>\n<polygon fill=\"black\" stroke=\"black\" points=\"144.5,-196.41 141,-186.41 137.5,-196.41 144.5,-196.41\"/>\n</g>\n<!-- I -->\n<g id=\"node5\" class=\"node\">\n<title>I</title>\n<path fill=\"#e0f2ff\" stroke=\"black\" d=\"M184,-112C184,-112 98,-112 98,-112 92,-112 86,-106 86,-100 86,-100 86,-86 86,-86 86,-80 92,-74 98,-74 98,-74 184,-74 184,-74 190,-74 196,-80 196,-86 196,-86 196,-100 196,-100 196,-106 190,-112 184,-112\"/>\n<text text-anchor=\"middle\" x=\"141\" y=\"-96.8\" font-family=\"Times,serif\" font-size=\"14.00\">Implied meaning</text>\n<text text-anchor=\"middle\" x=\"141\" y=\"-81.8\" font-family=\"Times,serif\" font-size=\"14.00\">= 5-way split</text>\n</g>\n<!-- L&#45;&gt;I -->\n<g id=\"edge4\" class=\"edge\">\n<title>L-&gt;I</title>\n<path fill=\"none\" stroke=\"black\" d=\"M141,-147.83C141,-140.13 141,-130.97 141,-122.42\"/>\n<polygon fill=\"black\" stroke=\"black\" points=\"144.5,-122.41 141,-112.41 137.5,-122.41 144.5,-122.41\"/>\n</g>\n<!-- A -->\n<g id=\"node6\" class=\"node\">\n<title>A</title>\n<path fill=\"#e0f2ff\" stroke=\"black\" d=\"M174.5,-38C174.5,-38 107.5,-38 107.5,-38 101.5,-38 95.5,-32 95.5,-26 95.5,-26 95.5,-12 95.5,-12 95.5,-6 101.5,0 107.5,0 107.5,0 174.5,0 174.5,0 180.5,0 186.5,-6 186.5,-12 186.5,-12 186.5,-26 186.5,-26 186.5,-32 180.5,-38 174.5,-38\"/>\n<text text-anchor=\"middle\" x=\"141\" y=\"-22.8\" font-family=\"Times,serif\" font-size=\"14.00\">Attested?</text>\n<text text-anchor=\"middle\" x=\"141\" y=\"-7.8\" font-family=\"Times,serif\" font-size=\"14.00\">(may be rare)</text>\n</g>\n<!-- I&#45;&gt;A -->\n<g id=\"edge5\" class=\"edge\">\n<title>I-&gt;A</title>\n<path fill=\"none\" stroke=\"black\" d=\"M141,-73.83C141,-66.13 141,-56.97 141,-48.42\"/>\n<polygon fill=\"black\" stroke=\"black\" points=\"144.5,-48.41 141,-38.41 137.5,-48.41 144.5,-48.41\"/>\n</g>\n</g>\n</svg>"
          },
          "metadata": {}
        },
        {
          "output_type": "display_data",
          "data": {
            "text/plain": [
              "<IPython.core.display.SVG object>"
            ],
            "image/svg+xml": "<svg xmlns=\"http://www.w3.org/2000/svg\" xmlns:xlink=\"http://www.w3.org/1999/xlink\" width=\"256pt\" height=\"340pt\" viewBox=\"0.00 0.00 255.50 340.00\">\n<g id=\"graph0\" class=\"graph\" transform=\"scale(1 1) rotate(0) translate(4 336)\">\n<title>%3</title>\n<polygon fill=\"white\" stroke=\"transparent\" points=\"-4,4 -4,-336 251.5,-336 251.5,4 -4,4\"/>\n<!-- T -->\n<g id=\"node1\" class=\"node\">\n<title>T</title>\n<path fill=\"#fef5d4\" stroke=\"black\" d=\"M185.5,-332C185.5,-332 68.5,-332 68.5,-332 62.5,-332 56.5,-326 56.5,-320 56.5,-320 56.5,-306 56.5,-306 56.5,-300 62.5,-294 68.5,-294 68.5,-294 185.5,-294 185.5,-294 191.5,-294 197.5,-300 197.5,-306 197.5,-306 197.5,-320 197.5,-320 197.5,-326 191.5,-332 185.5,-332\"/>\n<text text-anchor=\"middle\" x=\"127\" y=\"-316.8\" font-family=\"Times,serif\" font-size=\"14.00\">Coined term</text>\n<text text-anchor=\"middle\" x=\"127\" y=\"-301.8\" font-family=\"Times,serif\" font-size=\"14.00\">(e.g. *pentafurcation*)</text>\n</g>\n<!-- U -->\n<g id=\"node2\" class=\"node\">\n<title>U</title>\n<path fill=\"#fef5d4\" stroke=\"black\" d=\"M110,-257C110,-257 12,-257 12,-257 6,-257 0,-251 0,-245 0,-245 0,-233 0,-233 0,-227 6,-221 12,-221 12,-221 110,-221 110,-221 116,-221 122,-227 122,-233 122,-233 122,-245 122,-245 122,-251 116,-257 110,-257\"/>\n<text text-anchor=\"middle\" x=\"61\" y=\"-235.3\" font-family=\"Times,serif\" font-size=\"14.00\">Early specialist use</text>\n</g>\n<!-- T&#45;&gt;U -->\n<g id=\"edge1\" class=\"edge\">\n<title>T-&gt;U</title>\n<path fill=\"none\" stroke=\"black\" d=\"M110.35,-293.83C102.35,-285.11 92.64,-274.52 83.96,-265.05\"/>\n<polygon fill=\"black\" stroke=\"black\" points=\"86.3,-262.42 76.97,-257.42 81.14,-267.15 86.3,-262.42\"/>\n</g>\n<!-- E -->\n<g id=\"node3\" class=\"node\">\n<title>E</title>\n<path fill=\"#fef5d4\" stroke=\"black\" d=\"M235.5,-258C235.5,-258 152.5,-258 152.5,-258 146.5,-258 140.5,-252 140.5,-246 140.5,-246 140.5,-232 140.5,-232 140.5,-226 146.5,-220 152.5,-220 152.5,-220 235.5,-220 235.5,-220 241.5,-220 247.5,-226 247.5,-232 247.5,-232 247.5,-246 247.5,-246 247.5,-252 241.5,-258 235.5,-258\"/>\n<text text-anchor=\"middle\" x=\"194\" y=\"-242.8\" font-family=\"Times,serif\" font-size=\"14.00\">Euphony &amp; ease</text>\n<text text-anchor=\"middle\" x=\"194\" y=\"-227.8\" font-family=\"Times,serif\" font-size=\"14.00\">of pronunciation</text>\n</g>\n<!-- T&#45;&gt;E -->\n<g id=\"edge2\" class=\"edge\">\n<title>T-&gt;E</title>\n<path fill=\"none\" stroke=\"black\" d=\"M143.91,-293.83C151.78,-285.37 161.29,-275.15 169.9,-265.9\"/>\n<polygon fill=\"black\" stroke=\"black\" points=\"172.62,-268.12 176.87,-258.41 167.49,-263.35 172.62,-268.12\"/>\n</g>\n<!-- F -->\n<g id=\"node4\" class=\"node\">\n<title>F</title>\n<path fill=\"#fef5d4\" stroke=\"black\" d=\"M184.5,-184C184.5,-184 69.5,-184 69.5,-184 63.5,-184 57.5,-178 57.5,-172 57.5,-172 57.5,-158 57.5,-158 57.5,-152 63.5,-146 69.5,-146 69.5,-146 184.5,-146 184.5,-146 190.5,-146 196.5,-152 196.5,-158 196.5,-158 196.5,-172 196.5,-172 196.5,-178 190.5,-184 184.5,-184\"/>\n<text text-anchor=\"middle\" x=\"127\" y=\"-168.8\" font-family=\"Times,serif\" font-size=\"14.00\">Field adoption</text>\n<text text-anchor=\"middle\" x=\"127\" y=\"-153.8\" font-family=\"Times,serif\" font-size=\"14.00\">(medicine, biology…)</text>\n</g>\n<!-- U&#45;&gt;F -->\n<g id=\"edge3\" class=\"edge\">\n<title>U-&gt;F</title>\n<path fill=\"none\" stroke=\"black\" d=\"M76.64,-220.94C84.64,-212.21 94.55,-201.4 103.45,-191.69\"/>\n<polygon fill=\"black\" stroke=\"black\" points=\"106.14,-193.94 110.32,-184.2 100.98,-189.21 106.14,-193.94\"/>\n</g>\n<!-- E&#45;&gt;F -->\n<g id=\"edge4\" class=\"edge\">\n<title>E-&gt;F</title>\n<path fill=\"none\" stroke=\"black\" d=\"M177.09,-219.83C169.22,-211.37 159.71,-201.15 151.1,-191.9\"/>\n<polygon fill=\"black\" stroke=\"black\" points=\"153.51,-189.35 144.13,-184.41 148.38,-194.12 153.51,-189.35\"/>\n</g>\n<!-- D -->\n<g id=\"node5\" class=\"node\">\n<title>D</title>\n<path fill=\"#fef5d4\" stroke=\"black\" d=\"M168,-110C168,-110 86,-110 86,-110 80,-110 74,-104 74,-98 74,-98 74,-86 74,-86 74,-80 80,-74 86,-74 86,-74 168,-74 168,-74 174,-74 180,-80 180,-86 180,-86 180,-98 180,-98 180,-104 174,-110 168,-110\"/>\n<text text-anchor=\"middle\" x=\"127\" y=\"-88.3\" font-family=\"Times,serif\" font-size=\"14.00\">Dictionary entry</text>\n</g>\n<!-- F&#45;&gt;D -->\n<g id=\"edge5\" class=\"edge\">\n<title>F-&gt;D</title>\n<path fill=\"none\" stroke=\"black\" d=\"M127,-145.72C127,-137.97 127,-128.79 127,-120.27\"/>\n<polygon fill=\"black\" stroke=\"black\" points=\"130.5,-120 127,-110 123.5,-120 130.5,-120\"/>\n</g>\n<!-- C -->\n<g id=\"node6\" class=\"node\">\n<title>C</title>\n<path fill=\"#fef5d4\" stroke=\"black\" d=\"M185,-38C185,-38 69,-38 69,-38 63,-38 57,-32 57,-26 57,-26 57,-12 57,-12 57,-6 63,0 69,0 69,0 185,0 185,0 191,0 197,-6 197,-12 197,-12 197,-26 197,-26 197,-32 191,-38 185,-38\"/>\n<text text-anchor=\"middle\" x=\"127\" y=\"-22.8\" font-family=\"Times,serif\" font-size=\"14.00\">Conventional meaning</text>\n<text text-anchor=\"middle\" x=\"127\" y=\"-7.8\" font-family=\"Times,serif\" font-size=\"14.00\">(settled usage)</text>\n</g>\n<!-- D&#45;&gt;C -->\n<g id=\"edge6\" class=\"edge\">\n<title>D-&gt;C</title>\n<path fill=\"none\" stroke=\"black\" d=\"M127,-73.81C127,-66.11 127,-56.82 127,-48.15\"/>\n<polygon fill=\"black\" stroke=\"black\" points=\"130.5,-48.02 127,-38.02 123.5,-48.02 130.5,-48.02\"/>\n</g>\n</g>\n</svg>"
          },
          "metadata": {}
        },
        {
          "output_type": "stream",
          "name": "stdout",
          "text": [
            "Download the Etymological Arithmetic map:\n"
          ]
        },
        {
          "output_type": "display_data",
          "data": {
            "text/plain": [
              "/content/etymology_map.svg"
            ],
            "text/html": [
              "<a href='etymology_map.svg' target='_blank'>etymology_map.svg</a><br>"
            ]
          },
          "metadata": {}
        },
        {
          "output_type": "stream",
          "name": "stdout",
          "text": [
            "Download the Language Norms map:\n"
          ]
        },
        {
          "output_type": "display_data",
          "data": {
            "text/plain": [
              "/content/norms_map.svg"
            ],
            "text/html": [
              "<a href='norms_map.svg' target='_blank'>norms_map.svg</a><br>"
            ]
          },
          "metadata": {}
        }
      ]
    }
  ]
}