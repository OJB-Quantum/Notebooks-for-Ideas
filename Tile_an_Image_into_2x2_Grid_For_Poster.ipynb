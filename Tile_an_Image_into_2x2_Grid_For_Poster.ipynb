{
  "cells": [
    {
      "cell_type": "markdown",
      "metadata": {
        "id": "view-in-github",
        "colab_type": "text"
      },
      "source": [
        "<a href=\"https://colab.research.google.com/github/OJB-Quantum/Notebooks-for-Ideas/blob/main/Tile_an_Image_into_2x2_Grid_For_Poster.ipynb\" target=\"_parent\"><img src=\"https://colab.research.google.com/assets/colab-badge.svg\" alt=\"Open In Colab\"/></a>"
      ]
    },
    {
      "cell_type": "code",
      "execution_count": null,
      "id": "3154e050-b416-4bf0-a6b8-3ba1233c03b2",
      "metadata": {
        "execution": {
          "iopub.execute_input": "2024-03-21T09:39:46.085649Z",
          "iopub.status.busy": "2024-03-21T09:39:46.085154Z",
          "iopub.status.idle": "2024-03-21T09:40:26.305505Z",
          "shell.execute_reply": "2024-03-21T09:40:26.304926Z",
          "shell.execute_reply.started": "2024-03-21T09:39:46.085619Z"
        },
        "tags": [],
        "id": "3154e050-b416-4bf0-a6b8-3ba1233c03b2",
        "outputId": "60b26c2a-be76-4a6f-c20e-8dc808179079"
      },
      "outputs": [
        {
          "data": {
            "text/plain": [
              "['Yes4/1.png', 'Yes4/2.png', 'Yes4/3.png', 'Yes4/4.png']"
            ]
          },
          "execution_count": 13,
          "metadata": {},
          "output_type": "execute_result"
        }
      ],
      "source": [
        "# This code works for a 48 inch by 36 inch poster tiled into 4 sections, where each tile is 24 inches by 18 inches.\n",
        "# Imported poster image must be in PNG format, converted online from a PDF format of the original poster.\n",
        "# It may be worth using this notebook on a server or system with large RAM, such as ones available on Saturn Cloud.\n",
        "# Be sure to input the path of both the image and the location to save the results.\n",
        "from PIL import Image, ImageOps\n",
        "\n",
        "# Load the image\n",
        "image_path = 'Onri_Jay_Benally_GOMACTech2024_Poster-1.png'\n",
        "original_image = Image.open(image_path)\n",
        "\n",
        "# Set the DPI for the tiles\n",
        "dpi = 400\n",
        "\n",
        "# Set the size for each tile in inches\n",
        "tile_width_inch = 24\n",
        "tile_height_inch = 18\n",
        "\n",
        "# Calculate the size of each tile in pixels\n",
        "tile_width = int(tile_width_inch * dpi)\n",
        "tile_height = int(tile_height_inch * dpi)\n",
        "\n",
        "# Calculate the border thickness in pixels (0.25 inches thick)\n",
        "border_thickness = int(0.25 * dpi)\n",
        "\n",
        "# Calculate the number of tiles in both dimensions (2x2 instead of 3x3)\n",
        "num_tiles_x = 2\n",
        "num_tiles_y = 2\n",
        "\n",
        "# Function to crop the image into tiles and add a white border\n",
        "def crop_into_tiles(image, num_tiles_x, num_tiles_y, tile_width, tile_height, border_thickness):\n",
        "    tiles = []\n",
        "    for i in range(num_tiles_y):\n",
        "        for j in range(num_tiles_x):\n",
        "            left = j * tile_width\n",
        "            top = i * tile_height\n",
        "            right = left + tile_width\n",
        "            bottom = top + tile_height\n",
        "            tile = image.crop((left, top, right, bottom))\n",
        "            # Add a white border around the tile\n",
        "            tile_with_border = ImageOps.expand(tile, border=border_thickness, fill='white')\n",
        "            tiles.append(tile_with_border)\n",
        "    return tiles\n",
        "\n",
        "# Calculate the size for the full image to be tiled\n",
        "# Adjusted for border addition\n",
        "full_width = tile_width * num_tiles_x + border_thickness * 2 * num_tiles_x\n",
        "full_height = tile_height * num_tiles_y + border_thickness * 2 * num_tiles_y\n",
        "\n",
        "# Resize the image to the full size\n",
        "resized_image = original_image.resize((full_width, full_height))\n",
        "\n",
        "# Crop the resized image into tiles and add borders\n",
        "tiles = crop_into_tiles(resized_image, num_tiles_x, num_tiles_y, tile_width, tile_height, border_thickness)\n",
        "\n",
        "# Save the tiles and keep track of the paths\n",
        "tile_paths = []\n",
        "for i, tile in enumerate(tiles):\n",
        "    tile_path = f'Yes4/{i+1}.png'\n",
        "    tile.save(tile_path, dpi=(dpi, dpi))\n",
        "    tile_paths.append(tile_path)\n",
        "\n",
        "tile_paths\n"
      ]
    },
    {
      "cell_type": "code",
      "execution_count": null,
      "id": "90fb9303-6259-4d7e-a7d3-1995c2a5aa15",
      "metadata": {
        "execution": {
          "iopub.execute_input": "2024-03-21T09:43:28.553920Z",
          "iopub.status.busy": "2024-03-21T09:43:28.553527Z",
          "iopub.status.idle": "2024-03-21T09:44:09.384494Z",
          "shell.execute_reply": "2024-03-21T09:44:09.383926Z",
          "shell.execute_reply.started": "2024-03-21T09:43:28.553891Z"
        },
        "tags": [],
        "id": "90fb9303-6259-4d7e-a7d3-1995c2a5aa15",
        "outputId": "13c94d74-82c0-464c-a14e-0aecfe60ee35"
      },
      "outputs": [
        {
          "data": {
            "text/plain": [
              "['Yes5/1.png',\n",
              " 'Yes5/2.png',\n",
              " 'Yes5/3.png',\n",
              " 'Yes5/4.png',\n",
              " 'Yes5/5.png',\n",
              " 'Yes5/6.png',\n",
              " 'Yes5/7.png',\n",
              " 'Yes5/8.png',\n",
              " 'Yes5/9.png']"
            ]
          },
          "execution_count": 14,
          "metadata": {},
          "output_type": "execute_result"
        }
      ],
      "source": [
        "# Now retry on the same image, but make sure the border has been added for convenience.\n",
        "from PIL import Image, ImageOps\n",
        "\n",
        "# Load the image\n",
        "image_path = 'Onri_Jay_Benally_GOMACTech2024_Poster-1.png'\n",
        "original_image = Image.open(image_path)\n",
        "\n",
        "# Set the DPI for the tiles\n",
        "dpi = 400\n",
        "\n",
        "# Set the size for each tile in inches\n",
        "tile_width_inch = 17\n",
        "tile_height_inch = 11\n",
        "\n",
        "# Calculate the size of each tile in pixels\n",
        "tile_width = int(tile_width_inch * dpi)\n",
        "tile_height = int(tile_height_inch * dpi)\n",
        "\n",
        "# Calculate the border thickness in pixels (0.25 inches thick)\n",
        "border_thickness = int(0.25 * dpi)\n",
        "\n",
        "# Calculate the number of tiles in both dimensions (2x2 instead of 3x3)\n",
        "num_tiles_x = 3\n",
        "num_tiles_y = 3\n",
        "\n",
        "# Function to crop the image into tiles and add a white border\n",
        "def crop_into_tiles(image, num_tiles_x, num_tiles_y, tile_width, tile_height, border_thickness):\n",
        "    tiles = []\n",
        "    for i in range(num_tiles_y):\n",
        "        for j in range(num_tiles_x):\n",
        "            left = j * tile_width\n",
        "            top = i * tile_height\n",
        "            right = left + tile_width\n",
        "            bottom = top + tile_height\n",
        "            tile = image.crop((left, top, right, bottom))\n",
        "            # Add a white border around the tile\n",
        "            tile_with_border = ImageOps.expand(tile, border=border_thickness, fill='white')\n",
        "            tiles.append(tile_with_border)\n",
        "    return tiles\n",
        "\n",
        "# Calculate the size for the full image to be tiled\n",
        "# Adjusted for border addition\n",
        "full_width = tile_width * num_tiles_x + border_thickness * 2 * num_tiles_x\n",
        "full_height = tile_height * num_tiles_y + border_thickness * 2 * num_tiles_y\n",
        "\n",
        "# Resize the image to the full size\n",
        "resized_image = original_image.resize((full_width, full_height))\n",
        "\n",
        "# Crop the resized image into tiles and add borders\n",
        "tiles = crop_into_tiles(resized_image, num_tiles_x, num_tiles_y, tile_width, tile_height, border_thickness)\n",
        "\n",
        "# Save the tiles and keep track of the paths\n",
        "tile_paths = []\n",
        "for i, tile in enumerate(tiles):\n",
        "    tile_path = f'Yes5/{i+1}.png'\n",
        "    tile.save(tile_path, dpi=(dpi, dpi))\n",
        "    tile_paths.append(tile_path)\n",
        "\n",
        "tile_paths\n"
      ]
    },
    {
      "cell_type": "code",
      "execution_count": null,
      "id": "c07108cb-0242-4965-aed1-665f682a8023",
      "metadata": {
        "id": "c07108cb-0242-4965-aed1-665f682a8023"
      },
      "outputs": [],
      "source": []
    }
  ],
  "metadata": {
    "kernelspec": {
      "display_name": "saturn (Python 3)",
      "language": "python",
      "name": "python3"
    },
    "language_info": {
      "codemirror_mode": {
        "name": "ipython",
        "version": 3
      },
      "file_extension": ".py",
      "mimetype": "text/x-python",
      "name": "python",
      "nbconvert_exporter": "python",
      "pygments_lexer": "ipython3",
      "version": "3.10.13"
    },
    "colab": {
      "provenance": [],
      "include_colab_link": true
    }
  },
  "nbformat": 4,
  "nbformat_minor": 5
}