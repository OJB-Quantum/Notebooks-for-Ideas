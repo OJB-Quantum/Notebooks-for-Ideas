{
  "nbformat": 4,
  "nbformat_minor": 0,
  "metadata": {
    "colab": {
      "provenance": [],
      "authorship_tag": "ABX9TyO9hOcA2k42oJyvcH/NIPwX",
      "include_colab_link": true
    },
    "kernelspec": {
      "name": "python3",
      "display_name": "Python 3"
    },
    "language_info": {
      "name": "python"
    }
  },
  "cells": [
    {
      "cell_type": "markdown",
      "metadata": {
        "id": "view-in-github",
        "colab_type": "text"
      },
      "source": [
        "<a href=\"https://colab.research.google.com/github/OJB-Quantum/Notebooks-for-Ideas/blob/main/MD_to_PDF_Non_LaTeX.ipynb\" target=\"_parent\"><img src=\"https://colab.research.google.com/assets/colab-badge.svg\" alt=\"Open In Colab\"/></a>"
      ]
    },
    {
      "cell_type": "code",
      "execution_count": null,
      "metadata": {
        "id": "PnVBpBQFv1yh"
      },
      "outputs": [],
      "source": [
        "!pip install markdown2 pdfkit\n",
        "!apt-get install -y wkhtmltopdf\n",
        "\n",
        "!apt-get install -y ttf-mscorefonts-installer\n",
        "!fc-cache -fv"
      ]
    },
    {
      "cell_type": "markdown",
      "source": [
        "The code below will prompt you to upload a markdown file so that it can be converted into a PDF. The downloadable PDF will open in a new tab. Please note that this version of the tool will not be able to render LaTeX. The imported font style has been set to IBM Plex Sans."
      ],
      "metadata": {
        "id": "XbJ7BFsHw-xz"
      }
    },
    {
      "cell_type": "code",
      "source": [
        "import markdown2\n",
        "import pdfkit\n",
        "from google.colab import files\n",
        "import os\n",
        "import webbrowser\n",
        "\n",
        "# Upload markdown file\n",
        "uploaded = files.upload()\n",
        "\n",
        "# Get the uploaded file name\n",
        "md_filename = list(uploaded.keys())[0]\n",
        "pdf_filename = md_filename.replace('.md', '.pdf')\n",
        "\n",
        "# Read markdown file\n",
        "with open(md_filename, 'r', encoding='utf-8') as f:\n",
        "    md_content = f.read()\n",
        "\n",
        "# Convert markdown to HTML with tables and images enabled\n",
        "html_content = markdown2.markdown(md_content, extras=[\"tables\", \"fenced-code-blocks\"])\n",
        "\n",
        "# Define a CSS for styling with IBM Plex Sans and adjusted margins\n",
        "css = \"\"\"\n",
        "@import url('https://fonts.googleapis.com/css2?family=IBM+Plex+Sans:wght@400;700&display=swap');\n",
        "body {\n",
        "    font-family: 'IBM Plex Sans', sans-serif;\n",
        "    margin: 0.75in/* 0.75 inch top/bottom, 1 inch left/right margins */\n",
        "    text-align: justify;\n",
        "    line-height: 1.5; /* Adjust this line spacing value as needed */\n",
        "}\n",
        "h1 { text-align: center; }\n",
        "h2, h3 { color: #333; }\n",
        "code { background-color: #f4f4f4; padding: 2px 5px; border-radius: 4px; }\n",
        "table { width: 100%; border-collapse: collapse; margin: 20px 0; }\n",
        "th, td { border: 1px solid #333; padding: 8px; text-align: left; }\n",
        "img { display: block; margin: 0 auto; max-width: 100%; height: auto; }\n",
        "\"\"\"\n",
        "html_with_css = f\"\"\"<html><head><style>{css}</style></head><body>{html_content}</body></html>\"\"\"\n",
        "\n",
        "# Save HTML to a temporary file\n",
        "html_filename = 'temp.html'\n",
        "with open(html_filename, 'w', encoding='utf-8') as f:\n",
        "    f.write(html_with_css)\n",
        "\n",
        "# Convert HTML to PDF\n",
        "options = {\n",
        "    'margin-top': '0.5in',\n",
        "    'margin-bottom': '0.5in',\n",
        "    'margin-left': '1in',\n",
        "    'margin-right': '1in'\n",
        "}\n",
        "pdfkit.from_file(html_filename, pdf_filename, options=options)\n",
        "\n",
        "# Open the PDF in a new tab\n",
        "webbrowser.open(pdf_filename)\n",
        "\n",
        "# Download the PDF\n",
        "files.download(pdf_filename)\n",
        "\n",
        "# Clean up temporary files"
      ],
      "metadata": {
        "id": "qm_SFf8Xv6Bb"
      },
      "execution_count": null,
      "outputs": []
    }
  ]
}