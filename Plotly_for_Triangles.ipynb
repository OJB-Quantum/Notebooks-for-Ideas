{
  "nbformat": 4,
  "nbformat_minor": 0,
  "metadata": {
    "colab": {
      "provenance": [],
      "authorship_tag": "ABX9TyOVLf/voFXw/DMY0fSN/kVz",
      "include_colab_link": true
    },
    "kernelspec": {
      "name": "python3",
      "display_name": "Python 3"
    },
    "language_info": {
      "name": "python"
    }
  },
  "cells": [
    {
      "cell_type": "markdown",
      "metadata": {
        "id": "view-in-github",
        "colab_type": "text"
      },
      "source": [
        "<a href=\"https://colab.research.google.com/github/OJB-Quantum/Notebooks/blob/main/Plotly_for_Triangles.ipynb\" target=\"_parent\"><img src=\"https://colab.research.google.com/assets/colab-badge.svg\" alt=\"Open In Colab\"/></a>"
      ]
    },
    {
      "cell_type": "code",
      "source": [
        "!pip install plotly"
      ],
      "metadata": {
        "colab": {
          "base_uri": "https://localhost:8080/"
        },
        "id": "j8N1em404K_t",
        "outputId": "17d04f1c-5bc5-4694-c697-362f52212e88"
      },
      "execution_count": 1,
      "outputs": [
        {
          "output_type": "stream",
          "name": "stdout",
          "text": [
            "Requirement already satisfied: plotly in /usr/local/lib/python3.10/dist-packages (5.15.0)\n",
            "Requirement already satisfied: tenacity>=6.2.0 in /usr/local/lib/python3.10/dist-packages (from plotly) (8.2.3)\n",
            "Requirement already satisfied: packaging in /usr/local/lib/python3.10/dist-packages (from plotly) (23.2)\n"
          ]
        }
      ]
    },
    {
      "cell_type": "code",
      "source": [
        "import plotly.graph_objects as go\n",
        "import math\n",
        "\n",
        "# Function to create a plotly graph of a triangle given its vertices\n",
        "def plot_triangle(vertices, title):\n",
        "    x_coords, y_coords = zip(*vertices, vertices[0])  # close the triangle\n",
        "    fig = go.Figure(go.Scatter(x=x_coords, y=y_coords, fill=\"toself\"))\n",
        "    fig.update_layout(title=title, xaxis_title=\"X\", yaxis_title=\"Y\", autosize=False, width=600, height=600)\n",
        "    return fig\n",
        "\n",
        "# Right Triangle with a 16 Unit Hypotenuse\n",
        "# Assuming one leg along the x-axis and the right angle at the origin\n",
        "x = 8  # length of the base (arbitrarily chosen for a good shape)\n",
        "y = math.sqrt(16**2 - x**2)  # length of the other leg\n",
        "right_triangle_vertices = [(0, 0), (x, 0), (0, y)]\n",
        "\n",
        "# Obtuse Isosceles Triangle with a 120 Degree Angle and a 20 Unit Hypotenuse\n",
        "\n",
        "# The 120-degree angle is at the origin\n",
        "# The two equal sides are along the positive y-axis and a line forming 60 degrees with the x-axis\n",
        "hypotenuse = 20\n",
        "height = (hypotenuse/2) * math.cos(math.radians(30))  # height using cosine of 30 degrees\n",
        "base_x = (hypotenuse/2) * math.sin(math.radians(60))  # x-coordinate of the base vertex\n",
        "obtuse_triangle_vertices = [(0, 0), (-base_x, height), (base_x, height)]\n",
        "\n",
        "# Plot the triangles\n",
        "right_triangle_fig = plot_triangle(right_triangle_vertices, \"Right Triangle with a 16 Unit Hypotenuse\")\n",
        "obtuse_triangle_fig = plot_triangle(obtuse_triangle_vertices, \"Obtuse Isosceles Triangle with a 120 Degree Angle and a 20 Unit Hypotenuse\")\n",
        "\n",
        "right_triangle_fig, obtuse_triangle_fig"
      ],
      "metadata": {
        "colab": {
          "base_uri": "https://localhost:8080/"
        },
        "id": "0IHru0q0CTei",
        "outputId": "0239328f-1e20-4b39-d84b-d8dfd9e1e0e9"
      },
      "execution_count": 8,
      "outputs": [
        {
          "output_type": "execute_result",
          "data": {
            "text/plain": [
              "(Figure({\n",
              "     'data': [{'fill': 'toself', 'type': 'scatter', 'x': [0, 8, 0, 0], 'y': [0, 0, 13.856406460551018, 0]}],\n",
              "     'layout': {'autosize': False,\n",
              "                'height': 600,\n",
              "                'template': '...',\n",
              "                'title': {'text': 'Right Triangle with a 16 Unit Hypotenuse'},\n",
              "                'width': 600,\n",
              "                'xaxis': {'title': {'text': 'X'}},\n",
              "                'yaxis': {'title': {'text': 'Y'}}}\n",
              " }),\n",
              " Figure({\n",
              "     'data': [{'fill': 'toself',\n",
              "               'type': 'scatter',\n",
              "               'x': [0, -8.660254037844386, 8.660254037844386, 0],\n",
              "               'y': [0, 8.660254037844387, 8.660254037844387, 0]}],\n",
              "     'layout': {'autosize': False,\n",
              "                'height': 600,\n",
              "                'template': '...',\n",
              "                'title': {'text': 'Obtuse Isosceles Triangle with a 120 Degree Angle and a 20 Unit Hypotenuse'},\n",
              "                'width': 600,\n",
              "                'xaxis': {'title': {'text': 'X'}},\n",
              "                'yaxis': {'title': {'text': 'Y'}}}\n",
              " }))"
            ]
          },
          "metadata": {},
          "execution_count": 8
        }
      ]
    }
  ]
}