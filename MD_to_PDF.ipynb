{
  "nbformat": 4,
  "nbformat_minor": 0,
  "metadata": {
    "colab": {
      "provenance": [],
      "toc_visible": true,
      "authorship_tag": "ABX9TyOeSdx4jveBq6Yjj8zB2MRv",
      "include_colab_link": true
    },
    "kernelspec": {
      "name": "python3",
      "display_name": "Python 3"
    },
    "language_info": {
      "name": "python"
    }
  },
  "cells": [
    {
      "cell_type": "markdown",
      "metadata": {
        "id": "view-in-github",
        "colab_type": "text"
      },
      "source": [
        "<a href=\"https://colab.research.google.com/github/OJB-Quantum/Notebooks-for-Ideas/blob/main/MD_to_PDF.ipynb\" target=\"_parent\"><img src=\"https://colab.research.google.com/assets/colab-badge.svg\" alt=\"Open In Colab\"/></a>"
      ]
    },
    {
      "cell_type": "code",
      "source": [
        "# 1. Install Pandoc and LaTeX packages\n",
        "\n",
        "!apt-get update -y\n",
        "!apt-get install -y pandoc\n",
        "!apt-get install -y texlive-latex-base texlive-latex-recommended texlive-latex-extra texlive-fonts-recommended texlive-xetex\n",
        "\n",
        "# Remove the hash below if you want to use IBM Plex Sans font on the PDF output\n",
        "# !apt-get install -y fonts-ibm-plex  # Install IBM Plex Sans font"
      ],
      "metadata": {
        "id": "zLVmdFgdgIw1"
      },
      "execution_count": null,
      "outputs": []
    },
    {
      "cell_type": "markdown",
      "source": [
        "The code below will prompt you to upload a markdown file so that it can be converted into a PDF. The downloadable PDF will open in a new tab. This version of the tool will be able to render LaTeX. Wait a couple seconds for the PDF to generate and open in a new tab."
      ],
      "metadata": {
        "id": "dalUR93Ixoq-"
      }
    },
    {
      "cell_type": "code",
      "source": [
        "# 2. Create a custom LaTeX template    #\n",
        "\n",
        "template_content = r'''\n",
        "\\documentclass{report}\n",
        "\n",
        "\\usepackage{graphicx}\n",
        "\\usepackage{longtable}\n",
        "\\usepackage{booktabs}    % Provides professional horizontal lines\n",
        "\\usepackage{array}\n",
        "\\usepackage{geometry}\n",
        "\\usepackage{lipsum}\n",
        "\\usepackage{tabularx}\n",
        "\\usepackage{multirow}\n",
        "\\usepackage{hyperref}\n",
        "\\usepackage[export]{adjustbox}\n",
        "\\usepackage{setspace}\n",
        "\\usepackage{ragged2e}    % For \\justifying\n",
        "% \\usepackage{fontspec}    % For embedding  custom fonts like IBM Plex Sans, remove the '%' sign before '\\usepackage'\n",
        "\n",
        "% To set IBM Plex Sans as the main font, remove the '%' sign below\n",
        "% \\setmainfont{IBMPlexSans}\n",
        "\n",
        "% Automatically scale images so they don't exceed margins:\n",
        "\\setkeys{Gin}{width=\\linewidth, height=\\textheight, keepaspectratio}\n",
        "\n",
        "% Define \\tightlist to avoid undefined control sequence error in Pandoc\n",
        "\\providecommand{\\tightlist}{\n",
        "  \\setlength{\\itemsep}{0pt}\\setlength{\\parskip}{0pt}\n",
        "}\n",
        "\n",
        "% --- TITLE BLOCK (centered) ---\n",
        "\\title{\n",
        "\\centering\n",
        "\\Huge\\textbf{<insert desired document title>}\\\\\n",
        "{\\LARGE <insert desired organization name>}\n",
        "}\n",
        "\n",
        "\\author{\n",
        "\\centering\n",
        "\\Large{<insert First Name Last Name>}\n",
        "}\n",
        "\n",
        "\\date{\\centering <insert desired date>}\n",
        "\n",
        "% 1-inch margins all around\n",
        "\\geometry{left=1in, right=1in, top=1in, bottom=1in}\n",
        "\n",
        "% 1.5 line spacing\n",
        "\\setstretch{1.5}\n",
        "\n",
        "\\begin{document}\n",
        "\n",
        "% Title (centered)\n",
        "\\maketitle\n",
        "\n",
        "% Justify all subsequent text:\n",
        "\\justifying\n",
        "\n",
        "$body$\n",
        "\n",
        "\\end{document}\n",
        "'''\n",
        "\n",
        "with open('custom.latex', 'w') as f:\n",
        "    f.write(template_content)\n",
        "\n",
        "\n",
        "# 3. Prompt for file upload (Markdown) #\n",
        "\n",
        "from google.colab import files\n",
        "uploaded = files.upload()\n",
        "\n",
        "import os\n",
        "from IPython.display import display, HTML\n",
        "\n",
        "\n",
        "# 4. Convert to PDF using the template #\n",
        "\n",
        "for fn in uploaded.keys():\n",
        "    base_name = os.path.splitext(fn)[0]\n",
        "    pdf_filename = base_name + \".pdf\"\n",
        "\n",
        "    # Use Pandoc with XeLaTeX + custom template\n",
        "    # Also parse pipe tables (+pipe_tables) and grid tables (+grid_tables)\n",
        "    !pandoc \"{fn}\" \\\n",
        "            --from markdown+pipe_tables+grid_tables \\\n",
        "            --pdf-engine=xelatex \\\n",
        "            --template=\"custom.latex\" \\\n",
        "            -o \"{pdf_filename}\"\n",
        "\n",
        "    # Provide links to open/download the PDF\n",
        "    if os.path.exists(pdf_filename):\n",
        "        display(HTML(f'<a href=\"{pdf_filename}\" target=\"_blank\">Open PDF in new tab</a>'))\n",
        "        files.download(pdf_filename)\n",
        "    else:\n",
        "        print(f\"PDF generation failed for {fn}. Check the console output above for errors.\")"
      ],
      "metadata": {
        "id": "xfybS0gpj6_V"
      },
      "execution_count": null,
      "outputs": []
    }
  ]
}