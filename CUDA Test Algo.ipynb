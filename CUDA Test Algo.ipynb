{
 "cells": [
  {
   "cell_type": "code",
   "execution_count": 5,
   "id": "7d0c5683-bc50-436e-8aa4-a7f29f6ffb74",
   "metadata": {},
   "outputs": [
    {
     "name": "stdout",
     "output_type": "stream",
     "text": [
      "Requirement already satisfied: numba in c:\\users\\ojbsn\\anaconda3\\lib\\site-packages (0.59.0)\n",
      "Requirement already satisfied: llvmlite<0.43,>=0.42.0dev0 in c:\\users\\ojbsn\\anaconda3\\lib\\site-packages (from numba) (0.42.0)\n",
      "Requirement already satisfied: numpy<1.27,>=1.22 in c:\\users\\ojbsn\\anaconda3\\lib\\site-packages (from numba) (1.26.3)\n"
     ]
    }
   ],
   "source": [
    "!pip install numba"
   ]
  },
  {
   "cell_type": "code",
   "execution_count": 2,
   "id": "683cf961-8651-41a0-a67d-06885d97214d",
   "metadata": {},
   "outputs": [
    {
     "name": "stdout",
     "output_type": "stream",
     "text": [
      "20.33825950000005\n"
     ]
    }
   ],
   "source": [
    "import numpy as np\n",
    "from timeit import default_timer as timer\n",
    "\n",
    "def pow(a, b, c):\n",
    "    for i in range(a.size):\n",
    "         c[i] = a[i] ** b[i]\n",
    "\n",
    "def main():\n",
    "    vec_size = 100000000\n",
    "\n",
    "    a = b = np.array(np.random.sample(vec_size), dtype=np.float32)\n",
    "    c = np.zeros(vec_size, dtype=np.float32)\n",
    "\n",
    "    start = timer()\n",
    "    pow(a, b, c)\n",
    "    duration = timer() - start\n",
    "\n",
    "    print(duration)\n",
    "\n",
    "if __name__ == '__main__':\n",
    "    main()"
   ]
  },
  {
   "cell_type": "code",
   "execution_count": 4,
   "id": "fe4d6770-04db-4c76-9677-4ca9ea4c6a66",
   "metadata": {},
   "outputs": [
    {
     "name": "stdout",
     "output_type": "stream",
     "text": [
      "0.7042030000000068\n"
     ]
    }
   ],
   "source": [
    "import numpy as np\n",
    "from timeit import default_timer as timer\n",
    "from numba import vectorize\n",
    "\n",
    "@vectorize(['float32(float32, float32)'], target='cuda')\n",
    "def pow(a, b):\n",
    "    return a ** b\n",
    "\n",
    "def main():\n",
    "    vec_size = 100000000\n",
    "\n",
    "    a = b = np.array(np.random.sample(vec_size), dtype=np.float32)\n",
    "    c = np.zeros(vec_size, dtype=np.float32)\n",
    "\n",
    "    start = timer()\n",
    "    c = pow(a, b)\n",
    "    duration = timer() - start\n",
    "\n",
    "    print(duration)\n",
    "\n",
    "if __name__ == '__main__':\n",
    "    main()"
   ]
  },
  {
   "cell_type": "code",
   "execution_count": null,
   "id": "c8939575-4bc1-4459-a93e-626f38a37903",
   "metadata": {},
   "outputs": [],
   "source": []
  }
 ],
 "metadata": {
  "kernelspec": {
   "display_name": "GPU_Kernel",
   "language": "python",
   "name": "gpu_kernel"
  },
  "language_info": {
   "codemirror_mode": {
    "name": "ipython",
    "version": 3
   },
   "file_extension": ".py",
   "mimetype": "text/x-python",
   "name": "python",
   "nbconvert_exporter": "python",
   "pygments_lexer": "ipython3",
   "version": "3.11.7"
  }
 },
 "nbformat": 4,
 "nbformat_minor": 5
}
