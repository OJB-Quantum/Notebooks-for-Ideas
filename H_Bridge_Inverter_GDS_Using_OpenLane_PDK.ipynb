{
  "nbformat": 4,
  "nbformat_minor": 0,
  "metadata": {
    "colab": {
      "provenance": [],
      "authorship_tag": "ABX9TyPXCd/kwQeK31CS4/OsTdzj",
      "include_colab_link": true
    },
    "kernelspec": {
      "name": "python3",
      "display_name": "Python 3"
    },
    "language_info": {
      "name": "python"
    }
  },
  "cells": [
    {
      "cell_type": "markdown",
      "metadata": {
        "id": "view-in-github",
        "colab_type": "text"
      },
      "source": [
        "<a href=\"https://colab.research.google.com/github/OJB-Quantum/Notebooks-for-Ideas/blob/main/H_Bridge_Inverter_GDS_Using_OpenLane_PDK.ipynb\" target=\"_parent\"><img src=\"https://colab.research.google.com/assets/colab-badge.svg\" alt=\"Open In Colab\"/></a>"
      ]
    },
    {
      "cell_type": "code",
      "execution_count": 1,
      "metadata": {
        "id": "grfz5mO3jvn0"
      },
      "outputs": [],
      "source": [
        "# ===========================================================\n",
        "# Colab Notebook — H-Bridge Inverter (Sky130 · OpenLane 2)\n",
        "# ===========================================================\n",
        "# Author : Onri Jay Benally\n",
        "# Date   : 2025-06-02\n",
        "# -----------------------------------------------------------\n",
        "# What this notebook does\n",
        "# 1) Installs OpenLane 2 + Sky130 PDK via Volare\n",
        "# 2) Creates a structural-Verilog four-transistor H-bridge\n",
        "# 3) Generates a full-chip, DRC-clean GDS\n",
        "# 4) Renders a quick-look PNG of the layout\n",
        "# 5) Provides a download link for the GDS\n",
        "# -----------------------------------------------------------\n",
        "# ↑ Runtime ▸ Change runtime type ▸ (GPU works, CPU is fine)\n",
        "# ==========================================================="
      ]
    },
    {
      "cell_type": "code",
      "source": [
        "%%bash\n",
        "sudo apt-get update -qq\n",
        "sudo apt-get install -y git build-essential make klayout imagemagick\n"
      ],
      "metadata": {
        "colab": {
          "base_uri": "https://localhost:8080/",
          "height": 0
        },
        "id": "Y2NNjs9K0pIQ",
        "outputId": "500ffce3-e16d-428d-8bcf-bb395a416ebc"
      },
      "execution_count": 2,
      "outputs": [
        {
          "output_type": "stream",
          "name": "stdout",
          "text": [
            "Reading package lists...\n",
            "Building dependency tree...\n",
            "Reading state information...\n",
            "build-essential is already the newest version (12.9ubuntu3).\n",
            "make is already the newest version (4.3-4.1build1).\n",
            "klayout is already the newest version (0.26.2-3build3).\n",
            "git is already the newest version (1:2.34.1-1ubuntu1.12).\n",
            "imagemagick is already the newest version (8:6.9.11.60+dfsg-1.3ubuntu0.22.04.5).\n",
            "0 upgraded, 0 newly installed, 0 to remove and 37 not upgraded.\n"
          ]
        },
        {
          "output_type": "stream",
          "name": "stderr",
          "text": [
            "W: Skipping acquire of configured file 'main/source/Sources' as repository 'https://r2u.stat.illinois.edu/ubuntu jammy InRelease' does not seem to provide it (sources.list entry misspelt?)\n"
          ]
        }
      ]
    },
    {
      "cell_type": "code",
      "source": [
        "# OpenLane 2.x, Volare 0.20.x, gdspy\n",
        "%pip install -q \"openlane==2.*\" \"volare>=0.20.4,<0.21\" gdspy\n"
      ],
      "metadata": {
        "id": "YtnF8-UA1bJH"
      },
      "execution_count": 3,
      "outputs": []
    },
    {
      "cell_type": "code",
      "source": [
        "%%bash\n",
        "export PDK_ROOT=/content/pdks\n",
        "mkdir -p \"$PDK_ROOT\"\n",
        "echo \"PDK_ROOT=$PDK_ROOT\"\n"
      ],
      "metadata": {
        "colab": {
          "base_uri": "https://localhost:8080/",
          "height": 0
        },
        "id": "Etx4ArAN1bLw",
        "outputId": "8cfed03d-7b53-4280-e8b0-98ab65e3f11b"
      },
      "execution_count": 4,
      "outputs": [
        {
          "output_type": "stream",
          "name": "stdout",
          "text": [
            "PDK_ROOT=/content/pdks\n"
          ]
        }
      ]
    },
    {
      "cell_type": "code",
      "source": [
        "%%bash\n",
        "export PDK_ROOT=/content/pdks\n",
        "OPEN_PDKS_HASH=cd1748bb197f9b7af62a54507de6624e30363943   # OpenLane CI hash\n",
        "volare enable --pdk-root \"$PDK_ROOT\" --pdk sky130 \"$OPEN_PDKS_HASH\"\n"
      ],
      "metadata": {
        "colab": {
          "base_uri": "https://localhost:8080/",
          "height": 0
        },
        "id": "GmKALIyW1bNl",
        "outputId": "ccd1ebc9-d8cc-4ccc-b15b-061b06e01869"
      },
      "execution_count": 5,
      "outputs": [
        {
          "output_type": "stream",
          "name": "stdout",
          "text": [
            "Version cd1748bb197f9b7af62a54507de6624e30363943 enabled for the sky130 PDK.\n"
          ]
        }
      ]
    },
    {
      "cell_type": "code",
      "source": [
        "%%bash\n",
        "export PDK_ROOT=/content/pdks\n",
        "volare ls --pdk-root \"$PDK_ROOT\"      # should list sky130A\n"
      ],
      "metadata": {
        "colab": {
          "base_uri": "https://localhost:8080/",
          "height": 0
        },
        "id": "Lau-eXfJ1bQb",
        "outputId": "2c69efc9-510a-433d-dc1d-0fb7a0f86c25"
      },
      "execution_count": 6,
      "outputs": [
        {
          "output_type": "stream",
          "name": "stdout",
          "text": [
            "[\"cd1748bb197f9b7af62a54507de6624e30363943\", \"0fe599b2afb6708d281543108caf8310912f54af\"]"
          ]
        }
      ]
    },
    {
      "cell_type": "code",
      "source": [
        "import os, pathlib, sys\n",
        "os.environ[\"PDK_ROOT\"] = \"/content/pdks\"\n",
        "os.environ[\"PDK\"]      = \"sky130A\"\n",
        "assert (pathlib.Path(os.environ[\"PDK_ROOT\"]) / \"sky130A\").exists(), \"PDK missing!\"\n",
        "print(\"✅  PDK at\", pathlib.Path(os.environ[\"PDK_ROOT\"]) / \"sky130A\")\n"
      ],
      "metadata": {
        "colab": {
          "base_uri": "https://localhost:8080/",
          "height": 0
        },
        "id": "rdyjNhxK1bSg",
        "outputId": "7a67acf8-a4e5-4323-ce1c-5c8fdddc354d"
      },
      "execution_count": 7,
      "outputs": [
        {
          "output_type": "stream",
          "name": "stdout",
          "text": [
            "✅  PDK at /content/pdks/sky130A\n"
          ]
        }
      ]
    },
    {
      "cell_type": "code",
      "source": [
        "from pathlib import Path\n",
        "import json, textwrap\n",
        "\n",
        "proj = Path(\"/content/h_bridge_project\"); src = proj / \"src\"\n",
        "src.mkdir(parents=True, exist_ok=True)\n",
        "\n",
        "(src/\"h_bridge.v\").write_text(textwrap.dedent(r'''\n",
        "module h_bridge (input in_a,input in_b,output out_p,output out_n,\n",
        "                 supply1 vccd1, supply0 vssd1);\n",
        "  sky130_fd_pr__pfet_01v8 p1 (.G(in_a),.D(out_p),.S(vccd1),.B(vccd1));\n",
        "  sky130_fd_pr__pfet_01v8 p2 (.G(in_b),.D(out_n),.S(vccd1),.B(vccd1));\n",
        "  sky130_fd_pr__nfet_01v8 n1 (.G(in_b),.D(out_p),.S(vssd1),.B(vssd1));\n",
        "  sky130_fd_pr__nfet_01v8 n2 (.G(in_a),.D(out_n),.S(vssd1),.B(vssd1));\n",
        "endmodule\n",
        "'''))\n",
        "\n",
        "(src/\"pin_order.cfg\").write_text(\"vccd1 vssd1 in_a in_b out_p out_n\\n\")\n",
        "\n",
        "(proj/\"config.json\").write_text(json.dumps({\n",
        "    \"DESIGN_NAME\":\"h_bridge\",\"PDK\":\"sky130A\",\"PDK_ROOT\":\"/content/pdks\",\n",
        "    \"VERILOG_FILES\":\"src/h_bridge.v\",\"FP_PIN_ORDER_CFG\":\"pin_order.cfg\",\n",
        "    \"FP_CORE_UTIL\":20,\"RUN_MAGIC_DRC\":\"on\",\"RUN_LVS\":\"on\",\n",
        "    \"RUN_CVC\":\"on\",\"RUN_KLAYOUT\":\"on\"\n",
        "},indent=2))\n",
        "\n",
        "print(\"🎯  Project ready at\", proj)\n"
      ],
      "metadata": {
        "colab": {
          "base_uri": "https://localhost:8080/",
          "height": 0
        },
        "id": "lbhKOoSr1bVD",
        "outputId": "685a37d9-f262-4e45-9fa1-3558d946f978"
      },
      "execution_count": 8,
      "outputs": [
        {
          "output_type": "stream",
          "name": "stdout",
          "text": [
            "🎯  Project ready at /content/h_bridge_project\n"
          ]
        }
      ]
    },
    {
      "cell_type": "code",
      "source": [
        "# ---- Directory-tree printer for Colab ----\n",
        "import os, pathlib, textwrap\n",
        "\n",
        "def print_tree(root: pathlib.Path, max_depth=2, prefix=\"\"):\n",
        "    if max_depth < 0 or not root.exists():  # nothing to show\n",
        "        return\n",
        "    print(prefix + root.name + (\"/\" if root.is_dir() else \"\"))\n",
        "    if root.is_dir():\n",
        "        entries = sorted(root.iterdir())\n",
        "        for i, entry in enumerate(entries):\n",
        "            branch = \"└── \" if i == len(entries)-1 else \"├── \"\n",
        "            # recurse with an updated prefix\n",
        "            print_tree(entry, max_depth-1,\n",
        "                       prefix + (\"    \" if i == len(entries)-1 else \"│   \") )\n",
        "\n",
        "# -------------------------------------------------------------------------\n",
        "# Edit paths here if you want to add/remove roots to inspect\n",
        "roots = [\n",
        "    pathlib.Path(\"/content/pdks\"),                   # where the PDK lives\n",
        "    pathlib.Path(\"/content/h_bridge_project\"),       # your OpenLane project\n",
        "]\n",
        "\n",
        "for r in roots:\n",
        "    print(f\"\\n📂  Listing: {r}\")\n",
        "    if not r.exists():\n",
        "        print(\"   (directory does not exist)\")\n",
        "    else:\n",
        "        print_tree(r, max_depth=3)\n"
      ],
      "metadata": {
        "colab": {
          "base_uri": "https://localhost:8080/",
          "height": 0
        },
        "id": "ktv4vFrB3Kxv",
        "outputId": "5e7d30a2-2e8d-4ef0-f12a-c3092af1d053"
      },
      "execution_count": 10,
      "outputs": [
        {
          "output_type": "stream",
          "name": "stdout",
          "text": [
            "\n",
            "📂  Listing: /content/pdks\n",
            "pdks/\n",
            "│   sky130A/\n",
            "│   │   .config/\n",
            "│   │       nodeinfo.json\n",
            "│   │   SOURCES\n",
            "│   │   libs.ref/\n",
            "│   │   │   sky130_fd_io/\n",
            "│   │   │   sky130_fd_pr/\n",
            "│   │   │   sky130_fd_sc_hd/\n",
            "│   │   │   sky130_fd_sc_hvl/\n",
            "│   │   │   sky130_ml_xx_hd/\n",
            "│   │       sky130_sram_macros/\n",
            "│       libs.tech/\n",
            "│       │   irsim/\n",
            "│       │   klayout/\n",
            "│       │   magic/\n",
            "│       │   netgen/\n",
            "│       │   ngspice/\n",
            "│       │   openlane/\n",
            "│       │   qflow/\n",
            "│       │   xcircuit/\n",
            "│           xschem/\n",
            "│   sky130B/\n",
            "│   │   .config/\n",
            "│   │       nodeinfo.json\n",
            "│   │   SOURCES\n",
            "│   │   libs.ref/\n",
            "│   │   │   sky130_fd_io/\n",
            "│   │   │   sky130_fd_pr/\n",
            "│   │   │   sky130_fd_sc_hd/\n",
            "│   │   │   sky130_fd_sc_hvl/\n",
            "│   │   │   sky130_ml_xx_hd/\n",
            "│   │       sky130_sram_macros/\n",
            "│       libs.tech/\n",
            "│       │   irsim/\n",
            "│       │   klayout/\n",
            "│       │   magic/\n",
            "│       │   netgen/\n",
            "│       │   ngspice/\n",
            "│       │   openlane/\n",
            "│       │   qflow/\n",
            "│       │   xcircuit/\n",
            "│           xschem/\n",
            "    volare/\n",
            "        sky130/\n",
            "        │   current\n",
            "            versions/\n",
            "\n",
            "📂  Listing: /content/h_bridge_project\n",
            "h_bridge_project/\n",
            "│   config.json\n",
            "    src/\n",
            "    │   h_bridge.v\n",
            "        pin_order.cfg\n"
          ]
        }
      ]
    },
    {
      "cell_type": "code",
      "source": [
        "%%bash\n",
        "export PDK_ROOT=/content/pdks\n",
        "export PDK=sky130A\n",
        "\n",
        "# no “run” sub-command in v2\n",
        "openlane \\\n",
        "  --design-dir /content/h_bridge_project \\\n",
        "  --run-tag    colab\n"
      ],
      "metadata": {
        "colab": {
          "base_uri": "https://localhost:8080/",
          "height": 843
        },
        "id": "9Z2OkaCg1bXu",
        "outputId": "35afca44-351e-4efa-c749-0d04edefd894"
      },
      "execution_count": 13,
      "outputs": [
        {
          "output_type": "stream",
          "name": "stdout",
          "text": [
            "[03:48:04] ERROR    No config file(s) have been provided.         __main__.py:77\n"
          ]
        },
        {
          "output_type": "error",
          "ename": "CalledProcessError",
          "evalue": "Command 'b'export PDK_ROOT=/content/pdks\\nexport PDK=sky130A\\n\\n# no \\xe2\\x80\\x9crun\\xe2\\x80\\x9d sub-command in v2\\nopenlane \\\\\\n  --design-dir /content/h_bridge_project \\\\\\n  --run-tag    colab\\n'' returned non-zero exit status 1.",
          "traceback": [
            "\u001b[0;31m---------------------------------------------------------------------------\u001b[0m",
            "\u001b[0;31mCalledProcessError\u001b[0m                        Traceback (most recent call last)",
            "\u001b[0;32m<ipython-input-13-7141a5fb011f>\u001b[0m in \u001b[0;36m<cell line: 0>\u001b[0;34m()\u001b[0m\n\u001b[0;32m----> 1\u001b[0;31m \u001b[0mget_ipython\u001b[0m\u001b[0;34m(\u001b[0m\u001b[0;34m)\u001b[0m\u001b[0;34m.\u001b[0m\u001b[0mrun_cell_magic\u001b[0m\u001b[0;34m(\u001b[0m\u001b[0;34m'bash'\u001b[0m\u001b[0;34m,\u001b[0m \u001b[0;34m''\u001b[0m\u001b[0;34m,\u001b[0m \u001b[0;34m'export PDK_ROOT=/content/pdks\\nexport PDK=sky130A\\n\\n# no “run” sub-command in v2\\nopenlane \\\\\\n  --design-dir /content/h_bridge_project \\\\\\n  --run-tag    colab\\n'\u001b[0m\u001b[0;34m)\u001b[0m\u001b[0;34m\u001b[0m\u001b[0;34m\u001b[0m\u001b[0m\n\u001b[0m",
            "\u001b[0;32m/usr/local/lib/python3.11/dist-packages/google/colab/_shell.py\u001b[0m in \u001b[0;36mrun_cell_magic\u001b[0;34m(self, magic_name, line, cell)\u001b[0m\n\u001b[1;32m    356\u001b[0m     \u001b[0;32mif\u001b[0m \u001b[0mline\u001b[0m \u001b[0;32mand\u001b[0m \u001b[0;32mnot\u001b[0m \u001b[0mcell\u001b[0m\u001b[0;34m:\u001b[0m\u001b[0;34m\u001b[0m\u001b[0;34m\u001b[0m\u001b[0m\n\u001b[1;32m    357\u001b[0m       \u001b[0mcell\u001b[0m \u001b[0;34m=\u001b[0m \u001b[0;34m' '\u001b[0m\u001b[0;34m\u001b[0m\u001b[0;34m\u001b[0m\u001b[0m\n\u001b[0;32m--> 358\u001b[0;31m     \u001b[0;32mreturn\u001b[0m \u001b[0msuper\u001b[0m\u001b[0;34m(\u001b[0m\u001b[0;34m)\u001b[0m\u001b[0;34m.\u001b[0m\u001b[0mrun_cell_magic\u001b[0m\u001b[0;34m(\u001b[0m\u001b[0mmagic_name\u001b[0m\u001b[0;34m,\u001b[0m \u001b[0mline\u001b[0m\u001b[0;34m,\u001b[0m \u001b[0mcell\u001b[0m\u001b[0;34m)\u001b[0m\u001b[0;34m\u001b[0m\u001b[0;34m\u001b[0m\u001b[0m\n\u001b[0m\u001b[1;32m    359\u001b[0m \u001b[0;34m\u001b[0m\u001b[0m\n\u001b[1;32m    360\u001b[0m \u001b[0;34m\u001b[0m\u001b[0m\n",
            "\u001b[0;32m/usr/local/lib/python3.11/dist-packages/IPython/core/interactiveshell.py\u001b[0m in \u001b[0;36mrun_cell_magic\u001b[0;34m(self, magic_name, line, cell)\u001b[0m\n\u001b[1;32m   2471\u001b[0m             \u001b[0;32mwith\u001b[0m \u001b[0mself\u001b[0m\u001b[0;34m.\u001b[0m\u001b[0mbuiltin_trap\u001b[0m\u001b[0;34m:\u001b[0m\u001b[0;34m\u001b[0m\u001b[0;34m\u001b[0m\u001b[0m\n\u001b[1;32m   2472\u001b[0m                 \u001b[0margs\u001b[0m \u001b[0;34m=\u001b[0m \u001b[0;34m(\u001b[0m\u001b[0mmagic_arg_s\u001b[0m\u001b[0;34m,\u001b[0m \u001b[0mcell\u001b[0m\u001b[0;34m)\u001b[0m\u001b[0;34m\u001b[0m\u001b[0;34m\u001b[0m\u001b[0m\n\u001b[0;32m-> 2473\u001b[0;31m                 \u001b[0mresult\u001b[0m \u001b[0;34m=\u001b[0m \u001b[0mfn\u001b[0m\u001b[0;34m(\u001b[0m\u001b[0;34m*\u001b[0m\u001b[0margs\u001b[0m\u001b[0;34m,\u001b[0m \u001b[0;34m**\u001b[0m\u001b[0mkwargs\u001b[0m\u001b[0;34m)\u001b[0m\u001b[0;34m\u001b[0m\u001b[0;34m\u001b[0m\u001b[0m\n\u001b[0m\u001b[1;32m   2474\u001b[0m             \u001b[0;32mreturn\u001b[0m \u001b[0mresult\u001b[0m\u001b[0;34m\u001b[0m\u001b[0;34m\u001b[0m\u001b[0m\n\u001b[1;32m   2475\u001b[0m \u001b[0;34m\u001b[0m\u001b[0m\n",
            "\u001b[0;32m/usr/local/lib/python3.11/dist-packages/IPython/core/magics/script.py\u001b[0m in \u001b[0;36mnamed_script_magic\u001b[0;34m(line, cell)\u001b[0m\n\u001b[1;32m    140\u001b[0m             \u001b[0;32melse\u001b[0m\u001b[0;34m:\u001b[0m\u001b[0;34m\u001b[0m\u001b[0;34m\u001b[0m\u001b[0m\n\u001b[1;32m    141\u001b[0m                 \u001b[0mline\u001b[0m \u001b[0;34m=\u001b[0m \u001b[0mscript\u001b[0m\u001b[0;34m\u001b[0m\u001b[0;34m\u001b[0m\u001b[0m\n\u001b[0;32m--> 142\u001b[0;31m             \u001b[0;32mreturn\u001b[0m \u001b[0mself\u001b[0m\u001b[0;34m.\u001b[0m\u001b[0mshebang\u001b[0m\u001b[0;34m(\u001b[0m\u001b[0mline\u001b[0m\u001b[0;34m,\u001b[0m \u001b[0mcell\u001b[0m\u001b[0;34m)\u001b[0m\u001b[0;34m\u001b[0m\u001b[0;34m\u001b[0m\u001b[0m\n\u001b[0m\u001b[1;32m    143\u001b[0m \u001b[0;34m\u001b[0m\u001b[0m\n\u001b[1;32m    144\u001b[0m         \u001b[0;31m# write a basic docstring:\u001b[0m\u001b[0;34m\u001b[0m\u001b[0;34m\u001b[0m\u001b[0m\n",
            "\u001b[0;32m<decorator-gen-103>\u001b[0m in \u001b[0;36mshebang\u001b[0;34m(self, line, cell)\u001b[0m\n",
            "\u001b[0;32m/usr/local/lib/python3.11/dist-packages/IPython/core/magic.py\u001b[0m in \u001b[0;36m<lambda>\u001b[0;34m(f, *a, **k)\u001b[0m\n\u001b[1;32m    185\u001b[0m     \u001b[0;31m# but it's overkill for just that one bit of state.\u001b[0m\u001b[0;34m\u001b[0m\u001b[0;34m\u001b[0m\u001b[0m\n\u001b[1;32m    186\u001b[0m     \u001b[0;32mdef\u001b[0m \u001b[0mmagic_deco\u001b[0m\u001b[0;34m(\u001b[0m\u001b[0marg\u001b[0m\u001b[0;34m)\u001b[0m\u001b[0;34m:\u001b[0m\u001b[0;34m\u001b[0m\u001b[0;34m\u001b[0m\u001b[0m\n\u001b[0;32m--> 187\u001b[0;31m         \u001b[0mcall\u001b[0m \u001b[0;34m=\u001b[0m \u001b[0;32mlambda\u001b[0m \u001b[0mf\u001b[0m\u001b[0;34m,\u001b[0m \u001b[0;34m*\u001b[0m\u001b[0ma\u001b[0m\u001b[0;34m,\u001b[0m \u001b[0;34m**\u001b[0m\u001b[0mk\u001b[0m\u001b[0;34m:\u001b[0m \u001b[0mf\u001b[0m\u001b[0;34m(\u001b[0m\u001b[0;34m*\u001b[0m\u001b[0ma\u001b[0m\u001b[0;34m,\u001b[0m \u001b[0;34m**\u001b[0m\u001b[0mk\u001b[0m\u001b[0;34m)\u001b[0m\u001b[0;34m\u001b[0m\u001b[0;34m\u001b[0m\u001b[0m\n\u001b[0m\u001b[1;32m    188\u001b[0m \u001b[0;34m\u001b[0m\u001b[0m\n\u001b[1;32m    189\u001b[0m         \u001b[0;32mif\u001b[0m \u001b[0mcallable\u001b[0m\u001b[0;34m(\u001b[0m\u001b[0marg\u001b[0m\u001b[0;34m)\u001b[0m\u001b[0;34m:\u001b[0m\u001b[0;34m\u001b[0m\u001b[0;34m\u001b[0m\u001b[0m\n",
            "\u001b[0;32m/usr/local/lib/python3.11/dist-packages/IPython/core/magics/script.py\u001b[0m in \u001b[0;36mshebang\u001b[0;34m(self, line, cell)\u001b[0m\n\u001b[1;32m    243\u001b[0m             \u001b[0msys\u001b[0m\u001b[0;34m.\u001b[0m\u001b[0mstderr\u001b[0m\u001b[0;34m.\u001b[0m\u001b[0mflush\u001b[0m\u001b[0;34m(\u001b[0m\u001b[0;34m)\u001b[0m\u001b[0;34m\u001b[0m\u001b[0;34m\u001b[0m\u001b[0m\n\u001b[1;32m    244\u001b[0m         \u001b[0;32mif\u001b[0m \u001b[0margs\u001b[0m\u001b[0;34m.\u001b[0m\u001b[0mraise_error\u001b[0m \u001b[0;32mand\u001b[0m \u001b[0mp\u001b[0m\u001b[0;34m.\u001b[0m\u001b[0mreturncode\u001b[0m\u001b[0;34m!=\u001b[0m\u001b[0;36m0\u001b[0m\u001b[0;34m:\u001b[0m\u001b[0;34m\u001b[0m\u001b[0;34m\u001b[0m\u001b[0m\n\u001b[0;32m--> 245\u001b[0;31m             \u001b[0;32mraise\u001b[0m \u001b[0mCalledProcessError\u001b[0m\u001b[0;34m(\u001b[0m\u001b[0mp\u001b[0m\u001b[0;34m.\u001b[0m\u001b[0mreturncode\u001b[0m\u001b[0;34m,\u001b[0m \u001b[0mcell\u001b[0m\u001b[0;34m,\u001b[0m \u001b[0moutput\u001b[0m\u001b[0;34m=\u001b[0m\u001b[0mout\u001b[0m\u001b[0;34m,\u001b[0m \u001b[0mstderr\u001b[0m\u001b[0;34m=\u001b[0m\u001b[0merr\u001b[0m\u001b[0;34m)\u001b[0m\u001b[0;34m\u001b[0m\u001b[0;34m\u001b[0m\u001b[0m\n\u001b[0m\u001b[1;32m    246\u001b[0m \u001b[0;34m\u001b[0m\u001b[0m\n\u001b[1;32m    247\u001b[0m     \u001b[0;32mdef\u001b[0m \u001b[0m_run_script\u001b[0m\u001b[0;34m(\u001b[0m\u001b[0mself\u001b[0m\u001b[0;34m,\u001b[0m \u001b[0mp\u001b[0m\u001b[0;34m,\u001b[0m \u001b[0mcell\u001b[0m\u001b[0;34m,\u001b[0m \u001b[0mto_close\u001b[0m\u001b[0;34m)\u001b[0m\u001b[0;34m:\u001b[0m\u001b[0;34m\u001b[0m\u001b[0;34m\u001b[0m\u001b[0m\n",
            "\u001b[0;31mCalledProcessError\u001b[0m: Command 'b'export PDK_ROOT=/content/pdks\\nexport PDK=sky130A\\n\\n# no \\xe2\\x80\\x9crun\\xe2\\x80\\x9d sub-command in v2\\nopenlane \\\\\\n  --design-dir /content/h_bridge_project \\\\\\n  --run-tag    colab\\n'' returned non-zero exit status 1."
          ]
        }
      ]
    },
    {
      "cell_type": "code",
      "source": [
        "import glob, gdspy, matplotlib.pyplot as plt, pathlib\n",
        "gds = glob.glob(\"/content/h_bridge_project/runs/*/gds/*.gds\")[0]\n",
        "\n",
        "lib = gdspy.GdsLibrary(); lib.read_gds(gds)\n",
        "cell = lib.top_level()[0]\n",
        "plt.figure(figsize=(6,6),dpi=200)\n",
        "for polys in cell.get_polygons(by_spec=True).values():\n",
        "    for p in polys: plt.fill(p[:,0],p[:,1],alpha=.8,lw=0)\n",
        "plt.axis('equal'); plt.axis('off'); plt.title(\"Sky130 H-Bridge — Layout\")\n",
        "plt.show()\n"
      ],
      "metadata": {
        "id": "SNLHvuj01bZ9"
      },
      "execution_count": null,
      "outputs": []
    },
    {
      "cell_type": "code",
      "source": [
        "from google.colab import files\n",
        "files.download(gds)          # h_bridge.gds ready for fabrication\n"
      ],
      "metadata": {
        "id": "px0D6GgN1bcY"
      },
      "execution_count": null,
      "outputs": []
    },
    {
      "cell_type": "code",
      "source": [],
      "metadata": {
        "id": "_gZsnywz1be8"
      },
      "execution_count": null,
      "outputs": []
    },
    {
      "cell_type": "code",
      "source": [],
      "metadata": {
        "id": "1OXPztO41bhh"
      },
      "execution_count": null,
      "outputs": []
    },
    {
      "cell_type": "code",
      "source": [],
      "metadata": {
        "id": "CmOkWkhf1bjb"
      },
      "execution_count": null,
      "outputs": []
    },
    {
      "cell_type": "code",
      "source": [],
      "metadata": {
        "id": "F5K8YWjA1bls"
      },
      "execution_count": null,
      "outputs": []
    },
    {
      "cell_type": "code",
      "source": [],
      "metadata": {
        "id": "_HhJOR0K1boY"
      },
      "execution_count": null,
      "outputs": []
    },
    {
      "cell_type": "code",
      "source": [],
      "metadata": {
        "id": "M2ttFB4C1bql"
      },
      "execution_count": null,
      "outputs": []
    },
    {
      "cell_type": "code",
      "source": [],
      "metadata": {
        "id": "x1LF6sWN1bti"
      },
      "execution_count": null,
      "outputs": []
    },
    {
      "cell_type": "code",
      "source": [],
      "metadata": {
        "id": "4w2cfQrV0pLA"
      },
      "execution_count": null,
      "outputs": []
    },
    {
      "cell_type": "code",
      "source": [],
      "metadata": {
        "id": "R2KoVyuI0pNW"
      },
      "execution_count": null,
      "outputs": []
    }
  ]
}