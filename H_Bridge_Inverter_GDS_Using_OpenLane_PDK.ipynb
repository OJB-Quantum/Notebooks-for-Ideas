{
  "nbformat": 4,
  "nbformat_minor": 0,
  "metadata": {
    "colab": {
      "provenance": [],
      "authorship_tag": "ABX9TyMQTroubfEL4XIYYIpQby+p",
      "include_colab_link": true
    },
    "kernelspec": {
      "name": "python3",
      "display_name": "Python 3"
    },
    "language_info": {
      "name": "python"
    }
  },
  "cells": [
    {
      "cell_type": "markdown",
      "metadata": {
        "id": "view-in-github",
        "colab_type": "text"
      },
      "source": [
        "<a href=\"https://colab.research.google.com/github/OJB-Quantum/Notebooks-for-Ideas/blob/main/H_Bridge_Inverter_GDS_Using_OpenLane_PDK.ipynb\" target=\"_parent\"><img src=\"https://colab.research.google.com/assets/colab-badge.svg\" alt=\"Open In Colab\"/></a>"
      ]
    },
    {
      "cell_type": "code",
      "execution_count": 1,
      "metadata": {
        "id": "grfz5mO3jvn0"
      },
      "outputs": [],
      "source": [
        "# ===========================================================\n",
        "# Colab Notebook — H-Bridge Inverter (Sky130 · OpenLane 2)\n",
        "# ===========================================================\n",
        "# Author : Onri Jay Benally\n",
        "# Date   : 2025-06-02\n",
        "# -----------------------------------------------------------\n",
        "# What this notebook does\n",
        "# 1) Installs OpenLane 2 + Sky130 PDK via Volare\n",
        "# 2) Creates a structural-Verilog four-transistor H-bridge\n",
        "# 3) Generates a full-chip, DRC-clean GDS\n",
        "# 4) Renders a quick-look PNG of the layout\n",
        "# 5) Provides a download link for the GDS\n",
        "# -----------------------------------------------------------\n",
        "# ↑ Runtime ▸ Change runtime type ▸ (GPU works, CPU is fine)\n",
        "# ==========================================================="
      ]
    },
    {
      "cell_type": "code",
      "source": [
        "%%bash\n",
        "# 1️⃣  Linux packages\n",
        "sudo apt-get update -qq\n",
        "sudo apt-get install -y git build-essential make klayout imagemagick\n"
      ],
      "metadata": {
        "colab": {
          "base_uri": "https://localhost:8080/"
        },
        "id": "Y2NNjs9K0pIQ",
        "outputId": "bde4821e-24d5-403b-fce4-29994815e2ca"
      },
      "execution_count": 2,
      "outputs": [
        {
          "output_type": "stream",
          "name": "stdout",
          "text": [
            "Reading package lists...\n",
            "Building dependency tree...\n",
            "Reading state information...\n",
            "build-essential is already the newest version (12.9ubuntu3).\n",
            "make is already the newest version (4.3-4.1build1).\n",
            "klayout is already the newest version (0.26.2-3build3).\n",
            "git is already the newest version (1:2.34.1-1ubuntu1.12).\n",
            "imagemagick is already the newest version (8:6.9.11.60+dfsg-1.3ubuntu0.22.04.5).\n",
            "0 upgraded, 0 newly installed, 0 to remove and 37 not upgraded.\n"
          ]
        },
        {
          "output_type": "stream",
          "name": "stderr",
          "text": [
            "W: Skipping acquire of configured file 'main/source/Sources' as repository 'https://r2u.stat.illinois.edu/ubuntu jammy InRelease' does not seem to provide it (sources.list entry misspelt?)\n"
          ]
        }
      ]
    },
    {
      "cell_type": "code",
      "source": [
        "# 2️⃣  Python packages  (IPython cell, NOT inside %%bash)\n",
        "%pip install -q \"openlane==2.*\" \"volare>=0.20.4,<0.21\" gdspy\n"
      ],
      "metadata": {
        "id": "_gZsnywz1be8"
      },
      "execution_count": 3,
      "outputs": []
    },
    {
      "cell_type": "code",
      "source": [
        "%%bash\n",
        "# 3️⃣  Set and create the PDK folder\n",
        "export PDK_ROOT=/content/pdks\n",
        "mkdir -p \"$PDK_ROOT\"\n"
      ],
      "metadata": {
        "id": "jciGekqo8dSp"
      },
      "execution_count": 4,
      "outputs": []
    },
    {
      "cell_type": "code",
      "source": [
        "%%bash\n",
        "# 4️⃣  Enable the Sky130 kit (OpenLane-tested commit)\n",
        "export PDK_ROOT=/content/pdks\n",
        "volare enable --pdk-root \"$PDK_ROOT\" --pdk sky130 \\\n",
        "    cd1748bb197f9b7af62a54507de6624e30363943\n"
      ],
      "metadata": {
        "colab": {
          "base_uri": "https://localhost:8080/"
        },
        "id": "_t6wyezr8dU3",
        "outputId": "989be8e0-e684-4492-c329-6cd92951adad"
      },
      "execution_count": 5,
      "outputs": [
        {
          "output_type": "stream",
          "name": "stdout",
          "text": [
            "Version cd1748bb197f9b7af62a54507de6624e30363943 enabled for the sky130 PDK.\n"
          ]
        }
      ]
    },
    {
      "cell_type": "code",
      "source": [
        "# 5️⃣  Tell Python / OpenLane where the PDK is\n",
        "import os, pathlib, sys\n",
        "os.environ[\"PDK_ROOT\"] = \"/content/pdks\"\n",
        "os.environ[\"PDK\"]      = \"sky130A\"\n",
        "assert (pathlib.Path(os.environ[\"PDK_ROOT\"]) / \"sky130A\").exists(), \"PDK missing!\"\n",
        "print(\"✅  PDK ready.\")\n"
      ],
      "metadata": {
        "colab": {
          "base_uri": "https://localhost:8080/"
        },
        "id": "4lLpoB5t8dXd",
        "outputId": "1acbb889-e673-4b31-b8d7-5a8efdb29d39"
      },
      "execution_count": 6,
      "outputs": [
        {
          "output_type": "stream",
          "name": "stdout",
          "text": [
            "✅  PDK ready.\n"
          ]
        }
      ]
    },
    {
      "cell_type": "code",
      "source": [
        "from pathlib import Path            # path handling\n",
        "import textwrap                     # handy for dedenting multi-line strings\n",
        "import json                         # read/write JSON\n"
      ],
      "metadata": {
        "id": "6LAjvVK_9Gom"
      },
      "execution_count": 7,
      "outputs": []
    },
    {
      "cell_type": "code",
      "source": [
        "from pathlib import Path\n",
        "import textwrap, json               # ← corrected import line\n",
        "\n",
        "proj = Path(\"/content/h_bridge_project\")\n",
        "src  = proj / \"src\"\n",
        "src.mkdir(parents=True, exist_ok=True)\n",
        "\n",
        "(src / \"h_bridge.v\").write_text(textwrap.dedent(r'''\n",
        "module h_bridge (\n",
        "    input  wire in_a, input wire in_b,\n",
        "    output wire out_p, output wire out_n,\n",
        "    supply1 vccd1, supply0 vssd1\n",
        ");\n",
        "    sky130_fd_pr__pfet_01v8 p1 (.G(in_a), .D(out_p), .S(vccd1), .B(vccd1));\n",
        "    sky130_fd_pr__pfet_01v8 p2 (.G(in_b), .D(out_n), .S(vccd1), .B(vccd1));\n",
        "    sky130_fd_pr__nfet_01v8 n1 (.G(in_b), .D(out_p), .S(vssd1), .B(vssd1));\n",
        "    sky130_fd_pr__nfet_01v8 n2 (.G(in_a), .D(out_n), .S(vssd1), .B(vssd1));\n",
        "endmodule\n",
        "'''))\n",
        "\n",
        "(src / \"pin_order.cfg\").write_text(\"vccd1 vssd1 in_a in_b out_p out_n\\n\")\n",
        "\n",
        "(proj / \"config.json\").write_text(json.dumps({\n",
        "    \"DESIGN_NAME\":   \"h_bridge\",\n",
        "    \"PDK\":           \"sky130A\",\n",
        "    \"PDK_ROOT\":      \"/content/pdks\",\n",
        "    \"VERILOG_FILES\": \"src/h_bridge.v\",\n",
        "    \"FP_PIN_ORDER_CFG\": \"pin_order.cfg\",\n",
        "    \"FP_CORE_UTIL\":  20,\n",
        "    \"RUN_MAGIC_DRC\": \"on\",\n",
        "    \"RUN_LVS\":       \"on\",\n",
        "    \"RUN_CVC\":       \"on\",\n",
        "    \"RUN_KLAYOUT\":   \"on\"\n",
        "}, indent=2))\n",
        "\n",
        "print(\"🎯  Project folder ready:\", proj)\n"
      ],
      "metadata": {
        "colab": {
          "base_uri": "https://localhost:8080/"
        },
        "id": "3v9W9rys8dZy",
        "outputId": "7480801f-ecaa-43ae-8411-6ff1231e26da"
      },
      "execution_count": 8,
      "outputs": [
        {
          "output_type": "stream",
          "name": "stdout",
          "text": [
            "🎯  Project folder ready: /content/h_bridge_project\n"
          ]
        }
      ]
    },
    {
      "cell_type": "code",
      "source": [
        "import subprocess, textwrap, os, pathlib, pprint, sys\n",
        "\n",
        "bash_script = textwrap.dedent(\"\"\"\n",
        "    set -x                           # echo every command\n",
        "    export PDK_ROOT=/content/pdks\n",
        "    export PDK=sky130A\n",
        "    openlane --design-dir /content/h_bridge_project --run-tag colab\n",
        "\"\"\")\n",
        "\n",
        "print(\"🔍  Re-running OpenLane with full stdout/stderr capture …\\n\")\n",
        "result = subprocess.run(\n",
        "    [\"bash\", \"-c\", bash_script],\n",
        "    stdout=subprocess.PIPE,\n",
        "    stderr=subprocess.STDOUT,\n",
        "    text=True\n",
        ")\n",
        "\n",
        "print(result.stdout)           # show everything OpenLane printed\n",
        "print(\"\\n⛔  Exit code:\", result.returncode)\n"
      ],
      "metadata": {
        "colab": {
          "base_uri": "https://localhost:8080/"
        },
        "id": "IOeVyYu78dcP",
        "outputId": "d459755a-6f75-493c-bcd9-696452102ca9"
      },
      "execution_count": 9,
      "outputs": [
        {
          "output_type": "stream",
          "name": "stdout",
          "text": [
            "🔍  Re-running OpenLane with full stdout/stderr capture …\n",
            "\n",
            "+ export PDK_ROOT=/content/pdks\n",
            "+ PDK_ROOT=/content/pdks\n",
            "+ export PDK=sky130A\n",
            "+ PDK=sky130A\n",
            "+ openlane --design-dir /content/h_bridge_project --run-tag colab\n",
            "[04:07:34] ERROR    No config file(s) have been provided.         __main__.py:77\n",
            "\n",
            "\n",
            "⛔  Exit code: 1\n"
          ]
        }
      ]
    },
    {
      "cell_type": "code",
      "source": [
        "# 8️⃣  Quick PNG preview + download\n",
        "import glob, gdspy, matplotlib.pyplot as plt\n",
        "gds = glob.glob(\"/content/h_bridge_project/runs/*/gds/*.gds\")[0]\n",
        "lib = gdspy.GdsLibrary(); lib.read_gds(gds)\n",
        "cell = lib.top_level()[0]\n",
        "plt.figure(figsize=(6,6), dpi=200)\n",
        "for polys in cell.get_polygons(by_spec=True).values():\n",
        "    for p in polys: plt.fill(p[:,0], p[:,1], alpha=.8, lw=0)\n",
        "plt.axis('equal'); plt.axis('off'); plt.title(\"Sky130 H-Bridge — Layout\")\n",
        "plt.show()\n",
        "from google.colab import files; files.download(gds)\n"
      ],
      "metadata": {
        "colab": {
          "base_uri": "https://localhost:8080/",
          "height": 211
        },
        "id": "3lpch9Em8dfI",
        "outputId": "d97fc8ae-8925-467e-e118-096811b54675"
      },
      "execution_count": 10,
      "outputs": [
        {
          "output_type": "error",
          "ename": "IndexError",
          "evalue": "list index out of range",
          "traceback": [
            "\u001b[0;31m---------------------------------------------------------------------------\u001b[0m",
            "\u001b[0;31mIndexError\u001b[0m                                Traceback (most recent call last)",
            "\u001b[0;32m<ipython-input-10-990db8a4f890>\u001b[0m in \u001b[0;36m<cell line: 0>\u001b[0;34m()\u001b[0m\n\u001b[1;32m      1\u001b[0m \u001b[0;31m# 8️⃣  Quick PNG preview + download\u001b[0m\u001b[0;34m\u001b[0m\u001b[0;34m\u001b[0m\u001b[0m\n\u001b[1;32m      2\u001b[0m \u001b[0;32mimport\u001b[0m \u001b[0mglob\u001b[0m\u001b[0;34m,\u001b[0m \u001b[0mgdspy\u001b[0m\u001b[0;34m,\u001b[0m \u001b[0mmatplotlib\u001b[0m\u001b[0;34m.\u001b[0m\u001b[0mpyplot\u001b[0m \u001b[0;32mas\u001b[0m \u001b[0mplt\u001b[0m\u001b[0;34m\u001b[0m\u001b[0;34m\u001b[0m\u001b[0m\n\u001b[0;32m----> 3\u001b[0;31m \u001b[0mgds\u001b[0m \u001b[0;34m=\u001b[0m \u001b[0mglob\u001b[0m\u001b[0;34m.\u001b[0m\u001b[0mglob\u001b[0m\u001b[0;34m(\u001b[0m\u001b[0;34m\"/content/h_bridge_project/runs/*/gds/*.gds\"\u001b[0m\u001b[0;34m)\u001b[0m\u001b[0;34m[\u001b[0m\u001b[0;36m0\u001b[0m\u001b[0;34m]\u001b[0m\u001b[0;34m\u001b[0m\u001b[0;34m\u001b[0m\u001b[0m\n\u001b[0m\u001b[1;32m      4\u001b[0m \u001b[0mlib\u001b[0m \u001b[0;34m=\u001b[0m \u001b[0mgdspy\u001b[0m\u001b[0;34m.\u001b[0m\u001b[0mGdsLibrary\u001b[0m\u001b[0;34m(\u001b[0m\u001b[0;34m)\u001b[0m\u001b[0;34m;\u001b[0m \u001b[0mlib\u001b[0m\u001b[0;34m.\u001b[0m\u001b[0mread_gds\u001b[0m\u001b[0;34m(\u001b[0m\u001b[0mgds\u001b[0m\u001b[0;34m)\u001b[0m\u001b[0;34m\u001b[0m\u001b[0;34m\u001b[0m\u001b[0m\n\u001b[1;32m      5\u001b[0m \u001b[0mcell\u001b[0m \u001b[0;34m=\u001b[0m \u001b[0mlib\u001b[0m\u001b[0;34m.\u001b[0m\u001b[0mtop_level\u001b[0m\u001b[0;34m(\u001b[0m\u001b[0;34m)\u001b[0m\u001b[0;34m[\u001b[0m\u001b[0;36m0\u001b[0m\u001b[0;34m]\u001b[0m\u001b[0;34m\u001b[0m\u001b[0;34m\u001b[0m\u001b[0m\n",
            "\u001b[0;31mIndexError\u001b[0m: list index out of range"
          ]
        }
      ]
    },
    {
      "cell_type": "code",
      "source": [],
      "metadata": {
        "id": "nFObQB1w8dhi"
      },
      "execution_count": null,
      "outputs": []
    },
    {
      "cell_type": "code",
      "source": [],
      "metadata": {
        "id": "KzuwA6bt8dkH"
      },
      "execution_count": null,
      "outputs": []
    },
    {
      "cell_type": "code",
      "source": [],
      "metadata": {
        "id": "1OXPztO41bhh"
      },
      "execution_count": null,
      "outputs": []
    },
    {
      "cell_type": "code",
      "source": [],
      "metadata": {
        "id": "CmOkWkhf1bjb"
      },
      "execution_count": null,
      "outputs": []
    },
    {
      "cell_type": "code",
      "source": [],
      "metadata": {
        "id": "F5K8YWjA1bls"
      },
      "execution_count": null,
      "outputs": []
    },
    {
      "cell_type": "code",
      "source": [],
      "metadata": {
        "id": "_HhJOR0K1boY"
      },
      "execution_count": null,
      "outputs": []
    },
    {
      "cell_type": "code",
      "source": [],
      "metadata": {
        "id": "M2ttFB4C1bql"
      },
      "execution_count": null,
      "outputs": []
    },
    {
      "cell_type": "code",
      "source": [],
      "metadata": {
        "id": "x1LF6sWN1bti"
      },
      "execution_count": null,
      "outputs": []
    },
    {
      "cell_type": "code",
      "source": [],
      "metadata": {
        "id": "4w2cfQrV0pLA"
      },
      "execution_count": null,
      "outputs": []
    },
    {
      "cell_type": "code",
      "source": [],
      "metadata": {
        "id": "R2KoVyuI0pNW"
      },
      "execution_count": null,
      "outputs": []
    }
  ]
}