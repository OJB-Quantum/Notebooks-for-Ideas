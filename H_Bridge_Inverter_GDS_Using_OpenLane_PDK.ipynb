{
  "nbformat": 4,
  "nbformat_minor": 0,
  "metadata": {
    "colab": {
      "provenance": [],
      "toc_visible": true,
      "authorship_tag": "ABX9TyObN4+aK0VHihMvc+aU6g1p",
      "include_colab_link": true
    },
    "kernelspec": {
      "name": "python3",
      "display_name": "Python 3"
    },
    "language_info": {
      "name": "python"
    }
  },
  "cells": [
    {
      "cell_type": "markdown",
      "metadata": {
        "id": "view-in-github",
        "colab_type": "text"
      },
      "source": [
        "<a href=\"https://colab.research.google.com/github/OJB-Quantum/Notebooks-for-Ideas/blob/main/H_Bridge_Inverter_GDS_Using_OpenLane_PDK.ipynb\" target=\"_parent\"><img src=\"https://colab.research.google.com/assets/colab-badge.svg\" alt=\"Open In Colab\"/></a>"
      ]
    },
    {
      "cell_type": "code",
      "execution_count": 1,
      "metadata": {
        "id": "grfz5mO3jvn0"
      },
      "outputs": [],
      "source": [
        "# ===========================================================\n",
        "# Colab Notebook — H-Bridge Inverter (Sky130 · OpenLane 2)\n",
        "# ===========================================================\n",
        "# Author : Onri Jay Benally\n",
        "# Date   : 2025-06-02\n",
        "# -----------------------------------------------------------\n",
        "# What this notebook does\n",
        "# 1) Installs OpenLane 2 + Sky130 PDK via Volare\n",
        "# 2) Creates a structural-Verilog four-transistor H-bridge\n",
        "# 3) Generates a full-chip, DRC-clean GDS\n",
        "# 4) Renders a quick-look PNG of the layout\n",
        "# 5) Provides a download link for the GDS\n",
        "# -----------------------------------------------------------\n",
        "# ↑ Runtime ▸ Change runtime type ▸ (GPU works, CPU is fine)\n",
        "# ==========================================================="
      ]
    },
    {
      "cell_type": "code",
      "source": [
        "%%bash\n",
        "# 1️⃣  Linux packages\n",
        "sudo apt-get update -qq\n",
        "sudo apt-get install -y git build-essential make klayout imagemagick\n"
      ],
      "metadata": {
        "colab": {
          "base_uri": "https://localhost:8080/"
        },
        "id": "Y2NNjs9K0pIQ",
        "outputId": "9d870591-7184-4ba5-adfb-4c61012cff1b"
      },
      "execution_count": 2,
      "outputs": [
        {
          "output_type": "stream",
          "name": "stdout",
          "text": [
            "Reading package lists...\n",
            "Building dependency tree...\n",
            "Reading state information...\n",
            "build-essential is already the newest version (12.9ubuntu3).\n",
            "make is already the newest version (4.3-4.1build1).\n",
            "klayout is already the newest version (0.26.2-3build3).\n",
            "git is already the newest version (1:2.34.1-1ubuntu1.12).\n",
            "imagemagick is already the newest version (8:6.9.11.60+dfsg-1.3ubuntu0.22.04.5).\n",
            "0 upgraded, 0 newly installed, 0 to remove and 38 not upgraded.\n"
          ]
        },
        {
          "output_type": "stream",
          "name": "stderr",
          "text": [
            "W: Skipping acquire of configured file 'main/source/Sources' as repository 'https://r2u.stat.illinois.edu/ubuntu jammy InRelease' does not seem to provide it (sources.list entry misspelt?)\n"
          ]
        }
      ]
    },
    {
      "cell_type": "code",
      "source": [
        "# 2️⃣  Python packages  (IPython cell, NOT inside %%bash)\n",
        "%pip install -q \"openlane==2.*\" \"volare>=0.20.4,<0.21\" gdspy\n"
      ],
      "metadata": {
        "id": "_gZsnywz1be8"
      },
      "execution_count": 3,
      "outputs": []
    },
    {
      "cell_type": "code",
      "source": [
        "%%bash\n",
        "# 3️⃣  Set and create the PDK folder\n",
        "export PDK_ROOT=/content/pdks\n",
        "mkdir -p \"$PDK_ROOT\"\n"
      ],
      "metadata": {
        "id": "jciGekqo8dSp"
      },
      "execution_count": 4,
      "outputs": []
    },
    {
      "cell_type": "code",
      "source": [
        "%%bash\n",
        "# 4️⃣  Enable the Sky130 kit (OpenLane-tested commit)\n",
        "export PDK_ROOT=/content/pdks\n",
        "volare enable --pdk-root \"$PDK_ROOT\" --pdk sky130 \\\n",
        "    cd1748bb197f9b7af62a54507de6624e30363943\n"
      ],
      "metadata": {
        "colab": {
          "base_uri": "https://localhost:8080/"
        },
        "id": "_t6wyezr8dU3",
        "outputId": "031829cd-b703-4ed6-9d82-237e69e46d3e"
      },
      "execution_count": 5,
      "outputs": [
        {
          "output_type": "stream",
          "name": "stdout",
          "text": [
            "Version cd1748bb197f9b7af62a54507de6624e30363943 enabled for the sky130 PDK.\n"
          ]
        }
      ]
    },
    {
      "cell_type": "code",
      "source": [
        "# 5️⃣  Tell Python / OpenLane where the PDK is\n",
        "import os, pathlib, sys\n",
        "os.environ[\"PDK_ROOT\"] = \"/content/pdks\"\n",
        "os.environ[\"PDK\"]      = \"sky130A\"\n",
        "assert (pathlib.Path(os.environ[\"PDK_ROOT\"]) / \"sky130A\").exists(), \"PDK missing!\"\n",
        "print(\"✅  PDK ready.\")\n"
      ],
      "metadata": {
        "colab": {
          "base_uri": "https://localhost:8080/"
        },
        "id": "4lLpoB5t8dXd",
        "outputId": "adfd0b0d-37ba-41e0-f291-d9fcf22e7bc2"
      },
      "execution_count": 6,
      "outputs": [
        {
          "output_type": "stream",
          "name": "stdout",
          "text": [
            "✅  PDK ready.\n"
          ]
        }
      ]
    },
    {
      "cell_type": "code",
      "source": [
        "from pathlib import Path            # path handling\n",
        "import textwrap                     # handy for dedenting multi-line strings\n",
        "import json                         # read/write JSON\n"
      ],
      "metadata": {
        "id": "6LAjvVK_9Gom"
      },
      "execution_count": 7,
      "outputs": []
    },
    {
      "cell_type": "code",
      "source": [
        "from pathlib import Path\n",
        "import textwrap, json               # ← corrected import line\n",
        "\n",
        "proj = Path(\"/content/h_bridge_project\")\n",
        "src  = proj / \"src\"\n",
        "src.mkdir(parents=True, exist_ok=True)\n",
        "\n",
        "(src / \"h_bridge.v\").write_text(textwrap.dedent(r'''\n",
        "module h_bridge (\n",
        "    input  wire in_a, input wire in_b,\n",
        "    output wire out_p, output wire out_n,\n",
        "    supply1 vccd1, supply0 vssd1\n",
        ");\n",
        "    sky130_fd_pr__pfet_01v8 p1 (.G(in_a), .D(out_p), .S(vccd1), .B(vccd1));\n",
        "    sky130_fd_pr__pfet_01v8 p2 (.G(in_b), .D(out_n), .S(vccd1), .B(vccd1));\n",
        "    sky130_fd_pr__nfet_01v8 n1 (.G(in_b), .D(out_p), .S(vssd1), .B(vssd1));\n",
        "    sky130_fd_pr__nfet_01v8 n2 (.G(in_a), .D(out_n), .S(vssd1), .B(vssd1));\n",
        "endmodule\n",
        "'''))\n",
        "\n",
        "(src / \"pin_order.cfg\").write_text(\"vccd1 vssd1 in_a in_b out_p out_n\\n\")\n",
        "\n",
        "(proj / \"config.json\").write_text(json.dumps({\n",
        "    \"DESIGN_NAME\":   \"h_bridge\",\n",
        "    \"PDK\":           \"sky130A\",\n",
        "    \"PDK_ROOT\":      \"/content/pdks\",\n",
        "    \"VERILOG_FILES\": \"src/h_bridge.v\",\n",
        "    \"FP_PIN_ORDER_CFG\": \"pin_order.cfg\",\n",
        "    \"FP_CORE_UTIL\":  20,\n",
        "    \"RUN_MAGIC_DRC\": \"on\",\n",
        "    \"RUN_LVS\":       \"on\",\n",
        "    \"RUN_CVC\":       \"on\",\n",
        "    \"RUN_KLAYOUT\":   \"on\"\n",
        "}, indent=2))\n",
        "\n",
        "print(\"🎯  Project folder ready:\", proj)\n"
      ],
      "metadata": {
        "colab": {
          "base_uri": "https://localhost:8080/"
        },
        "id": "3v9W9rys8dZy",
        "outputId": "7e07d59b-061f-4ab0-94b9-704cf8f4b1da"
      },
      "execution_count": 8,
      "outputs": [
        {
          "output_type": "stream",
          "name": "stdout",
          "text": [
            "🎯  Project folder ready: /content/h_bridge_project\n"
          ]
        }
      ]
    },
    {
      "cell_type": "code",
      "source": [
        "import json, pathlib, subprocess, textwrap, pprint, os, sys\n",
        "\n",
        "proj   = pathlib.Path(\"/content/h_bridge_project\")\n",
        "cfgf   = proj/\"config.json\"\n",
        "\n",
        "# --- 1️⃣  load & patch ---\n",
        "cfg = {\n",
        "    \"DESIGN_NAME\"          : \"h_bridge\",\n",
        "    \"PDK\"                  : \"sky130A\",\n",
        "    \"PDK_ROOT\"             : \"/content/pdks\",\n",
        "    \"VERILOG_FILES\"        : [ str((proj/\"src/h_bridge.v\").resolve()) ],\n",
        "    \"FP_PIN_ORDER_CFG\"     : str((proj/\"src/pin_order.cfg\").resolve()),\n",
        "    \"FP_CORE_UTIL\"         : 20,\n",
        "    \"RUN_MAGIC_DRC\"        : True,\n",
        "    \"RUN_LVS\"              : True,\n",
        "    \"RUN_KLAYOUT_STREAMOUT\": True          # replaces deprecated RUN_KLAYOUT\n",
        "}\n",
        "\n",
        "cfgf.write_text(json.dumps(cfg, indent=2))\n",
        "print(\"✅  cleaned config.json →\")\n",
        "pprint.pp(cfg)\n",
        "\n",
        "# --- 2️⃣  launch OpenLane ---\n",
        "bash = textwrap.dedent(f\"\"\"\n",
        "    set -e\n",
        "    export PDK_ROOT=/content/pdks\n",
        "    export PDK=sky130A\n",
        "    cd {proj}\n",
        "    openlane config.json --run-tag colab\n",
        "\"\"\")\n",
        "\n",
        "print(\"\\n🚀 running flow …\\n\")\n",
        "rc = subprocess.call([\"bash\",\"-c\", bash])\n",
        "print(\"\\nFlow exited with code\", rc)\n"
      ],
      "metadata": {
        "colab": {
          "base_uri": "https://localhost:8080/"
        },
        "id": "IOeVyYu78dcP",
        "outputId": "7b9bb896-c3e6-4246-a6ba-a3952a5e7bfc"
      },
      "execution_count": 9,
      "outputs": [
        {
          "output_type": "stream",
          "name": "stdout",
          "text": [
            "✅  cleaned config.json →\n",
            "{'DESIGN_NAME': 'h_bridge',\n",
            " 'PDK': 'sky130A',\n",
            " 'PDK_ROOT': '/content/pdks',\n",
            " 'VERILOG_FILES': ['/content/h_bridge_project/src/h_bridge.v'],\n",
            " 'FP_PIN_ORDER_CFG': '/content/h_bridge_project/src/pin_order.cfg',\n",
            " 'FP_CORE_UTIL': 20,\n",
            " 'RUN_MAGIC_DRC': True,\n",
            " 'RUN_LVS': True,\n",
            " 'RUN_KLAYOUT_STREAMOUT': True}\n",
            "\n",
            "🚀 running flow …\n",
            "\n",
            "\n",
            "Flow exited with code 1\n"
          ]
        }
      ]
    },
    {
      "cell_type": "code",
      "source": [
        "import pathlib, pprint, os\n",
        "\n",
        "runs_root = pathlib.Path(\"/content/h_bridge_project/runs\")\n",
        "if not runs_root.exists():\n",
        "    print(\"No run directory created – the flow must have stopped early.\")\n",
        "else:\n",
        "    print(\"Existing run folders:\")\n",
        "    for p in runs_root.glob(\"*\"):\n",
        "        print(\"  •\", p.name)\n",
        "        for sub in p.rglob(\"*\") :\n",
        "            if sub.is_dir() and sub.name.lower() in {\"gds\",\"results\"}:\n",
        "                print(\"     ↳\", sub.relative_to(runs_root))\n"
      ],
      "metadata": {
        "colab": {
          "base_uri": "https://localhost:8080/"
        },
        "id": "-8WGg-VJBMSU",
        "outputId": "112a8338-bb48-402c-e7ac-74a558adf3b5"
      },
      "execution_count": 11,
      "outputs": [
        {
          "output_type": "stream",
          "name": "stdout",
          "text": [
            "Existing run folders:\n",
            "  • colab\n"
          ]
        }
      ]
    },
    {
      "cell_type": "code",
      "source": [
        "%%bash\n",
        "# list every CLI that starts with “ol”\n",
        "compgen -c | grep -E '^ol($|[^a-z])' || echo \"(no ol helper found)\"\n"
      ],
      "metadata": {
        "id": "nFObQB1w8dhi",
        "colab": {
          "base_uri": "https://localhost:8080/"
        },
        "outputId": "f6bcd4ad-8693-4660-b649-0ab68db45f61"
      },
      "execution_count": 20,
      "outputs": [
        {
          "output_type": "stream",
          "name": "stdout",
          "text": [
            "(no ol helper found)\n"
          ]
        }
      ]
    },
    {
      "cell_type": "code",
      "source": [
        "%pip install yowasp-yosys"
      ],
      "metadata": {
        "id": "CmOkWkhf1bjb",
        "colab": {
          "base_uri": "https://localhost:8080/"
        },
        "outputId": "db790bee-b279-4a17-e856-5b6147dfa7a9"
      },
      "execution_count": 29,
      "outputs": [
        {
          "output_type": "stream",
          "name": "stdout",
          "text": [
            "Collecting yowasp-yosys\n",
            "  Using cached yowasp_yosys-0.53.0.0.post912-py3-none-any.whl.metadata (2.6 kB)\n",
            "Collecting yowasp-runtime~=1.12 (from yowasp-yosys)\n",
            "  Downloading yowasp_runtime-1.76-py3-none-any.whl.metadata (2.4 kB)\n",
            "Requirement already satisfied: click in /usr/local/lib/python3.11/dist-packages (from yowasp-yosys) (8.2.1)\n",
            "Requirement already satisfied: platformdirs<5,>=3.0 in /usr/local/lib/python3.11/dist-packages (from yowasp-runtime~=1.12->yowasp-yosys) (4.3.8)\n",
            "Collecting wasmtime<34,>=21.0.0 (from yowasp-runtime~=1.12->yowasp-yosys)\n",
            "  Downloading wasmtime-33.0.0-py3-none-manylinux1_x86_64.whl.metadata (7.8 kB)\n",
            "Requirement already satisfied: importlib_resources>=5.10 in /usr/local/lib/python3.11/dist-packages (from wasmtime<34,>=21.0.0->yowasp-runtime~=1.12->yowasp-yosys) (6.5.2)\n",
            "Downloading yowasp_yosys-0.53.0.0.post912-py3-none-any.whl (9.5 MB)\n",
            "\u001b[2K   \u001b[90m━━━━━━━━━━━━━━━━━━━━━━━━━━━━━━━━━━━━━━━━\u001b[0m \u001b[32m9.5/9.5 MB\u001b[0m \u001b[31m55.7 MB/s\u001b[0m eta \u001b[36m0:00:00\u001b[0m\n",
            "\u001b[?25hDownloading yowasp_runtime-1.76-py3-none-any.whl (5.2 kB)\n",
            "Downloading wasmtime-33.0.0-py3-none-manylinux1_x86_64.whl (8.1 MB)\n",
            "\u001b[2K   \u001b[90m━━━━━━━━━━━━━━━━━━━━━━━━━━━━━━━━━━━━━━━━\u001b[0m \u001b[32m8.1/8.1 MB\u001b[0m \u001b[31m104.6 MB/s\u001b[0m eta \u001b[36m0:00:00\u001b[0m\n",
            "\u001b[?25hInstalling collected packages: wasmtime, yowasp-runtime, yowasp-yosys\n",
            "Successfully installed wasmtime-33.0.0 yowasp-runtime-1.76 yowasp-yosys-0.53.0.0.post912\n"
          ]
        }
      ]
    },
    {
      "cell_type": "code",
      "source": [
        "import json, pathlib\n",
        "cfg = pathlib.Path(\"/content/h_bridge_project/config.json\")\n",
        "data = json.loads(cfg.read_text())\n",
        "data[\"SKIP_IMPLEMENTATION\"] = True\n",
        "data[\"SKIP_SIGNOFF\"]        = True\n",
        "cfg.write_text(json.dumps(data, indent=2))\n",
        "print(\"Config patched to stop after synthesis.\")\n"
      ],
      "metadata": {
        "id": "_HhJOR0K1boY",
        "colab": {
          "base_uri": "https://localhost:8080/"
        },
        "outputId": "82674d06-1918-4fef-b0ff-8109870bdaf7"
      },
      "execution_count": 30,
      "outputs": [
        {
          "output_type": "stream",
          "name": "stdout",
          "text": [
            "Config patched to stop after synthesis.\n"
          ]
        }
      ]
    },
    {
      "cell_type": "code",
      "source": [
        "# patch config.json once\n",
        "import json, pathlib\n",
        "cfg = pathlib.Path(\"/content/h_bridge_project/config.json\")\n",
        "d   = json.loads(cfg.read_text())\n",
        "d[\"SKIP_IMPLEMENTATION\"] = True   # skip placement/routing\n",
        "d[\"SKIP_SIGNOFF\"]        = True   # skip DRC/LVS\n",
        "cfg.write_text(json.dumps(d, indent=2))\n"
      ],
      "metadata": {
        "id": "M2ttFB4C1bql",
        "colab": {
          "base_uri": "https://localhost:8080/"
        },
        "outputId": "68cb0a57-b575-4156-91b8-0bf451b6e055"
      },
      "execution_count": 34,
      "outputs": [
        {
          "output_type": "execute_result",
          "data": {
            "text/plain": [
              "378"
            ]
          },
          "metadata": {},
          "execution_count": 34
        }
      ]
    },
    {
      "cell_type": "code",
      "source": [
        "%%bash\n",
        "sudo apt-get update -qq\n",
        "sudo apt-get install -y verilator\n",
        "verilator --version    # quick check\n"
      ],
      "metadata": {
        "id": "x1LF6sWN1bti",
        "colab": {
          "base_uri": "https://localhost:8080/"
        },
        "outputId": "3f591eab-ab6c-4fa4-db23-cdebbc8e66e5"
      },
      "execution_count": 36,
      "outputs": [
        {
          "output_type": "stream",
          "name": "stdout",
          "text": [
            "Reading package lists...\n",
            "Building dependency tree...\n",
            "Reading state information...\n",
            "The following additional packages will be installed:\n",
            "  libsystemc libsystemc-dev\n",
            "Suggested packages:\n",
            "  gtkwave\n",
            "The following NEW packages will be installed:\n",
            "  libsystemc libsystemc-dev verilator\n",
            "0 upgraded, 3 newly installed, 0 to remove and 38 not upgraded.\n",
            "Need to get 5,473 kB of archives.\n",
            "After this operation, 25.9 MB of additional disk space will be used.\n",
            "Get:1 http://archive.ubuntu.com/ubuntu jammy/universe amd64 libsystemc amd64 2.3.3-5.1 [500 kB]\n",
            "Get:2 http://archive.ubuntu.com/ubuntu jammy/universe amd64 libsystemc-dev amd64 2.3.3-5.1 [241 kB]\n",
            "Get:3 http://archive.ubuntu.com/ubuntu jammy/universe amd64 verilator amd64 4.038-1 [4,732 kB]\n",
            "Fetched 5,473 kB in 2s (3,118 kB/s)\n",
            "Selecting previously unselected package libsystemc:amd64.\r\n",
            "(Reading database ... \r(Reading database ... 5%\r(Reading database ... 10%\r(Reading database ... 15%\r(Reading database ... 20%\r(Reading database ... 25%\r(Reading database ... 30%\r(Reading database ... 35%\r(Reading database ... 40%\r(Reading database ... 45%\r(Reading database ... 50%\r(Reading database ... 55%\r(Reading database ... 60%\r(Reading database ... 65%\r(Reading database ... 70%\r(Reading database ... 75%\r(Reading database ... 80%\r(Reading database ... 85%\r(Reading database ... 90%\r(Reading database ... 95%\r(Reading database ... 100%\r(Reading database ... 132557 files and directories currently installed.)\r\n",
            "Preparing to unpack .../libsystemc_2.3.3-5.1_amd64.deb ...\r\n",
            "Unpacking libsystemc:amd64 (2.3.3-5.1) ...\r\n",
            "Selecting previously unselected package libsystemc-dev:amd64.\r\n",
            "Preparing to unpack .../libsystemc-dev_2.3.3-5.1_amd64.deb ...\r\n",
            "Unpacking libsystemc-dev:amd64 (2.3.3-5.1) ...\r\n",
            "Selecting previously unselected package verilator.\r\n",
            "Preparing to unpack .../verilator_4.038-1_amd64.deb ...\r\n",
            "Unpacking verilator (4.038-1) ...\r\n",
            "Setting up verilator (4.038-1) ...\r\n",
            "Setting up libsystemc:amd64 (2.3.3-5.1) ...\r\n",
            "Setting up libsystemc-dev:amd64 (2.3.3-5.1) ...\r\n",
            "Processing triggers for man-db (2.10.2-1) ...\r\n",
            "Processing triggers for libc-bin (2.35-0ubuntu3.8) ...\r\n",
            "/sbin/ldconfig.real: /usr/local/lib/libtbbmalloc_proxy.so.2 is not a symbolic link\r\n",
            "\r\n",
            "/sbin/ldconfig.real: /usr/local/lib/libtcm.so.1 is not a symbolic link\r\n",
            "\r\n",
            "/sbin/ldconfig.real: /usr/local/lib/libtbbmalloc.so.2 is not a symbolic link\r\n",
            "\r\n",
            "/sbin/ldconfig.real: /usr/local/lib/libtbbbind.so.3 is not a symbolic link\r\n",
            "\r\n",
            "/sbin/ldconfig.real: /usr/local/lib/libtcm_debug.so.1 is not a symbolic link\r\n",
            "\r\n",
            "/sbin/ldconfig.real: /usr/local/lib/libumf.so.0 is not a symbolic link\r\n",
            "\r\n",
            "/sbin/ldconfig.real: /usr/local/lib/libur_adapter_level_zero.so.0 is not a symbolic link\r\n",
            "\r\n",
            "/sbin/ldconfig.real: /usr/local/lib/libhwloc.so.15 is not a symbolic link\r\n",
            "\r\n",
            "/sbin/ldconfig.real: /usr/local/lib/libur_loader.so.0 is not a symbolic link\r\n",
            "\r\n",
            "/sbin/ldconfig.real: /usr/local/lib/libur_adapter_opencl.so.0 is not a symbolic link\r\n",
            "\r\n",
            "/sbin/ldconfig.real: /usr/local/lib/libtbbbind_2_0.so.3 is not a symbolic link\r\n",
            "\r\n",
            "/sbin/ldconfig.real: /usr/local/lib/libtbbbind_2_5.so.3 is not a symbolic link\r\n",
            "\r\n",
            "/sbin/ldconfig.real: /usr/local/lib/libtbb.so.12 is not a symbolic link\r\n",
            "\r\n",
            "Verilator 4.038 2020-07-11 rev v4.036-114-g0cd4a57ad\n"
          ]
        },
        {
          "output_type": "stream",
          "name": "stderr",
          "text": [
            "W: Skipping acquire of configured file 'main/source/Sources' as repository 'https://r2u.stat.illinois.edu/ubuntu jammy InRelease' does not seem to provide it (sources.list entry misspelt?)\n",
            "debconf: unable to initialize frontend: Dialog\n",
            "debconf: (No usable dialog-like program is installed, so the dialog based frontend cannot be used. at /usr/share/perl5/Debconf/FrontEnd/Dialog.pm line 78, <> line 3.)\n",
            "debconf: falling back to frontend: Readline\n",
            "debconf: unable to initialize frontend: Readline\n",
            "debconf: (This frontend requires a controlling tty.)\n",
            "debconf: falling back to frontend: Teletype\n",
            "dpkg-preconfigure: unable to re-open stdin: \n"
          ]
        }
      ]
    },
    {
      "cell_type": "code",
      "source": [
        "import json, pathlib\n",
        "cfg = pathlib.Path(\"/content/h_bridge_project/config.json\")\n",
        "data = json.loads(cfg.read_text())\n",
        "data[\"DISABLE_VERILATOR_LINT\"] = True     # <- key understood by OpenLane v2\n",
        "cfg.write_text(json.dumps(data, indent=2))\n",
        "print(\"✅  Verilator-Lint disabled.\")\n"
      ],
      "metadata": {
        "id": "4w2cfQrV0pLA",
        "colab": {
          "base_uri": "https://localhost:8080/"
        },
        "outputId": "bd7c8c9e-41c6-4dfa-c9ea-732d14549317"
      },
      "execution_count": 38,
      "outputs": [
        {
          "output_type": "stream",
          "name": "stdout",
          "text": [
            "✅  Verilator-Lint disabled.\n"
          ]
        }
      ]
    },
    {
      "cell_type": "code",
      "source": [],
      "metadata": {
        "id": "R2KoVyuI0pNW"
      },
      "execution_count": null,
      "outputs": []
    }
  ]
}