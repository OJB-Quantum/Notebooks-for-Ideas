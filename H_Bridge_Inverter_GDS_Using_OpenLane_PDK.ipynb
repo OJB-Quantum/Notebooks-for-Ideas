{
  "nbformat": 4,
  "nbformat_minor": 0,
  "metadata": {
    "colab": {
      "provenance": [],
      "authorship_tag": "ABX9TyNArdCcvsWMVc48xNPKrKDY",
      "include_colab_link": true
    },
    "kernelspec": {
      "name": "python3",
      "display_name": "Python 3"
    },
    "language_info": {
      "name": "python"
    }
  },
  "cells": [
    {
      "cell_type": "markdown",
      "metadata": {
        "id": "view-in-github",
        "colab_type": "text"
      },
      "source": [
        "<a href=\"https://colab.research.google.com/github/OJB-Quantum/Notebooks-for-Ideas/blob/main/H_Bridge_Inverter_GDS_Using_OpenLane_PDK.ipynb\" target=\"_parent\"><img src=\"https://colab.research.google.com/assets/colab-badge.svg\" alt=\"Open In Colab\"/></a>"
      ]
    },
    {
      "cell_type": "code",
      "execution_count": 1,
      "metadata": {
        "id": "grfz5mO3jvn0"
      },
      "outputs": [],
      "source": [
        "# ===========================================================\n",
        "# Colab Notebook — H-Bridge Inverter (Sky130 · OpenLane 2)\n",
        "# ===========================================================\n",
        "# Author : Onri Jay Benally\n",
        "# Date   : 2025-06-02\n",
        "# -----------------------------------------------------------\n",
        "# What this notebook does\n",
        "# 1) Installs OpenLane 2 + Sky130 PDK via Volare\n",
        "# 2) Creates a structural-Verilog four-transistor H-bridge\n",
        "# 3) Generates a full-chip, DRC-clean GDS\n",
        "# 4) Renders a quick-look PNG of the layout\n",
        "# 5) Provides a download link for the GDS\n",
        "# -----------------------------------------------------------\n",
        "# ↑ Runtime ▸ Change runtime type ▸ (GPU works, CPU is fine)\n",
        "# ==========================================================="
      ]
    },
    {
      "cell_type": "code",
      "source": [
        "%%bash\n",
        "# 1️⃣  Linux packages\n",
        "sudo apt-get update -qq\n",
        "sudo apt-get install -y git build-essential make klayout imagemagick\n"
      ],
      "metadata": {
        "colab": {
          "base_uri": "https://localhost:8080/"
        },
        "id": "Y2NNjs9K0pIQ",
        "outputId": "9d870591-7184-4ba5-adfb-4c61012cff1b"
      },
      "execution_count": 2,
      "outputs": [
        {
          "output_type": "stream",
          "name": "stdout",
          "text": [
            "Reading package lists...\n",
            "Building dependency tree...\n",
            "Reading state information...\n",
            "build-essential is already the newest version (12.9ubuntu3).\n",
            "make is already the newest version (4.3-4.1build1).\n",
            "klayout is already the newest version (0.26.2-3build3).\n",
            "git is already the newest version (1:2.34.1-1ubuntu1.12).\n",
            "imagemagick is already the newest version (8:6.9.11.60+dfsg-1.3ubuntu0.22.04.5).\n",
            "0 upgraded, 0 newly installed, 0 to remove and 38 not upgraded.\n"
          ]
        },
        {
          "output_type": "stream",
          "name": "stderr",
          "text": [
            "W: Skipping acquire of configured file 'main/source/Sources' as repository 'https://r2u.stat.illinois.edu/ubuntu jammy InRelease' does not seem to provide it (sources.list entry misspelt?)\n"
          ]
        }
      ]
    },
    {
      "cell_type": "code",
      "source": [
        "# 2️⃣  Python packages  (IPython cell, NOT inside %%bash)\n",
        "%pip install -q \"openlane==2.*\" \"volare>=0.20.4,<0.21\" gdspy\n"
      ],
      "metadata": {
        "id": "_gZsnywz1be8"
      },
      "execution_count": 3,
      "outputs": []
    },
    {
      "cell_type": "code",
      "source": [
        "%%bash\n",
        "# 3️⃣  Set and create the PDK folder\n",
        "export PDK_ROOT=/content/pdks\n",
        "mkdir -p \"$PDK_ROOT\"\n"
      ],
      "metadata": {
        "id": "jciGekqo8dSp"
      },
      "execution_count": 4,
      "outputs": []
    },
    {
      "cell_type": "code",
      "source": [
        "%%bash\n",
        "# 4️⃣  Enable the Sky130 kit (OpenLane-tested commit)\n",
        "export PDK_ROOT=/content/pdks\n",
        "volare enable --pdk-root \"$PDK_ROOT\" --pdk sky130 \\\n",
        "    cd1748bb197f9b7af62a54507de6624e30363943\n"
      ],
      "metadata": {
        "colab": {
          "base_uri": "https://localhost:8080/"
        },
        "id": "_t6wyezr8dU3",
        "outputId": "031829cd-b703-4ed6-9d82-237e69e46d3e"
      },
      "execution_count": 5,
      "outputs": [
        {
          "output_type": "stream",
          "name": "stdout",
          "text": [
            "Version cd1748bb197f9b7af62a54507de6624e30363943 enabled for the sky130 PDK.\n"
          ]
        }
      ]
    },
    {
      "cell_type": "code",
      "source": [
        "# 5️⃣  Tell Python / OpenLane where the PDK is\n",
        "import os, pathlib, sys\n",
        "os.environ[\"PDK_ROOT\"] = \"/content/pdks\"\n",
        "os.environ[\"PDK\"]      = \"sky130A\"\n",
        "assert (pathlib.Path(os.environ[\"PDK_ROOT\"]) / \"sky130A\").exists(), \"PDK missing!\"\n",
        "print(\"✅  PDK ready.\")\n"
      ],
      "metadata": {
        "colab": {
          "base_uri": "https://localhost:8080/"
        },
        "id": "4lLpoB5t8dXd",
        "outputId": "adfd0b0d-37ba-41e0-f291-d9fcf22e7bc2"
      },
      "execution_count": 6,
      "outputs": [
        {
          "output_type": "stream",
          "name": "stdout",
          "text": [
            "✅  PDK ready.\n"
          ]
        }
      ]
    },
    {
      "cell_type": "code",
      "source": [
        "from pathlib import Path            # path handling\n",
        "import textwrap                     # handy for dedenting multi-line strings\n",
        "import json                         # read/write JSON\n"
      ],
      "metadata": {
        "id": "6LAjvVK_9Gom"
      },
      "execution_count": 7,
      "outputs": []
    },
    {
      "cell_type": "code",
      "source": [
        "from pathlib import Path\n",
        "import textwrap, json               # ← corrected import line\n",
        "\n",
        "proj = Path(\"/content/h_bridge_project\")\n",
        "src  = proj / \"src\"\n",
        "src.mkdir(parents=True, exist_ok=True)\n",
        "\n",
        "(src / \"h_bridge.v\").write_text(textwrap.dedent(r'''\n",
        "module h_bridge (\n",
        "    input  wire in_a, input wire in_b,\n",
        "    output wire out_p, output wire out_n,\n",
        "    supply1 vccd1, supply0 vssd1\n",
        ");\n",
        "    sky130_fd_pr__pfet_01v8 p1 (.G(in_a), .D(out_p), .S(vccd1), .B(vccd1));\n",
        "    sky130_fd_pr__pfet_01v8 p2 (.G(in_b), .D(out_n), .S(vccd1), .B(vccd1));\n",
        "    sky130_fd_pr__nfet_01v8 n1 (.G(in_b), .D(out_p), .S(vssd1), .B(vssd1));\n",
        "    sky130_fd_pr__nfet_01v8 n2 (.G(in_a), .D(out_n), .S(vssd1), .B(vssd1));\n",
        "endmodule\n",
        "'''))\n",
        "\n",
        "(src / \"pin_order.cfg\").write_text(\"vccd1 vssd1 in_a in_b out_p out_n\\n\")\n",
        "\n",
        "(proj / \"config.json\").write_text(json.dumps({\n",
        "    \"DESIGN_NAME\":   \"h_bridge\",\n",
        "    \"PDK\":           \"sky130A\",\n",
        "    \"PDK_ROOT\":      \"/content/pdks\",\n",
        "    \"VERILOG_FILES\": \"src/h_bridge.v\",\n",
        "    \"FP_PIN_ORDER_CFG\": \"pin_order.cfg\",\n",
        "    \"FP_CORE_UTIL\":  20,\n",
        "    \"RUN_MAGIC_DRC\": \"on\",\n",
        "    \"RUN_LVS\":       \"on\",\n",
        "    \"RUN_CVC\":       \"on\",\n",
        "    \"RUN_KLAYOUT\":   \"on\"\n",
        "}, indent=2))\n",
        "\n",
        "print(\"🎯  Project folder ready:\", proj)\n"
      ],
      "metadata": {
        "colab": {
          "base_uri": "https://localhost:8080/"
        },
        "id": "3v9W9rys8dZy",
        "outputId": "7e07d59b-061f-4ab0-94b9-704cf8f4b1da"
      },
      "execution_count": 8,
      "outputs": [
        {
          "output_type": "stream",
          "name": "stdout",
          "text": [
            "🎯  Project folder ready: /content/h_bridge_project\n"
          ]
        }
      ]
    },
    {
      "cell_type": "code",
      "source": [
        "import json, pathlib, subprocess, textwrap, pprint, os, sys\n",
        "\n",
        "proj   = pathlib.Path(\"/content/h_bridge_project\")\n",
        "cfgf   = proj/\"config.json\"\n",
        "\n",
        "# --- 1️⃣  load & patch ---\n",
        "cfg = {\n",
        "    \"DESIGN_NAME\"          : \"h_bridge\",\n",
        "    \"PDK\"                  : \"sky130A\",\n",
        "    \"PDK_ROOT\"             : \"/content/pdks\",\n",
        "    \"VERILOG_FILES\"        : [ str((proj/\"src/h_bridge.v\").resolve()) ],\n",
        "    \"FP_PIN_ORDER_CFG\"     : str((proj/\"src/pin_order.cfg\").resolve()),\n",
        "    \"FP_CORE_UTIL\"         : 20,\n",
        "    \"RUN_MAGIC_DRC\"        : True,\n",
        "    \"RUN_LVS\"              : True,\n",
        "    \"RUN_KLAYOUT_STREAMOUT\": True          # replaces deprecated RUN_KLAYOUT\n",
        "}\n",
        "\n",
        "cfgf.write_text(json.dumps(cfg, indent=2))\n",
        "print(\"✅  cleaned config.json →\")\n",
        "pprint.pp(cfg)\n",
        "\n",
        "# --- 2️⃣  launch OpenLane ---\n",
        "bash = textwrap.dedent(f\"\"\"\n",
        "    set -e\n",
        "    export PDK_ROOT=/content/pdks\n",
        "    export PDK=sky130A\n",
        "    cd {proj}\n",
        "    openlane config.json --run-tag colab\n",
        "\"\"\")\n",
        "\n",
        "print(\"\\n🚀 running flow …\\n\")\n",
        "rc = subprocess.call([\"bash\",\"-c\", bash])\n",
        "print(\"\\nFlow exited with code\", rc)\n"
      ],
      "metadata": {
        "colab": {
          "base_uri": "https://localhost:8080/"
        },
        "id": "IOeVyYu78dcP",
        "outputId": "7b9bb896-c3e6-4246-a6ba-a3952a5e7bfc"
      },
      "execution_count": 9,
      "outputs": [
        {
          "output_type": "stream",
          "name": "stdout",
          "text": [
            "✅  cleaned config.json →\n",
            "{'DESIGN_NAME': 'h_bridge',\n",
            " 'PDK': 'sky130A',\n",
            " 'PDK_ROOT': '/content/pdks',\n",
            " 'VERILOG_FILES': ['/content/h_bridge_project/src/h_bridge.v'],\n",
            " 'FP_PIN_ORDER_CFG': '/content/h_bridge_project/src/pin_order.cfg',\n",
            " 'FP_CORE_UTIL': 20,\n",
            " 'RUN_MAGIC_DRC': True,\n",
            " 'RUN_LVS': True,\n",
            " 'RUN_KLAYOUT_STREAMOUT': True}\n",
            "\n",
            "🚀 running flow …\n",
            "\n",
            "\n",
            "Flow exited with code 1\n"
          ]
        }
      ]
    },
    {
      "cell_type": "code",
      "source": [
        "import pathlib, pprint, os\n",
        "\n",
        "runs_root = pathlib.Path(\"/content/h_bridge_project/runs\")\n",
        "if not runs_root.exists():\n",
        "    print(\"No run directory created – the flow must have stopped early.\")\n",
        "else:\n",
        "    print(\"Existing run folders:\")\n",
        "    for p in runs_root.glob(\"*\"):\n",
        "        print(\"  •\", p.name)\n",
        "        for sub in p.rglob(\"*\") :\n",
        "            if sub.is_dir() and sub.name.lower() in {\"gds\",\"results\"}:\n",
        "                print(\"     ↳\", sub.relative_to(runs_root))\n"
      ],
      "metadata": {
        "colab": {
          "base_uri": "https://localhost:8080/"
        },
        "id": "-8WGg-VJBMSU",
        "outputId": "112a8338-bb48-402c-e7ac-74a558adf3b5"
      },
      "execution_count": 11,
      "outputs": [
        {
          "output_type": "stream",
          "name": "stdout",
          "text": [
            "Existing run folders:\n",
            "  • colab\n"
          ]
        }
      ]
    },
    {
      "cell_type": "code",
      "source": [
        "%%bash\n",
        "# list every CLI that starts with “ol”\n",
        "compgen -c | grep -E '^ol($|[^a-z])' || echo \"(no ol helper found)\"\n"
      ],
      "metadata": {
        "id": "nFObQB1w8dhi",
        "colab": {
          "base_uri": "https://localhost:8080/"
        },
        "outputId": "f6bcd4ad-8693-4660-b649-0ab68db45f61"
      },
      "execution_count": 20,
      "outputs": [
        {
          "output_type": "stream",
          "name": "stdout",
          "text": [
            "(no ol helper found)\n"
          ]
        }
      ]
    },
    {
      "cell_type": "code",
      "source": [
        "%pip install yowasp-yosys"
      ],
      "metadata": {
        "id": "CmOkWkhf1bjb",
        "colab": {
          "base_uri": "https://localhost:8080/"
        },
        "outputId": "db790bee-b279-4a17-e856-5b6147dfa7a9"
      },
      "execution_count": 29,
      "outputs": [
        {
          "output_type": "stream",
          "name": "stdout",
          "text": [
            "Collecting yowasp-yosys\n",
            "  Using cached yowasp_yosys-0.53.0.0.post912-py3-none-any.whl.metadata (2.6 kB)\n",
            "Collecting yowasp-runtime~=1.12 (from yowasp-yosys)\n",
            "  Downloading yowasp_runtime-1.76-py3-none-any.whl.metadata (2.4 kB)\n",
            "Requirement already satisfied: click in /usr/local/lib/python3.11/dist-packages (from yowasp-yosys) (8.2.1)\n",
            "Requirement already satisfied: platformdirs<5,>=3.0 in /usr/local/lib/python3.11/dist-packages (from yowasp-runtime~=1.12->yowasp-yosys) (4.3.8)\n",
            "Collecting wasmtime<34,>=21.0.0 (from yowasp-runtime~=1.12->yowasp-yosys)\n",
            "  Downloading wasmtime-33.0.0-py3-none-manylinux1_x86_64.whl.metadata (7.8 kB)\n",
            "Requirement already satisfied: importlib_resources>=5.10 in /usr/local/lib/python3.11/dist-packages (from wasmtime<34,>=21.0.0->yowasp-runtime~=1.12->yowasp-yosys) (6.5.2)\n",
            "Downloading yowasp_yosys-0.53.0.0.post912-py3-none-any.whl (9.5 MB)\n",
            "\u001b[2K   \u001b[90m━━━━━━━━━━━━━━━━━━━━━━━━━━━━━━━━━━━━━━━━\u001b[0m \u001b[32m9.5/9.5 MB\u001b[0m \u001b[31m55.7 MB/s\u001b[0m eta \u001b[36m0:00:00\u001b[0m\n",
            "\u001b[?25hDownloading yowasp_runtime-1.76-py3-none-any.whl (5.2 kB)\n",
            "Downloading wasmtime-33.0.0-py3-none-manylinux1_x86_64.whl (8.1 MB)\n",
            "\u001b[2K   \u001b[90m━━━━━━━━━━━━━━━━━━━━━━━━━━━━━━━━━━━━━━━━\u001b[0m \u001b[32m8.1/8.1 MB\u001b[0m \u001b[31m104.6 MB/s\u001b[0m eta \u001b[36m0:00:00\u001b[0m\n",
            "\u001b[?25hInstalling collected packages: wasmtime, yowasp-runtime, yowasp-yosys\n",
            "Successfully installed wasmtime-33.0.0 yowasp-runtime-1.76 yowasp-yosys-0.53.0.0.post912\n"
          ]
        }
      ]
    },
    {
      "cell_type": "code",
      "source": [
        "import json, pathlib\n",
        "cfg = pathlib.Path(\"/content/h_bridge_project/config.json\")\n",
        "data = json.loads(cfg.read_text())\n",
        "data[\"SKIP_IMPLEMENTATION\"] = True\n",
        "data[\"SKIP_SIGNOFF\"]        = True\n",
        "cfg.write_text(json.dumps(data, indent=2))\n",
        "print(\"Config patched to stop after synthesis.\")\n"
      ],
      "metadata": {
        "id": "_HhJOR0K1boY",
        "colab": {
          "base_uri": "https://localhost:8080/"
        },
        "outputId": "82674d06-1918-4fef-b0ff-8109870bdaf7"
      },
      "execution_count": 30,
      "outputs": [
        {
          "output_type": "stream",
          "name": "stdout",
          "text": [
            "Config patched to stop after synthesis.\n"
          ]
        }
      ]
    },
    {
      "cell_type": "code",
      "source": [
        "%%bash\n",
        "export PDK_ROOT=/content/pdks\n",
        "export PDK=sky130A\n",
        "cd /content/h_bridge_project\n",
        "\n",
        "openlane config.json --run-tag synth_only\n"
      ],
      "metadata": {
        "id": "M2ttFB4C1bql",
        "colab": {
          "base_uri": "https://localhost:8080/",
          "height": 1000
        },
        "outputId": "342499ff-1aeb-446e-b4d3-ce5d476fbd59"
      },
      "execution_count": 31,
      "outputs": [
        {
          "output_type": "stream",
          "name": "stdout",
          "text": [
            "[04:52:43] INFO     Loading the design configuration file has      config.py:716\n",
            "                    generated the following warnings:                           \n",
            "[04:52:43] WARNING  An unknown key 'SKIP_IMPLEMENTATION' was       config.py:720\n",
            "                    provided.                                                   \n",
            "[04:52:43] WARNING  An unknown key 'SKIP_SIGNOFF' was provided.    config.py:720\n",
            "[04:52:43] INFO     Starting a new run of the 'Classic' flow with    flow.py:628\n",
            "                    the tag 'synth_only'.                                       \n",
            "[04:52:43] INFO     Starting…                                  sequential.py:294\n",
            "──────────────────────────────── Verilator Lint ────────────────────────────────\n",
            "[04:52:43] VERBOSE  Running 'Verilator.Lint' at                     step.py:1122\n",
            "                    'runs/synth_only/01-verilator-lint'…                        \n",
            "[04:53:30] VERBOSE  Logging subprocess to                           step.py:1318\n",
            "                    'runs/synth_only/01-verilator-lint/verilator-li             \n",
            "                    nt.log'…                                                    \n",
            "Classic - Stage 1 - Verilator Lint                                  0/78 0:00:47\n"
          ]
        },
        {
          "output_type": "stream",
          "name": "stderr",
          "text": [
            "Traceback (most recent call last):\n",
            "  File \"/usr/local/bin/openlane\", line 8, in <module>\n",
            "    sys.exit(cli())\n",
            "             ^^^^^\n",
            "  File \"/usr/local/lib/python3.11/dist-packages/click/core.py\", line 1442, in __call__\n",
            "    return self.main(*args, **kwargs)\n",
            "           ^^^^^^^^^^^^^^^^^^^^^^^^^^\n",
            "  File \"/usr/local/lib/python3.11/dist-packages/click/core.py\", line 1363, in main\n",
            "    rv = self.invoke(ctx)\n",
            "         ^^^^^^^^^^^^^^^^\n",
            "  File \"/usr/local/lib/python3.11/dist-packages/click/core.py\", line 1226, in invoke\n",
            "    return ctx.invoke(self.callback, **ctx.params)\n",
            "           ^^^^^^^^^^^^^^^^^^^^^^^^^^^^^^^^^^^^^^^\n",
            "  File \"/usr/local/lib/python3.11/dist-packages/click/core.py\", line 794, in invoke\n",
            "    return callback(*args, **kwargs)\n",
            "           ^^^^^^^^^^^^^^^^^^^^^^^^^\n",
            "  File \"/usr/local/lib/python3.11/dist-packages/openlane/flows/cli.py\", line 452, in pdk_resolve_wrapper\n",
            "    return f(*args, pdk_root=pdk_root, pdk=pdk, scl=scl, **kwargs)\n",
            "           ^^^^^^^^^^^^^^^^^^^^^^^^^^^^^^^^^^^^^^^^^^^^^^^^^^^^^^^\n",
            "  File \"/usr/local/lib/python3.11/dist-packages/click/decorators.py\", line 34, in new_func\n",
            "    return f(get_current_context(), *args, **kwargs)\n",
            "           ^^^^^^^^^^^^^^^^^^^^^^^^^^^^^^^^^^^^^^^^^\n",
            "  File \"/usr/local/lib/python3.11/dist-packages/openlane/__main__.py\", line 465, in cli\n",
            "    run(ctx, **run_kwargs)\n",
            "  File \"/usr/local/lib/python3.11/dist-packages/openlane/__main__.py\", line 171, in run\n",
            "    state_out = flow.start(\n",
            "                ^^^^^^^^^^^\n",
            "  File \"/usr/local/lib/python3.11/dist-packages/openlane/flows/flow.py\", line 657, in start\n",
            "    final_state, step_objects = self.run(\n",
            "                                ^^^^^^^^^\n",
            "  File \"/usr/local/lib/python3.11/dist-packages/openlane/flows/sequential.py\", line 338, in run\n",
            "    current_state = step.start(\n",
            "                    ^^^^^^^^^^^\n",
            "  File \"/usr/local/lib/python3.11/dist-packages/openlane/steps/step.py\", line 1150, in start\n",
            "    views_updates, metrics_updates = self.run(state_in_result, **kwargs)\n",
            "                                     ^^^^^^^^^^^^^^^^^^^^^^^^^^^^^^^^^^^\n",
            "  File \"/usr/local/lib/python3.11/dist-packages/openlane/steps/verilator.py\", line 172, in run\n",
            "    result = self.run_subprocess(\n",
            "             ^^^^^^^^^^^^^^^^^^^^\n",
            "  File \"/usr/local/lib/python3.11/dist-packages/openlane/steps/step.py\", line 1321, in run_subprocess\n",
            "    process = _popen_callable(\n",
            "              ^^^^^^^^^^^^^^^^\n",
            "  File \"/usr/local/lib/python3.11/dist-packages/psutil/__init__.py\", line 1321, in __init__\n",
            "    self.__subproc = subprocess.Popen(*args, **kwargs)\n",
            "                     ^^^^^^^^^^^^^^^^^^^^^^^^^^^^^^^^^\n",
            "  File \"/usr/lib/python3.11/subprocess.py\", line 1026, in __init__\n",
            "    self._execute_child(args, executable, preexec_fn, close_fds,\n",
            "  File \"/usr/lib/python3.11/subprocess.py\", line 1955, in _execute_child\n",
            "    raise child_exception_type(errno_num, err_msg, err_filename)\n",
            "FileNotFoundError: [Errno 2] No such file or directory: 'verilator'\n"
          ]
        },
        {
          "output_type": "error",
          "ename": "CalledProcessError",
          "evalue": "Command 'b'export PDK_ROOT=/content/pdks\\nexport PDK=sky130A\\ncd /content/h_bridge_project\\n\\nopenlane config.json --run-tag synth_only\\n'' returned non-zero exit status 1.",
          "traceback": [
            "\u001b[0;31m---------------------------------------------------------------------------\u001b[0m",
            "\u001b[0;31mCalledProcessError\u001b[0m                        Traceback (most recent call last)",
            "\u001b[0;32m<ipython-input-31-ac7f9c348538>\u001b[0m in \u001b[0;36m<cell line: 0>\u001b[0;34m()\u001b[0m\n\u001b[0;32m----> 1\u001b[0;31m \u001b[0mget_ipython\u001b[0m\u001b[0;34m(\u001b[0m\u001b[0;34m)\u001b[0m\u001b[0;34m.\u001b[0m\u001b[0mrun_cell_magic\u001b[0m\u001b[0;34m(\u001b[0m\u001b[0;34m'bash'\u001b[0m\u001b[0;34m,\u001b[0m \u001b[0;34m''\u001b[0m\u001b[0;34m,\u001b[0m \u001b[0;34m'export PDK_ROOT=/content/pdks\\nexport PDK=sky130A\\ncd /content/h_bridge_project\\n\\nopenlane config.json --run-tag synth_only\\n'\u001b[0m\u001b[0;34m)\u001b[0m\u001b[0;34m\u001b[0m\u001b[0;34m\u001b[0m\u001b[0m\n\u001b[0m",
            "\u001b[0;32m/usr/local/lib/python3.11/dist-packages/google/colab/_shell.py\u001b[0m in \u001b[0;36mrun_cell_magic\u001b[0;34m(self, magic_name, line, cell)\u001b[0m\n\u001b[1;32m    356\u001b[0m     \u001b[0;32mif\u001b[0m \u001b[0mline\u001b[0m \u001b[0;32mand\u001b[0m \u001b[0;32mnot\u001b[0m \u001b[0mcell\u001b[0m\u001b[0;34m:\u001b[0m\u001b[0;34m\u001b[0m\u001b[0;34m\u001b[0m\u001b[0m\n\u001b[1;32m    357\u001b[0m       \u001b[0mcell\u001b[0m \u001b[0;34m=\u001b[0m \u001b[0;34m' '\u001b[0m\u001b[0;34m\u001b[0m\u001b[0;34m\u001b[0m\u001b[0m\n\u001b[0;32m--> 358\u001b[0;31m     \u001b[0;32mreturn\u001b[0m \u001b[0msuper\u001b[0m\u001b[0;34m(\u001b[0m\u001b[0;34m)\u001b[0m\u001b[0;34m.\u001b[0m\u001b[0mrun_cell_magic\u001b[0m\u001b[0;34m(\u001b[0m\u001b[0mmagic_name\u001b[0m\u001b[0;34m,\u001b[0m \u001b[0mline\u001b[0m\u001b[0;34m,\u001b[0m \u001b[0mcell\u001b[0m\u001b[0;34m)\u001b[0m\u001b[0;34m\u001b[0m\u001b[0;34m\u001b[0m\u001b[0m\n\u001b[0m\u001b[1;32m    359\u001b[0m \u001b[0;34m\u001b[0m\u001b[0m\n\u001b[1;32m    360\u001b[0m \u001b[0;34m\u001b[0m\u001b[0m\n",
            "\u001b[0;32m/usr/local/lib/python3.11/dist-packages/IPython/core/interactiveshell.py\u001b[0m in \u001b[0;36mrun_cell_magic\u001b[0;34m(self, magic_name, line, cell)\u001b[0m\n\u001b[1;32m   2471\u001b[0m             \u001b[0;32mwith\u001b[0m \u001b[0mself\u001b[0m\u001b[0;34m.\u001b[0m\u001b[0mbuiltin_trap\u001b[0m\u001b[0;34m:\u001b[0m\u001b[0;34m\u001b[0m\u001b[0;34m\u001b[0m\u001b[0m\n\u001b[1;32m   2472\u001b[0m                 \u001b[0margs\u001b[0m \u001b[0;34m=\u001b[0m \u001b[0;34m(\u001b[0m\u001b[0mmagic_arg_s\u001b[0m\u001b[0;34m,\u001b[0m \u001b[0mcell\u001b[0m\u001b[0;34m)\u001b[0m\u001b[0;34m\u001b[0m\u001b[0;34m\u001b[0m\u001b[0m\n\u001b[0;32m-> 2473\u001b[0;31m                 \u001b[0mresult\u001b[0m \u001b[0;34m=\u001b[0m \u001b[0mfn\u001b[0m\u001b[0;34m(\u001b[0m\u001b[0;34m*\u001b[0m\u001b[0margs\u001b[0m\u001b[0;34m,\u001b[0m \u001b[0;34m**\u001b[0m\u001b[0mkwargs\u001b[0m\u001b[0;34m)\u001b[0m\u001b[0;34m\u001b[0m\u001b[0;34m\u001b[0m\u001b[0m\n\u001b[0m\u001b[1;32m   2474\u001b[0m             \u001b[0;32mreturn\u001b[0m \u001b[0mresult\u001b[0m\u001b[0;34m\u001b[0m\u001b[0;34m\u001b[0m\u001b[0m\n\u001b[1;32m   2475\u001b[0m \u001b[0;34m\u001b[0m\u001b[0m\n",
            "\u001b[0;32m/usr/local/lib/python3.11/dist-packages/IPython/core/magics/script.py\u001b[0m in \u001b[0;36mnamed_script_magic\u001b[0;34m(line, cell)\u001b[0m\n\u001b[1;32m    140\u001b[0m             \u001b[0;32melse\u001b[0m\u001b[0;34m:\u001b[0m\u001b[0;34m\u001b[0m\u001b[0;34m\u001b[0m\u001b[0m\n\u001b[1;32m    141\u001b[0m                 \u001b[0mline\u001b[0m \u001b[0;34m=\u001b[0m \u001b[0mscript\u001b[0m\u001b[0;34m\u001b[0m\u001b[0;34m\u001b[0m\u001b[0m\n\u001b[0;32m--> 142\u001b[0;31m             \u001b[0;32mreturn\u001b[0m \u001b[0mself\u001b[0m\u001b[0;34m.\u001b[0m\u001b[0mshebang\u001b[0m\u001b[0;34m(\u001b[0m\u001b[0mline\u001b[0m\u001b[0;34m,\u001b[0m \u001b[0mcell\u001b[0m\u001b[0;34m)\u001b[0m\u001b[0;34m\u001b[0m\u001b[0;34m\u001b[0m\u001b[0m\n\u001b[0m\u001b[1;32m    143\u001b[0m \u001b[0;34m\u001b[0m\u001b[0m\n\u001b[1;32m    144\u001b[0m         \u001b[0;31m# write a basic docstring:\u001b[0m\u001b[0;34m\u001b[0m\u001b[0;34m\u001b[0m\u001b[0m\n",
            "\u001b[0;32m<decorator-gen-103>\u001b[0m in \u001b[0;36mshebang\u001b[0;34m(self, line, cell)\u001b[0m\n",
            "\u001b[0;32m/usr/local/lib/python3.11/dist-packages/IPython/core/magic.py\u001b[0m in \u001b[0;36m<lambda>\u001b[0;34m(f, *a, **k)\u001b[0m\n\u001b[1;32m    185\u001b[0m     \u001b[0;31m# but it's overkill for just that one bit of state.\u001b[0m\u001b[0;34m\u001b[0m\u001b[0;34m\u001b[0m\u001b[0m\n\u001b[1;32m    186\u001b[0m     \u001b[0;32mdef\u001b[0m \u001b[0mmagic_deco\u001b[0m\u001b[0;34m(\u001b[0m\u001b[0marg\u001b[0m\u001b[0;34m)\u001b[0m\u001b[0;34m:\u001b[0m\u001b[0;34m\u001b[0m\u001b[0;34m\u001b[0m\u001b[0m\n\u001b[0;32m--> 187\u001b[0;31m         \u001b[0mcall\u001b[0m \u001b[0;34m=\u001b[0m \u001b[0;32mlambda\u001b[0m \u001b[0mf\u001b[0m\u001b[0;34m,\u001b[0m \u001b[0;34m*\u001b[0m\u001b[0ma\u001b[0m\u001b[0;34m,\u001b[0m \u001b[0;34m**\u001b[0m\u001b[0mk\u001b[0m\u001b[0;34m:\u001b[0m \u001b[0mf\u001b[0m\u001b[0;34m(\u001b[0m\u001b[0;34m*\u001b[0m\u001b[0ma\u001b[0m\u001b[0;34m,\u001b[0m \u001b[0;34m**\u001b[0m\u001b[0mk\u001b[0m\u001b[0;34m)\u001b[0m\u001b[0;34m\u001b[0m\u001b[0;34m\u001b[0m\u001b[0m\n\u001b[0m\u001b[1;32m    188\u001b[0m \u001b[0;34m\u001b[0m\u001b[0m\n\u001b[1;32m    189\u001b[0m         \u001b[0;32mif\u001b[0m \u001b[0mcallable\u001b[0m\u001b[0;34m(\u001b[0m\u001b[0marg\u001b[0m\u001b[0;34m)\u001b[0m\u001b[0;34m:\u001b[0m\u001b[0;34m\u001b[0m\u001b[0;34m\u001b[0m\u001b[0m\n",
            "\u001b[0;32m/usr/local/lib/python3.11/dist-packages/IPython/core/magics/script.py\u001b[0m in \u001b[0;36mshebang\u001b[0;34m(self, line, cell)\u001b[0m\n\u001b[1;32m    243\u001b[0m             \u001b[0msys\u001b[0m\u001b[0;34m.\u001b[0m\u001b[0mstderr\u001b[0m\u001b[0;34m.\u001b[0m\u001b[0mflush\u001b[0m\u001b[0;34m(\u001b[0m\u001b[0;34m)\u001b[0m\u001b[0;34m\u001b[0m\u001b[0;34m\u001b[0m\u001b[0m\n\u001b[1;32m    244\u001b[0m         \u001b[0;32mif\u001b[0m \u001b[0margs\u001b[0m\u001b[0;34m.\u001b[0m\u001b[0mraise_error\u001b[0m \u001b[0;32mand\u001b[0m \u001b[0mp\u001b[0m\u001b[0;34m.\u001b[0m\u001b[0mreturncode\u001b[0m\u001b[0;34m!=\u001b[0m\u001b[0;36m0\u001b[0m\u001b[0;34m:\u001b[0m\u001b[0;34m\u001b[0m\u001b[0;34m\u001b[0m\u001b[0m\n\u001b[0;32m--> 245\u001b[0;31m             \u001b[0;32mraise\u001b[0m \u001b[0mCalledProcessError\u001b[0m\u001b[0;34m(\u001b[0m\u001b[0mp\u001b[0m\u001b[0;34m.\u001b[0m\u001b[0mreturncode\u001b[0m\u001b[0;34m,\u001b[0m \u001b[0mcell\u001b[0m\u001b[0;34m,\u001b[0m \u001b[0moutput\u001b[0m\u001b[0;34m=\u001b[0m\u001b[0mout\u001b[0m\u001b[0;34m,\u001b[0m \u001b[0mstderr\u001b[0m\u001b[0;34m=\u001b[0m\u001b[0merr\u001b[0m\u001b[0;34m)\u001b[0m\u001b[0;34m\u001b[0m\u001b[0;34m\u001b[0m\u001b[0m\n\u001b[0m\u001b[1;32m    246\u001b[0m \u001b[0;34m\u001b[0m\u001b[0m\n\u001b[1;32m    247\u001b[0m     \u001b[0;32mdef\u001b[0m \u001b[0m_run_script\u001b[0m\u001b[0;34m(\u001b[0m\u001b[0mself\u001b[0m\u001b[0;34m,\u001b[0m \u001b[0mp\u001b[0m\u001b[0;34m,\u001b[0m \u001b[0mcell\u001b[0m\u001b[0;34m,\u001b[0m \u001b[0mto_close\u001b[0m\u001b[0;34m)\u001b[0m\u001b[0;34m:\u001b[0m\u001b[0;34m\u001b[0m\u001b[0;34m\u001b[0m\u001b[0m\n",
            "\u001b[0;31mCalledProcessError\u001b[0m: Command 'b'export PDK_ROOT=/content/pdks\\nexport PDK=sky130A\\ncd /content/h_bridge_project\\n\\nopenlane config.json --run-tag synth_only\\n'' returned non-zero exit status 1."
          ]
        }
      ]
    },
    {
      "cell_type": "code",
      "source": [
        "import glob, pathlib, pprint, re\n",
        "netlist = glob.glob(\"/content/h_bridge_project/runs/synth_only/04-yosys-synthesis/*.v\")[0]\n",
        "print(\"Gate-level netlist:\", netlist)\n",
        "print(\"\\n\".join(open(netlist).read().splitlines()[:40]))  # show first 40 lines\n"
      ],
      "metadata": {
        "id": "x1LF6sWN1bti",
        "colab": {
          "base_uri": "https://localhost:8080/",
          "height": 193
        },
        "outputId": "4a3c9aa7-436a-46d0-cc88-3cb0a2b24705"
      },
      "execution_count": 32,
      "outputs": [
        {
          "output_type": "error",
          "ename": "IndexError",
          "evalue": "list index out of range",
          "traceback": [
            "\u001b[0;31m---------------------------------------------------------------------------\u001b[0m",
            "\u001b[0;31mIndexError\u001b[0m                                Traceback (most recent call last)",
            "\u001b[0;32m<ipython-input-32-78cd890a09f8>\u001b[0m in \u001b[0;36m<cell line: 0>\u001b[0;34m()\u001b[0m\n\u001b[1;32m      1\u001b[0m \u001b[0;32mimport\u001b[0m \u001b[0mglob\u001b[0m\u001b[0;34m,\u001b[0m \u001b[0mpathlib\u001b[0m\u001b[0;34m,\u001b[0m \u001b[0mpprint\u001b[0m\u001b[0;34m,\u001b[0m \u001b[0mre\u001b[0m\u001b[0;34m\u001b[0m\u001b[0;34m\u001b[0m\u001b[0m\n\u001b[0;32m----> 2\u001b[0;31m \u001b[0mnetlist\u001b[0m \u001b[0;34m=\u001b[0m \u001b[0mglob\u001b[0m\u001b[0;34m.\u001b[0m\u001b[0mglob\u001b[0m\u001b[0;34m(\u001b[0m\u001b[0;34m\"/content/h_bridge_project/runs/synth_only/04-yosys-synthesis/*.v\"\u001b[0m\u001b[0;34m)\u001b[0m\u001b[0;34m[\u001b[0m\u001b[0;36m0\u001b[0m\u001b[0;34m]\u001b[0m\u001b[0;34m\u001b[0m\u001b[0;34m\u001b[0m\u001b[0m\n\u001b[0m\u001b[1;32m      3\u001b[0m \u001b[0mprint\u001b[0m\u001b[0;34m(\u001b[0m\u001b[0;34m\"Gate-level netlist:\"\u001b[0m\u001b[0;34m,\u001b[0m \u001b[0mnetlist\u001b[0m\u001b[0;34m)\u001b[0m\u001b[0;34m\u001b[0m\u001b[0;34m\u001b[0m\u001b[0m\n\u001b[1;32m      4\u001b[0m \u001b[0mprint\u001b[0m\u001b[0;34m(\u001b[0m\u001b[0;34m\"\\n\"\u001b[0m\u001b[0;34m.\u001b[0m\u001b[0mjoin\u001b[0m\u001b[0;34m(\u001b[0m\u001b[0mopen\u001b[0m\u001b[0;34m(\u001b[0m\u001b[0mnetlist\u001b[0m\u001b[0;34m)\u001b[0m\u001b[0;34m.\u001b[0m\u001b[0mread\u001b[0m\u001b[0;34m(\u001b[0m\u001b[0;34m)\u001b[0m\u001b[0;34m.\u001b[0m\u001b[0msplitlines\u001b[0m\u001b[0;34m(\u001b[0m\u001b[0;34m)\u001b[0m\u001b[0;34m[\u001b[0m\u001b[0;34m:\u001b[0m\u001b[0;36m40\u001b[0m\u001b[0;34m]\u001b[0m\u001b[0;34m)\u001b[0m\u001b[0;34m)\u001b[0m  \u001b[0;31m# show first 40 lines\u001b[0m\u001b[0;34m\u001b[0m\u001b[0;34m\u001b[0m\u001b[0m\n",
            "\u001b[0;31mIndexError\u001b[0m: list index out of range"
          ]
        }
      ]
    },
    {
      "cell_type": "code",
      "source": [],
      "metadata": {
        "id": "4w2cfQrV0pLA"
      },
      "execution_count": null,
      "outputs": []
    },
    {
      "cell_type": "code",
      "source": [],
      "metadata": {
        "id": "R2KoVyuI0pNW"
      },
      "execution_count": null,
      "outputs": []
    }
  ]
}