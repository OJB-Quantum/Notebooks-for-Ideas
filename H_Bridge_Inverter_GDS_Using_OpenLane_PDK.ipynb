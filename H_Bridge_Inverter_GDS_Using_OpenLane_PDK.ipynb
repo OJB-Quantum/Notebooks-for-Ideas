{
  "nbformat": 4,
  "nbformat_minor": 0,
  "metadata": {
    "colab": {
      "provenance": [],
      "authorship_tag": "ABX9TyMxjwOqmIa0HlJSvIBgyE8k",
      "include_colab_link": true
    },
    "kernelspec": {
      "name": "python3",
      "display_name": "Python 3"
    },
    "language_info": {
      "name": "python"
    }
  },
  "cells": [
    {
      "cell_type": "markdown",
      "metadata": {
        "id": "view-in-github",
        "colab_type": "text"
      },
      "source": [
        "<a href=\"https://colab.research.google.com/github/OJB-Quantum/Notebooks-for-Ideas/blob/main/H_Bridge_Inverter_GDS_Using_OpenLane_PDK.ipynb\" target=\"_parent\"><img src=\"https://colab.research.google.com/assets/colab-badge.svg\" alt=\"Open In Colab\"/></a>"
      ]
    },
    {
      "cell_type": "code",
      "execution_count": 1,
      "metadata": {
        "id": "grfz5mO3jvn0"
      },
      "outputs": [],
      "source": [
        "# ===========================================================\n",
        "# Colab Notebook — H-Bridge Inverter (Sky130 · OpenLane 2)\n",
        "# ===========================================================\n",
        "# Author : Onri Jay Benally\n",
        "# Date   : 2025-06-02\n",
        "# -----------------------------------------------------------\n",
        "# What this notebook does\n",
        "# 1) Installs OpenLane 2 + Sky130 PDK via Volare\n",
        "# 2) Creates a structural-Verilog four-transistor H-bridge\n",
        "# 3) Generates a full-chip, DRC-clean GDS\n",
        "# 4) Renders a quick-look PNG of the layout\n",
        "# 5) Provides a download link for the GDS\n",
        "# -----------------------------------------------------------\n",
        "# ↑ Runtime ▸ Change runtime type ▸ (GPU works, CPU is fine)\n",
        "# ==========================================================="
      ]
    },
    {
      "cell_type": "code",
      "source": [
        "%%bash\n",
        "# 1️⃣  Linux packages\n",
        "sudo apt-get update -qq\n",
        "sudo apt-get install -y git build-essential make klayout imagemagick\n"
      ],
      "metadata": {
        "colab": {
          "base_uri": "https://localhost:8080/"
        },
        "id": "Y2NNjs9K0pIQ",
        "outputId": "c3860ae4-9726-4191-ca1e-3f7248fb222b"
      },
      "execution_count": 2,
      "outputs": [
        {
          "output_type": "stream",
          "name": "stdout",
          "text": [
            "Reading package lists...\n",
            "Building dependency tree...\n",
            "Reading state information...\n",
            "build-essential is already the newest version (12.9ubuntu3).\n",
            "make is already the newest version (4.3-4.1build1).\n",
            "make set to manually installed.\n",
            "git is already the newest version (1:2.34.1-1ubuntu1.12).\n",
            "The following additional packages will be installed:\n",
            "  fonts-droid-fallback fonts-lato fonts-noto-mono fonts-urw-base35 ghostscript\n",
            "  gsfonts imagemagick-6-common imagemagick-6.q16 libdjvulibre-text\n",
            "  libdjvulibre21 libevdev2 libfftw3-double3 libgs9 libgs9-common\n",
            "  libgudev-1.0-0 libidn12 libijs-0.35 libinput-bin libinput10 libjbig2dec0\n",
            "  libjxr-tools libjxr0 liblqr-1-0 libmagickcore-6.q16-6\n",
            "  libmagickcore-6.q16-6-extra libmagickwand-6.q16-6 libmd4c0 libmtdev1\n",
            "  libnetpbm10 libqt5core5a libqt5dbus5 libqt5designer5 libqt5gui5\n",
            "  libqt5multimedia5 libqt5multimediawidgets5 libqt5network5\n",
            "  libqt5printsupport5 libqt5sql5 libqt5sql5-sqlite libqt5svg5 libqt5widgets5\n",
            "  libqt5xml5 libqt5xmlpatterns5 libruby3.0 libwacom-bin libwacom-common\n",
            "  libwacom9 libwmflite-0.2-7 libxcb-icccm4 libxcb-image0 libxcb-keysyms1\n",
            "  libxcb-render-util0 libxcb-util1 libxcb-xinerama0 libxcb-xinput0 libxcb-xkb1\n",
            "  libxkbcommon-x11-0 netpbm poppler-data qt5-gtk-platformtheme\n",
            "  qttranslations5-l10n rake ruby ruby-net-telnet ruby-rubygems ruby-webrick\n",
            "  ruby-xmlrpc ruby3.0 rubygems-integration\n",
            "Suggested packages:\n",
            "  fonts-noto fonts-freefont-otf | fonts-freefont-ttf fonts-texgyre\n",
            "  ghostscript-x imagemagick-doc autotrace cups-bsd | lpr | lprng enscript gimp\n",
            "  gnuplot grads hp2xx html2ps libwmf-bin mplayer povray radiance sane-utils\n",
            "  texlive-base-bin transfig ufraw-batch libfftw3-bin libfftw3-dev inkscape\n",
            "  qt5-image-formats-plugins qtwayland5 poppler-utils fonts-japanese-mincho\n",
            "  | fonts-ipafont-mincho fonts-japanese-gothic | fonts-ipafont-gothic\n",
            "  fonts-arphic-ukai fonts-arphic-uming fonts-nanum ri ruby-dev bundler\n",
            "The following NEW packages will be installed:\n",
            "  fonts-droid-fallback fonts-lato fonts-noto-mono fonts-urw-base35 ghostscript\n",
            "  gsfonts imagemagick imagemagick-6-common imagemagick-6.q16 klayout\n",
            "  libdjvulibre-text libdjvulibre21 libevdev2 libfftw3-double3 libgs9\n",
            "  libgs9-common libgudev-1.0-0 libidn12 libijs-0.35 libinput-bin libinput10\n",
            "  libjbig2dec0 libjxr-tools libjxr0 liblqr-1-0 libmagickcore-6.q16-6\n",
            "  libmagickcore-6.q16-6-extra libmagickwand-6.q16-6 libmd4c0 libmtdev1\n",
            "  libnetpbm10 libqt5core5a libqt5dbus5 libqt5designer5 libqt5gui5\n",
            "  libqt5multimedia5 libqt5multimediawidgets5 libqt5network5\n",
            "  libqt5printsupport5 libqt5sql5 libqt5sql5-sqlite libqt5svg5 libqt5widgets5\n",
            "  libqt5xml5 libqt5xmlpatterns5 libruby3.0 libwacom-bin libwacom-common\n",
            "  libwacom9 libwmflite-0.2-7 libxcb-icccm4 libxcb-image0 libxcb-keysyms1\n",
            "  libxcb-render-util0 libxcb-util1 libxcb-xinerama0 libxcb-xinput0 libxcb-xkb1\n",
            "  libxkbcommon-x11-0 netpbm poppler-data qt5-gtk-platformtheme\n",
            "  qttranslations5-l10n rake ruby ruby-net-telnet ruby-rubygems ruby-webrick\n",
            "  ruby-xmlrpc ruby3.0 rubygems-integration\n",
            "0 upgraded, 71 newly installed, 0 to remove and 38 not upgraded.\n",
            "Need to get 84.3 MB of archives.\n",
            "After this operation, 350 MB of additional disk space will be used.\n",
            "Get:1 http://archive.ubuntu.com/ubuntu jammy/main amd64 fonts-droid-fallback all 1:6.0.1r16-1.1build1 [1,805 kB]\n",
            "Get:2 http://archive.ubuntu.com/ubuntu jammy/main amd64 fonts-lato all 2.0-2.1 [2,696 kB]\n",
            "Get:3 http://archive.ubuntu.com/ubuntu jammy-updates/universe amd64 libqt5core5a amd64 5.15.3+dfsg-2ubuntu0.2 [2,006 kB]\n",
            "Get:4 http://archive.ubuntu.com/ubuntu jammy/main amd64 libevdev2 amd64 1.12.1+dfsg-1 [39.5 kB]\n",
            "Get:5 http://archive.ubuntu.com/ubuntu jammy/main amd64 libmtdev1 amd64 1.1.6-1build4 [14.5 kB]\n",
            "Get:6 http://archive.ubuntu.com/ubuntu jammy/main amd64 libgudev-1.0-0 amd64 1:237-2build1 [16.3 kB]\n",
            "Get:7 http://archive.ubuntu.com/ubuntu jammy/main amd64 libwacom-common all 2.2.0-1 [54.3 kB]\n",
            "Get:8 http://archive.ubuntu.com/ubuntu jammy/main amd64 libwacom9 amd64 2.2.0-1 [22.0 kB]\n",
            "Get:9 http://archive.ubuntu.com/ubuntu jammy-updates/main amd64 libinput-bin amd64 1.20.0-1ubuntu0.3 [19.9 kB]\n",
            "Get:10 http://archive.ubuntu.com/ubuntu jammy-updates/main amd64 libinput10 amd64 1.20.0-1ubuntu0.3 [131 kB]\n",
            "Get:11 http://archive.ubuntu.com/ubuntu jammy/universe amd64 libmd4c0 amd64 0.4.8-1 [42.0 kB]\n",
            "Get:12 http://archive.ubuntu.com/ubuntu jammy-updates/universe amd64 libqt5dbus5 amd64 5.15.3+dfsg-2ubuntu0.2 [222 kB]\n",
            "Get:13 http://archive.ubuntu.com/ubuntu jammy-updates/universe amd64 libqt5network5 amd64 5.15.3+dfsg-2ubuntu0.2 [731 kB]\n",
            "Get:14 http://archive.ubuntu.com/ubuntu jammy/main amd64 libxcb-icccm4 amd64 0.4.1-1.1build2 [11.5 kB]\n",
            "Get:15 http://archive.ubuntu.com/ubuntu jammy/main amd64 libxcb-util1 amd64 0.4.0-1build2 [11.4 kB]\n",
            "Get:16 http://archive.ubuntu.com/ubuntu jammy/main amd64 libxcb-image0 amd64 0.4.0-2 [11.5 kB]\n",
            "Get:17 http://archive.ubuntu.com/ubuntu jammy/main amd64 libxcb-keysyms1 amd64 0.4.0-1build3 [8,746 B]\n",
            "Get:18 http://archive.ubuntu.com/ubuntu jammy/main amd64 libxcb-render-util0 amd64 0.3.9-1build3 [10.3 kB]\n",
            "Get:19 http://archive.ubuntu.com/ubuntu jammy/main amd64 libxcb-xinerama0 amd64 1.14-3ubuntu3 [5,414 B]\n",
            "Get:20 http://archive.ubuntu.com/ubuntu jammy/main amd64 libxcb-xinput0 amd64 1.14-3ubuntu3 [34.3 kB]\n",
            "Get:21 http://archive.ubuntu.com/ubuntu jammy/main amd64 libxcb-xkb1 amd64 1.14-3ubuntu3 [32.8 kB]\n",
            "Get:22 http://archive.ubuntu.com/ubuntu jammy/main amd64 libxkbcommon-x11-0 amd64 1.4.0-1 [14.4 kB]\n",
            "Get:23 http://archive.ubuntu.com/ubuntu jammy-updates/universe amd64 libqt5gui5 amd64 5.15.3+dfsg-2ubuntu0.2 [3,722 kB]\n",
            "Get:24 http://archive.ubuntu.com/ubuntu jammy-updates/universe amd64 libqt5widgets5 amd64 5.15.3+dfsg-2ubuntu0.2 [2,561 kB]\n",
            "Get:25 http://archive.ubuntu.com/ubuntu jammy-updates/universe amd64 libqt5xml5 amd64 5.15.3+dfsg-2ubuntu0.2 [124 kB]\n",
            "Get:26 http://archive.ubuntu.com/ubuntu jammy/universe amd64 libqt5designer5 amd64 5.15.3-1 [2,832 kB]\n",
            "Get:27 http://archive.ubuntu.com/ubuntu jammy/universe amd64 libqt5multimedia5 amd64 5.15.3-1 [320 kB]\n",
            "Get:28 http://archive.ubuntu.com/ubuntu jammy/universe amd64 libqt5multimediawidgets5 amd64 5.15.3-1 [42.6 kB]\n",
            "Get:29 http://archive.ubuntu.com/ubuntu jammy-updates/universe amd64 libqt5printsupport5 amd64 5.15.3+dfsg-2ubuntu0.2 [214 kB]\n",
            "Get:30 http://archive.ubuntu.com/ubuntu jammy-updates/universe amd64 libqt5sql5 amd64 5.15.3+dfsg-2ubuntu0.2 [123 kB]\n",
            "Get:31 http://archive.ubuntu.com/ubuntu jammy/universe amd64 libqt5svg5 amd64 5.15.3-1 [149 kB]\n",
            "Get:32 http://archive.ubuntu.com/ubuntu jammy/universe amd64 libqt5xmlpatterns5 amd64 5.15.3-1 [901 kB]\n",
            "Get:33 http://archive.ubuntu.com/ubuntu jammy/main amd64 rubygems-integration all 1.18 [5,336 B]\n",
            "Get:34 http://archive.ubuntu.com/ubuntu jammy-updates/main amd64 ruby3.0 amd64 3.0.2-7ubuntu2.10 [50.1 kB]\n",
            "Get:35 http://archive.ubuntu.com/ubuntu jammy/main amd64 ruby-rubygems all 3.3.5-2 [228 kB]\n",
            "Get:36 http://archive.ubuntu.com/ubuntu jammy/main amd64 ruby amd64 1:3.0~exp1 [5,100 B]\n",
            "Get:37 http://archive.ubuntu.com/ubuntu jammy/main amd64 rake all 13.0.6-2 [61.7 kB]\n",
            "Get:38 http://archive.ubuntu.com/ubuntu jammy/main amd64 ruby-net-telnet all 0.1.1-2 [12.6 kB]\n",
            "Get:39 http://archive.ubuntu.com/ubuntu jammy-updates/main amd64 ruby-webrick all 1.7.0-3ubuntu0.1 [52.1 kB]\n",
            "Get:40 http://archive.ubuntu.com/ubuntu jammy-updates/main amd64 ruby-xmlrpc all 0.3.2-1ubuntu0.1 [24.9 kB]\n",
            "Get:41 http://archive.ubuntu.com/ubuntu jammy-updates/main amd64 libruby3.0 amd64 3.0.2-7ubuntu2.10 [5,114 kB]\n",
            "Get:42 http://archive.ubuntu.com/ubuntu jammy/universe amd64 klayout amd64 0.26.2-3build3 [34.3 MB]\n",
            "Get:43 http://archive.ubuntu.com/ubuntu jammy/main amd64 libfftw3-double3 amd64 3.3.8-2ubuntu8 [770 kB]\n",
            "Get:44 http://archive.ubuntu.com/ubuntu jammy/universe amd64 liblqr-1-0 amd64 0.4.2-2.1 [27.7 kB]\n",
            "Get:45 http://archive.ubuntu.com/ubuntu jammy-updates/universe amd64 imagemagick-6-common all 8:6.9.11.60+dfsg-1.3ubuntu0.22.04.5 [64.3 kB]\n",
            "Get:46 http://archive.ubuntu.com/ubuntu jammy-updates/universe amd64 libmagickcore-6.q16-6 amd64 8:6.9.11.60+dfsg-1.3ubuntu0.22.04.5 [1,795 kB]\n",
            "Get:47 http://archive.ubuntu.com/ubuntu jammy-updates/universe amd64 libmagickwand-6.q16-6 amd64 8:6.9.11.60+dfsg-1.3ubuntu0.22.04.5 [328 kB]\n",
            "Get:48 http://archive.ubuntu.com/ubuntu jammy/main amd64 poppler-data all 0.4.11-1 [2,171 kB]\n",
            "Get:49 http://archive.ubuntu.com/ubuntu jammy/main amd64 fonts-noto-mono all 20201225-1build1 [397 kB]\n",
            "Get:50 http://archive.ubuntu.com/ubuntu jammy/main amd64 fonts-urw-base35 all 20200910-1 [6,367 kB]\n",
            "Get:51 http://archive.ubuntu.com/ubuntu jammy-updates/main amd64 libgs9-common all 9.55.0~dfsg1-0ubuntu5.11 [753 kB]\n",
            "Get:52 http://archive.ubuntu.com/ubuntu jammy-updates/main amd64 libidn12 amd64 1.38-4ubuntu1 [60.0 kB]\n",
            "Get:53 http://archive.ubuntu.com/ubuntu jammy/main amd64 libijs-0.35 amd64 0.35-15build2 [16.5 kB]\n",
            "Get:54 http://archive.ubuntu.com/ubuntu jammy/main amd64 libjbig2dec0 amd64 0.19-3build2 [64.7 kB]\n",
            "Get:55 http://archive.ubuntu.com/ubuntu jammy-updates/main amd64 libgs9 amd64 9.55.0~dfsg1-0ubuntu5.11 [5,031 kB]\n",
            "Get:56 http://archive.ubuntu.com/ubuntu jammy-updates/main amd64 ghostscript amd64 9.55.0~dfsg1-0ubuntu5.11 [49.4 kB]\n",
            "Get:57 http://archive.ubuntu.com/ubuntu jammy/universe amd64 gsfonts all 1:8.11+urwcyr1.0.7~pre44-4.5 [3,120 kB]\n",
            "Get:58 http://archive.ubuntu.com/ubuntu jammy-updates/universe amd64 imagemagick-6.q16 amd64 8:6.9.11.60+dfsg-1.3ubuntu0.22.04.5 [224 kB]\n",
            "Get:59 http://archive.ubuntu.com/ubuntu jammy-updates/universe amd64 imagemagick amd64 8:6.9.11.60+dfsg-1.3ubuntu0.22.04.5 [14.6 kB]\n",
            "Get:60 http://archive.ubuntu.com/ubuntu jammy/main amd64 libdjvulibre-text all 3.5.28-2build2 [50.9 kB]\n",
            "Get:61 http://archive.ubuntu.com/ubuntu jammy/main amd64 libdjvulibre21 amd64 3.5.28-2build2 [624 kB]\n",
            "Get:62 http://archive.ubuntu.com/ubuntu jammy/universe amd64 libjxr0 amd64 1.2~git20170615.f752187-5 [174 kB]\n",
            "Get:63 http://archive.ubuntu.com/ubuntu jammy/universe amd64 libjxr-tools amd64 1.2~git20170615.f752187-5 [16.0 kB]\n",
            "Get:64 http://archive.ubuntu.com/ubuntu jammy/main amd64 libwmflite-0.2-7 amd64 0.2.12-5ubuntu1 [68.9 kB]\n",
            "Get:65 http://archive.ubuntu.com/ubuntu jammy-updates/universe amd64 libmagickcore-6.q16-6-extra amd64 8:6.9.11.60+dfsg-1.3ubuntu0.22.04.5 [70.1 kB]\n",
            "Get:66 http://archive.ubuntu.com/ubuntu jammy/universe amd64 libnetpbm10 amd64 2:10.0-15.4 [59.1 kB]\n",
            "Get:67 http://archive.ubuntu.com/ubuntu jammy-updates/universe amd64 libqt5sql5-sqlite amd64 5.15.3+dfsg-2ubuntu0.2 [53.0 kB]\n",
            "Get:68 http://archive.ubuntu.com/ubuntu jammy/main amd64 libwacom-bin amd64 2.2.0-1 [13.6 kB]\n",
            "Get:69 http://archive.ubuntu.com/ubuntu jammy/universe amd64 netpbm amd64 2:10.0-15.4 [1,007 kB]\n",
            "Get:70 http://archive.ubuntu.com/ubuntu jammy-updates/universe amd64 qt5-gtk-platformtheme amd64 5.15.3+dfsg-2ubuntu0.2 [130 kB]\n",
            "Get:71 http://archive.ubuntu.com/ubuntu jammy/universe amd64 qttranslations5-l10n all 5.15.3-1 [1,983 kB]\n",
            "Fetched 84.3 MB in 12s (7,201 kB/s)\n",
            "Selecting previously unselected package fonts-droid-fallback.\r\n",
            "(Reading database ... \r(Reading database ... 5%\r(Reading database ... 10%\r(Reading database ... 15%\r(Reading database ... 20%\r(Reading database ... 25%\r(Reading database ... 30%\r(Reading database ... 35%\r(Reading database ... 40%\r(Reading database ... 45%\r(Reading database ... 50%\r(Reading database ... 55%\r(Reading database ... 60%\r(Reading database ... 65%\r(Reading database ... 70%\r(Reading database ... 75%\r(Reading database ... 80%\r(Reading database ... 85%\r(Reading database ... 90%\r(Reading database ... 95%\r(Reading database ... 100%\r(Reading database ... 126109 files and directories currently installed.)\r\n",
            "Preparing to unpack .../00-fonts-droid-fallback_1%3a6.0.1r16-1.1build1_all.deb ...\r\n",
            "Unpacking fonts-droid-fallback (1:6.0.1r16-1.1build1) ...\r\n",
            "Selecting previously unselected package fonts-lato.\r\n",
            "Preparing to unpack .../01-fonts-lato_2.0-2.1_all.deb ...\r\n",
            "Unpacking fonts-lato (2.0-2.1) ...\r\n",
            "Selecting previously unselected package libqt5core5a:amd64.\r\n",
            "Preparing to unpack .../02-libqt5core5a_5.15.3+dfsg-2ubuntu0.2_amd64.deb ...\r\n",
            "Unpacking libqt5core5a:amd64 (5.15.3+dfsg-2ubuntu0.2) ...\r\n",
            "Selecting previously unselected package libevdev2:amd64.\r\n",
            "Preparing to unpack .../03-libevdev2_1.12.1+dfsg-1_amd64.deb ...\r\n",
            "Unpacking libevdev2:amd64 (1.12.1+dfsg-1) ...\r\n",
            "Selecting previously unselected package libmtdev1:amd64.\r\n",
            "Preparing to unpack .../04-libmtdev1_1.1.6-1build4_amd64.deb ...\r\n",
            "Unpacking libmtdev1:amd64 (1.1.6-1build4) ...\r\n",
            "Selecting previously unselected package libgudev-1.0-0:amd64.\r\n",
            "Preparing to unpack .../05-libgudev-1.0-0_1%3a237-2build1_amd64.deb ...\r\n",
            "Unpacking libgudev-1.0-0:amd64 (1:237-2build1) ...\r\n",
            "Selecting previously unselected package libwacom-common.\r\n",
            "Preparing to unpack .../06-libwacom-common_2.2.0-1_all.deb ...\r\n",
            "Unpacking libwacom-common (2.2.0-1) ...\r\n",
            "Selecting previously unselected package libwacom9:amd64.\r\n",
            "Preparing to unpack .../07-libwacom9_2.2.0-1_amd64.deb ...\r\n",
            "Unpacking libwacom9:amd64 (2.2.0-1) ...\r\n",
            "Selecting previously unselected package libinput-bin.\r\n",
            "Preparing to unpack .../08-libinput-bin_1.20.0-1ubuntu0.3_amd64.deb ...\r\n",
            "Unpacking libinput-bin (1.20.0-1ubuntu0.3) ...\r\n",
            "Selecting previously unselected package libinput10:amd64.\r\n",
            "Preparing to unpack .../09-libinput10_1.20.0-1ubuntu0.3_amd64.deb ...\r\n",
            "Unpacking libinput10:amd64 (1.20.0-1ubuntu0.3) ...\r\n",
            "Selecting previously unselected package libmd4c0:amd64.\r\n",
            "Preparing to unpack .../10-libmd4c0_0.4.8-1_amd64.deb ...\r\n",
            "Unpacking libmd4c0:amd64 (0.4.8-1) ...\r\n",
            "Selecting previously unselected package libqt5dbus5:amd64.\r\n",
            "Preparing to unpack .../11-libqt5dbus5_5.15.3+dfsg-2ubuntu0.2_amd64.deb ...\r\n",
            "Unpacking libqt5dbus5:amd64 (5.15.3+dfsg-2ubuntu0.2) ...\r\n",
            "Selecting previously unselected package libqt5network5:amd64.\r\n",
            "Preparing to unpack .../12-libqt5network5_5.15.3+dfsg-2ubuntu0.2_amd64.deb ...\r\n",
            "Unpacking libqt5network5:amd64 (5.15.3+dfsg-2ubuntu0.2) ...\r\n",
            "Selecting previously unselected package libxcb-icccm4:amd64.\r\n",
            "Preparing to unpack .../13-libxcb-icccm4_0.4.1-1.1build2_amd64.deb ...\r\n",
            "Unpacking libxcb-icccm4:amd64 (0.4.1-1.1build2) ...\r\n",
            "Selecting previously unselected package libxcb-util1:amd64.\r\n",
            "Preparing to unpack .../14-libxcb-util1_0.4.0-1build2_amd64.deb ...\r\n",
            "Unpacking libxcb-util1:amd64 (0.4.0-1build2) ...\r\n",
            "Selecting previously unselected package libxcb-image0:amd64.\r\n",
            "Preparing to unpack .../15-libxcb-image0_0.4.0-2_amd64.deb ...\r\n",
            "Unpacking libxcb-image0:amd64 (0.4.0-2) ...\r\n",
            "Selecting previously unselected package libxcb-keysyms1:amd64.\r\n",
            "Preparing to unpack .../16-libxcb-keysyms1_0.4.0-1build3_amd64.deb ...\r\n",
            "Unpacking libxcb-keysyms1:amd64 (0.4.0-1build3) ...\r\n",
            "Selecting previously unselected package libxcb-render-util0:amd64.\r\n",
            "Preparing to unpack .../17-libxcb-render-util0_0.3.9-1build3_amd64.deb ...\r\n",
            "Unpacking libxcb-render-util0:amd64 (0.3.9-1build3) ...\r\n",
            "Selecting previously unselected package libxcb-xinerama0:amd64.\r\n",
            "Preparing to unpack .../18-libxcb-xinerama0_1.14-3ubuntu3_amd64.deb ...\r\n",
            "Unpacking libxcb-xinerama0:amd64 (1.14-3ubuntu3) ...\r\n",
            "Selecting previously unselected package libxcb-xinput0:amd64.\r\n",
            "Preparing to unpack .../19-libxcb-xinput0_1.14-3ubuntu3_amd64.deb ...\r\n",
            "Unpacking libxcb-xinput0:amd64 (1.14-3ubuntu3) ...\r\n",
            "Selecting previously unselected package libxcb-xkb1:amd64.\r\n",
            "Preparing to unpack .../20-libxcb-xkb1_1.14-3ubuntu3_amd64.deb ...\r\n",
            "Unpacking libxcb-xkb1:amd64 (1.14-3ubuntu3) ...\r\n",
            "Selecting previously unselected package libxkbcommon-x11-0:amd64.\r\n",
            "Preparing to unpack .../21-libxkbcommon-x11-0_1.4.0-1_amd64.deb ...\r\n",
            "Unpacking libxkbcommon-x11-0:amd64 (1.4.0-1) ...\r\n",
            "Selecting previously unselected package libqt5gui5:amd64.\r\n",
            "Preparing to unpack .../22-libqt5gui5_5.15.3+dfsg-2ubuntu0.2_amd64.deb ...\r\n",
            "Unpacking libqt5gui5:amd64 (5.15.3+dfsg-2ubuntu0.2) ...\r\n",
            "Selecting previously unselected package libqt5widgets5:amd64.\r\n",
            "Preparing to unpack .../23-libqt5widgets5_5.15.3+dfsg-2ubuntu0.2_amd64.deb ...\r\n",
            "Unpacking libqt5widgets5:amd64 (5.15.3+dfsg-2ubuntu0.2) ...\r\n",
            "Selecting previously unselected package libqt5xml5:amd64.\r\n",
            "Preparing to unpack .../24-libqt5xml5_5.15.3+dfsg-2ubuntu0.2_amd64.deb ...\r\n",
            "Unpacking libqt5xml5:amd64 (5.15.3+dfsg-2ubuntu0.2) ...\r\n",
            "Selecting previously unselected package libqt5designer5:amd64.\r\n",
            "Preparing to unpack .../25-libqt5designer5_5.15.3-1_amd64.deb ...\r\n",
            "Unpacking libqt5designer5:amd64 (5.15.3-1) ...\r\n",
            "Selecting previously unselected package libqt5multimedia5:amd64.\r\n",
            "Preparing to unpack .../26-libqt5multimedia5_5.15.3-1_amd64.deb ...\r\n",
            "Unpacking libqt5multimedia5:amd64 (5.15.3-1) ...\r\n",
            "Selecting previously unselected package libqt5multimediawidgets5:amd64.\r\n",
            "Preparing to unpack .../27-libqt5multimediawidgets5_5.15.3-1_amd64.deb ...\r\n",
            "Unpacking libqt5multimediawidgets5:amd64 (5.15.3-1) ...\r\n",
            "Selecting previously unselected package libqt5printsupport5:amd64.\r\n",
            "Preparing to unpack .../28-libqt5printsupport5_5.15.3+dfsg-2ubuntu0.2_amd64.deb ...\r\n",
            "Unpacking libqt5printsupport5:amd64 (5.15.3+dfsg-2ubuntu0.2) ...\r\n",
            "Selecting previously unselected package libqt5sql5:amd64.\r\n",
            "Preparing to unpack .../29-libqt5sql5_5.15.3+dfsg-2ubuntu0.2_amd64.deb ...\r\n",
            "Unpacking libqt5sql5:amd64 (5.15.3+dfsg-2ubuntu0.2) ...\r\n",
            "Selecting previously unselected package libqt5svg5:amd64.\r\n",
            "Preparing to unpack .../30-libqt5svg5_5.15.3-1_amd64.deb ...\r\n",
            "Unpacking libqt5svg5:amd64 (5.15.3-1) ...\r\n",
            "Selecting previously unselected package libqt5xmlpatterns5:amd64.\r\n",
            "Preparing to unpack .../31-libqt5xmlpatterns5_5.15.3-1_amd64.deb ...\r\n",
            "Unpacking libqt5xmlpatterns5:amd64 (5.15.3-1) ...\r\n",
            "Selecting previously unselected package rubygems-integration.\r\n",
            "Preparing to unpack .../32-rubygems-integration_1.18_all.deb ...\r\n",
            "Unpacking rubygems-integration (1.18) ...\r\n",
            "Selecting previously unselected package ruby3.0.\r\n",
            "Preparing to unpack .../33-ruby3.0_3.0.2-7ubuntu2.10_amd64.deb ...\r\n",
            "Unpacking ruby3.0 (3.0.2-7ubuntu2.10) ...\r\n",
            "Selecting previously unselected package ruby-rubygems.\r\n",
            "Preparing to unpack .../34-ruby-rubygems_3.3.5-2_all.deb ...\r\n",
            "Unpacking ruby-rubygems (3.3.5-2) ...\r\n",
            "Selecting previously unselected package ruby.\r\n",
            "Preparing to unpack .../35-ruby_1%3a3.0~exp1_amd64.deb ...\r\n",
            "Unpacking ruby (1:3.0~exp1) ...\r\n",
            "Selecting previously unselected package rake.\r\n",
            "Preparing to unpack .../36-rake_13.0.6-2_all.deb ...\r\n",
            "Unpacking rake (13.0.6-2) ...\r\n",
            "Selecting previously unselected package ruby-net-telnet.\r\n",
            "Preparing to unpack .../37-ruby-net-telnet_0.1.1-2_all.deb ...\r\n",
            "Unpacking ruby-net-telnet (0.1.1-2) ...\r\n",
            "Selecting previously unselected package ruby-webrick.\r\n",
            "Preparing to unpack .../38-ruby-webrick_1.7.0-3ubuntu0.1_all.deb ...\r\n",
            "Unpacking ruby-webrick (1.7.0-3ubuntu0.1) ...\r\n",
            "Selecting previously unselected package ruby-xmlrpc.\r\n",
            "Preparing to unpack .../39-ruby-xmlrpc_0.3.2-1ubuntu0.1_all.deb ...\r\n",
            "Unpacking ruby-xmlrpc (0.3.2-1ubuntu0.1) ...\r\n",
            "Selecting previously unselected package libruby3.0:amd64.\r\n",
            "Preparing to unpack .../40-libruby3.0_3.0.2-7ubuntu2.10_amd64.deb ...\r\n",
            "Unpacking libruby3.0:amd64 (3.0.2-7ubuntu2.10) ...\r\n",
            "Selecting previously unselected package klayout.\r\n",
            "Preparing to unpack .../41-klayout_0.26.2-3build3_amd64.deb ...\r\n",
            "Unpacking klayout (0.26.2-3build3) ...\r\n",
            "Selecting previously unselected package libfftw3-double3:amd64.\r\n",
            "Preparing to unpack .../42-libfftw3-double3_3.3.8-2ubuntu8_amd64.deb ...\r\n",
            "Unpacking libfftw3-double3:amd64 (3.3.8-2ubuntu8) ...\r\n",
            "Selecting previously unselected package liblqr-1-0:amd64.\r\n",
            "Preparing to unpack .../43-liblqr-1-0_0.4.2-2.1_amd64.deb ...\r\n",
            "Unpacking liblqr-1-0:amd64 (0.4.2-2.1) ...\r\n",
            "Selecting previously unselected package imagemagick-6-common.\r\n",
            "Preparing to unpack .../44-imagemagick-6-common_8%3a6.9.11.60+dfsg-1.3ubuntu0.22.04.5_all.deb ...\r\n",
            "Unpacking imagemagick-6-common (8:6.9.11.60+dfsg-1.3ubuntu0.22.04.5) ...\r\n",
            "Selecting previously unselected package libmagickcore-6.q16-6:amd64.\r\n",
            "Preparing to unpack .../45-libmagickcore-6.q16-6_8%3a6.9.11.60+dfsg-1.3ubuntu0.22.04.5_amd64.deb ...\r\n",
            "Unpacking libmagickcore-6.q16-6:amd64 (8:6.9.11.60+dfsg-1.3ubuntu0.22.04.5) ...\r\n",
            "Selecting previously unselected package libmagickwand-6.q16-6:amd64.\r\n",
            "Preparing to unpack .../46-libmagickwand-6.q16-6_8%3a6.9.11.60+dfsg-1.3ubuntu0.22.04.5_amd64.deb ...\r\n",
            "Unpacking libmagickwand-6.q16-6:amd64 (8:6.9.11.60+dfsg-1.3ubuntu0.22.04.5) ...\r\n",
            "Selecting previously unselected package poppler-data.\r\n",
            "Preparing to unpack .../47-poppler-data_0.4.11-1_all.deb ...\r\n",
            "Unpacking poppler-data (0.4.11-1) ...\r\n",
            "Selecting previously unselected package fonts-noto-mono.\r\n",
            "Preparing to unpack .../48-fonts-noto-mono_20201225-1build1_all.deb ...\r\n",
            "Unpacking fonts-noto-mono (20201225-1build1) ...\r\n",
            "Selecting previously unselected package fonts-urw-base35.\r\n",
            "Preparing to unpack .../49-fonts-urw-base35_20200910-1_all.deb ...\r\n",
            "Unpacking fonts-urw-base35 (20200910-1) ...\r\n",
            "Selecting previously unselected package libgs9-common.\r\n",
            "Preparing to unpack .../50-libgs9-common_9.55.0~dfsg1-0ubuntu5.11_all.deb ...\r\n",
            "Unpacking libgs9-common (9.55.0~dfsg1-0ubuntu5.11) ...\r\n",
            "Selecting previously unselected package libidn12:amd64.\r\n",
            "Preparing to unpack .../51-libidn12_1.38-4ubuntu1_amd64.deb ...\r\n",
            "Unpacking libidn12:amd64 (1.38-4ubuntu1) ...\r\n",
            "Selecting previously unselected package libijs-0.35:amd64.\r\n",
            "Preparing to unpack .../52-libijs-0.35_0.35-15build2_amd64.deb ...\r\n",
            "Unpacking libijs-0.35:amd64 (0.35-15build2) ...\r\n",
            "Selecting previously unselected package libjbig2dec0:amd64.\r\n",
            "Preparing to unpack .../53-libjbig2dec0_0.19-3build2_amd64.deb ...\r\n",
            "Unpacking libjbig2dec0:amd64 (0.19-3build2) ...\r\n",
            "Selecting previously unselected package libgs9:amd64.\r\n",
            "Preparing to unpack .../54-libgs9_9.55.0~dfsg1-0ubuntu5.11_amd64.deb ...\r\n",
            "Unpacking libgs9:amd64 (9.55.0~dfsg1-0ubuntu5.11) ...\r\n",
            "Selecting previously unselected package ghostscript.\r\n",
            "Preparing to unpack .../55-ghostscript_9.55.0~dfsg1-0ubuntu5.11_amd64.deb ...\r\n",
            "Unpacking ghostscript (9.55.0~dfsg1-0ubuntu5.11) ...\r\n",
            "Selecting previously unselected package gsfonts.\r\n",
            "Preparing to unpack .../56-gsfonts_1%3a8.11+urwcyr1.0.7~pre44-4.5_all.deb ...\r\n",
            "Unpacking gsfonts (1:8.11+urwcyr1.0.7~pre44-4.5) ...\r\n",
            "Selecting previously unselected package imagemagick-6.q16.\r\n",
            "Preparing to unpack .../57-imagemagick-6.q16_8%3a6.9.11.60+dfsg-1.3ubuntu0.22.04.5_amd64.deb ...\r\n",
            "Unpacking imagemagick-6.q16 (8:6.9.11.60+dfsg-1.3ubuntu0.22.04.5) ...\r\n",
            "Selecting previously unselected package imagemagick.\r\n",
            "Preparing to unpack .../58-imagemagick_8%3a6.9.11.60+dfsg-1.3ubuntu0.22.04.5_amd64.deb ...\r\n",
            "Unpacking imagemagick (8:6.9.11.60+dfsg-1.3ubuntu0.22.04.5) ...\r\n",
            "Selecting previously unselected package libdjvulibre-text.\r\n",
            "Preparing to unpack .../59-libdjvulibre-text_3.5.28-2build2_all.deb ...\r\n",
            "Unpacking libdjvulibre-text (3.5.28-2build2) ...\r\n",
            "Selecting previously unselected package libdjvulibre21:amd64.\r\n",
            "Preparing to unpack .../60-libdjvulibre21_3.5.28-2build2_amd64.deb ...\r\n",
            "Unpacking libdjvulibre21:amd64 (3.5.28-2build2) ...\r\n",
            "Selecting previously unselected package libjxr0:amd64.\r\n",
            "Preparing to unpack .../61-libjxr0_1.2~git20170615.f752187-5_amd64.deb ...\r\n",
            "Unpacking libjxr0:amd64 (1.2~git20170615.f752187-5) ...\r\n",
            "Selecting previously unselected package libjxr-tools.\r\n",
            "Preparing to unpack .../62-libjxr-tools_1.2~git20170615.f752187-5_amd64.deb ...\r\n",
            "Unpacking libjxr-tools (1.2~git20170615.f752187-5) ...\r\n",
            "Selecting previously unselected package libwmflite-0.2-7:amd64.\r\n",
            "Preparing to unpack .../63-libwmflite-0.2-7_0.2.12-5ubuntu1_amd64.deb ...\r\n",
            "Unpacking libwmflite-0.2-7:amd64 (0.2.12-5ubuntu1) ...\r\n",
            "Selecting previously unselected package libmagickcore-6.q16-6-extra:amd64.\r\n",
            "Preparing to unpack .../64-libmagickcore-6.q16-6-extra_8%3a6.9.11.60+dfsg-1.3ubuntu0.22.04.5_amd64.deb ...\r\n",
            "Unpacking libmagickcore-6.q16-6-extra:amd64 (8:6.9.11.60+dfsg-1.3ubuntu0.22.04.5) ...\r\n",
            "Selecting previously unselected package libnetpbm10.\r\n",
            "Preparing to unpack .../65-libnetpbm10_2%3a10.0-15.4_amd64.deb ...\r\n",
            "Unpacking libnetpbm10 (2:10.0-15.4) ...\r\n",
            "Selecting previously unselected package libqt5sql5-sqlite:amd64.\r\n",
            "Preparing to unpack .../66-libqt5sql5-sqlite_5.15.3+dfsg-2ubuntu0.2_amd64.deb ...\r\n",
            "Unpacking libqt5sql5-sqlite:amd64 (5.15.3+dfsg-2ubuntu0.2) ...\r\n",
            "Selecting previously unselected package libwacom-bin.\r\n",
            "Preparing to unpack .../67-libwacom-bin_2.2.0-1_amd64.deb ...\r\n",
            "Unpacking libwacom-bin (2.2.0-1) ...\r\n",
            "Selecting previously unselected package netpbm.\r\n",
            "Preparing to unpack .../68-netpbm_2%3a10.0-15.4_amd64.deb ...\r\n",
            "Unpacking netpbm (2:10.0-15.4) ...\r\n",
            "Selecting previously unselected package qt5-gtk-platformtheme:amd64.\r\n",
            "Preparing to unpack .../69-qt5-gtk-platformtheme_5.15.3+dfsg-2ubuntu0.2_amd64.deb ...\r\n",
            "Unpacking qt5-gtk-platformtheme:amd64 (5.15.3+dfsg-2ubuntu0.2) ...\r\n",
            "Selecting previously unselected package qttranslations5-l10n.\r\n",
            "Preparing to unpack .../70-qttranslations5-l10n_5.15.3-1_all.deb ...\r\n",
            "Unpacking qttranslations5-l10n (5.15.3-1) ...\r\n",
            "Setting up imagemagick-6-common (8:6.9.11.60+dfsg-1.3ubuntu0.22.04.5) ...\r\n",
            "Setting up fonts-lato (2.0-2.1) ...\r\n",
            "Setting up fonts-noto-mono (20201225-1build1) ...\r\n",
            "Setting up libwmflite-0.2-7:amd64 (0.2.12-5ubuntu1) ...\r\n",
            "Setting up libxcb-xinput0:amd64 (1.14-3ubuntu3) ...\r\n",
            "Setting up libijs-0.35:amd64 (0.35-15build2) ...\r\n",
            "Setting up libjxr0:amd64 (1.2~git20170615.f752187-5) ...\r\n",
            "Setting up libxcb-keysyms1:amd64 (0.4.0-1build3) ...\r\n",
            "Setting up libxcb-render-util0:amd64 (0.3.9-1build3) ...\r\n",
            "Setting up rubygems-integration (1.18) ...\r\n",
            "Setting up libxcb-icccm4:amd64 (0.4.1-1.1build2) ...\r\n",
            "Setting up libnetpbm10 (2:10.0-15.4) ...\r\n",
            "Setting up fonts-urw-base35 (20200910-1) ...\r\n",
            "Setting up libxcb-util1:amd64 (0.4.0-1build2) ...\r\n",
            "Setting up poppler-data (0.4.11-1) ...\r\n",
            "Setting up libxcb-xkb1:amd64 (1.14-3ubuntu3) ...\r\n",
            "Setting up libxcb-image0:amd64 (0.4.0-2) ...\r\n",
            "Setting up libxcb-xinerama0:amd64 (1.14-3ubuntu3) ...\r\n",
            "Setting up qttranslations5-l10n (5.15.3-1) ...\r\n",
            "Setting up libjbig2dec0:amd64 (0.19-3build2) ...\r\n",
            "Setting up gsfonts (1:8.11+urwcyr1.0.7~pre44-4.5) ...\r\n",
            "Setting up ruby-net-telnet (0.1.1-2) ...\r\n",
            "Setting up libxkbcommon-x11-0:amd64 (1.4.0-1) ...\r\n",
            "Setting up libidn12:amd64 (1.38-4ubuntu1) ...\r\n",
            "Setting up netpbm (2:10.0-15.4) ...\r\n",
            "Setting up libqt5core5a:amd64 (5.15.3+dfsg-2ubuntu0.2) ...\r\n",
            "Setting up libfftw3-double3:amd64 (3.3.8-2ubuntu8) ...\r\n",
            "Setting up libmtdev1:amd64 (1.1.6-1build4) ...\r\n",
            "Setting up ruby-webrick (1.7.0-3ubuntu0.1) ...\r\n",
            "Setting up liblqr-1-0:amd64 (0.4.2-2.1) ...\r\n",
            "Setting up libqt5dbus5:amd64 (5.15.3+dfsg-2ubuntu0.2) ...\r\n",
            "Setting up libmd4c0:amd64 (0.4.8-1) ...\r\n",
            "Setting up fonts-droid-fallback (1:6.0.1r16-1.1build1) ...\r\n",
            "Setting up libdjvulibre-text (3.5.28-2build2) ...\r\n",
            "Setting up libevdev2:amd64 (1.12.1+dfsg-1) ...\r\n",
            "Setting up ruby-xmlrpc (0.3.2-1ubuntu0.1) ...\r\n",
            "Setting up libgudev-1.0-0:amd64 (1:237-2build1) ...\r\n",
            "Setting up libwacom-common (2.2.0-1) ...\r\n",
            "Setting up libgs9-common (9.55.0~dfsg1-0ubuntu5.11) ...\r\n",
            "Setting up libjxr-tools (1.2~git20170615.f752187-5) ...\r\n",
            "Setting up libgs9:amd64 (9.55.0~dfsg1-0ubuntu5.11) ...\r\n",
            "Setting up libwacom9:amd64 (2.2.0-1) ...\r\n",
            "Setting up libdjvulibre21:amd64 (3.5.28-2build2) ...\r\n",
            "Setting up ghostscript (9.55.0~dfsg1-0ubuntu5.11) ...\r\n",
            "Setting up libqt5network5:amd64 (5.15.3+dfsg-2ubuntu0.2) ...\r\n",
            "Setting up libinput-bin (1.20.0-1ubuntu0.3) ...\r\n",
            "Setting up libqt5sql5:amd64 (5.15.3+dfsg-2ubuntu0.2) ...\r\n",
            "Setting up libmagickcore-6.q16-6:amd64 (8:6.9.11.60+dfsg-1.3ubuntu0.22.04.5) ...\r\n",
            "Setting up libqt5xml5:amd64 (5.15.3+dfsg-2ubuntu0.2) ...\r\n",
            "Setting up libwacom-bin (2.2.0-1) ...\r\n",
            "Setting up libmagickwand-6.q16-6:amd64 (8:6.9.11.60+dfsg-1.3ubuntu0.22.04.5) ...\r\n",
            "Setting up libinput10:amd64 (1.20.0-1ubuntu0.3) ...\r\n",
            "Setting up libqt5sql5-sqlite:amd64 (5.15.3+dfsg-2ubuntu0.2) ...\r\n",
            "Setting up libmagickcore-6.q16-6-extra:amd64 (8:6.9.11.60+dfsg-1.3ubuntu0.22.04.5) ...\r\n",
            "Setting up libqt5xmlpatterns5:amd64 (5.15.3-1) ...\r\n",
            "Setting up libqt5gui5:amd64 (5.15.3+dfsg-2ubuntu0.2) ...\r\n",
            "Setting up libqt5widgets5:amd64 (5.15.3+dfsg-2ubuntu0.2) ...\r\n",
            "Setting up qt5-gtk-platformtheme:amd64 (5.15.3+dfsg-2ubuntu0.2) ...\r\n",
            "Setting up libqt5multimedia5:amd64 (5.15.3-1) ...\r\n",
            "Setting up libqt5printsupport5:amd64 (5.15.3+dfsg-2ubuntu0.2) ...\r\n",
            "Setting up libqt5multimediawidgets5:amd64 (5.15.3-1) ...\r\n",
            "Setting up imagemagick-6.q16 (8:6.9.11.60+dfsg-1.3ubuntu0.22.04.5) ...\r\n",
            "update-alternatives: using /usr/bin/compare-im6.q16 to provide /usr/bin/compare (compare) in auto mode\r\n",
            "update-alternatives: using /usr/bin/compare-im6.q16 to provide /usr/bin/compare-im6 (compare-im6) in auto mode\r\n",
            "update-alternatives: using /usr/bin/animate-im6.q16 to provide /usr/bin/animate (animate) in auto mode\r\n",
            "update-alternatives: using /usr/bin/animate-im6.q16 to provide /usr/bin/animate-im6 (animate-im6) in auto mode\r\n",
            "update-alternatives: using /usr/bin/convert-im6.q16 to provide /usr/bin/convert (convert) in auto mode\r\n",
            "update-alternatives: using /usr/bin/convert-im6.q16 to provide /usr/bin/convert-im6 (convert-im6) in auto mode\r\n",
            "update-alternatives: using /usr/bin/composite-im6.q16 to provide /usr/bin/composite (composite) in auto mode\r\n",
            "update-alternatives: using /usr/bin/composite-im6.q16 to provide /usr/bin/composite-im6 (composite-im6) in auto mode\r\n",
            "update-alternatives: using /usr/bin/conjure-im6.q16 to provide /usr/bin/conjure (conjure) in auto mode\r\n",
            "update-alternatives: using /usr/bin/conjure-im6.q16 to provide /usr/bin/conjure-im6 (conjure-im6) in auto mode\r\n",
            "update-alternatives: using /usr/bin/import-im6.q16 to provide /usr/bin/import (import) in auto mode\r\n",
            "update-alternatives: using /usr/bin/import-im6.q16 to provide /usr/bin/import-im6 (import-im6) in auto mode\r\n",
            "update-alternatives: using /usr/bin/identify-im6.q16 to provide /usr/bin/identify (identify) in auto mode\r\n",
            "update-alternatives: using /usr/bin/identify-im6.q16 to provide /usr/bin/identify-im6 (identify-im6) in auto mode\r\n",
            "update-alternatives: using /usr/bin/stream-im6.q16 to provide /usr/bin/stream (stream) in auto mode\r\n",
            "update-alternatives: using /usr/bin/stream-im6.q16 to provide /usr/bin/stream-im6 (stream-im6) in auto mode\r\n",
            "update-alternatives: using /usr/bin/display-im6.q16 to provide /usr/bin/display (display) in auto mode\r\n",
            "update-alternatives: using /usr/bin/display-im6.q16 to provide /usr/bin/display-im6 (display-im6) in auto mode\r\n",
            "update-alternatives: using /usr/bin/montage-im6.q16 to provide /usr/bin/montage (montage) in auto mode\r\n",
            "update-alternatives: using /usr/bin/montage-im6.q16 to provide /usr/bin/montage-im6 (montage-im6) in auto mode\r\n",
            "update-alternatives: using /usr/bin/mogrify-im6.q16 to provide /usr/bin/mogrify (mogrify) in auto mode\r\n",
            "update-alternatives: using /usr/bin/mogrify-im6.q16 to provide /usr/bin/mogrify-im6 (mogrify-im6) in auto mode\r\n",
            "Setting up libqt5designer5:amd64 (5.15.3-1) ...\r\n",
            "Setting up libqt5svg5:amd64 (5.15.3-1) ...\r\n",
            "Setting up imagemagick (8:6.9.11.60+dfsg-1.3ubuntu0.22.04.5) ...\r\n",
            "Setting up rake (13.0.6-2) ...\r\n",
            "Setting up libruby3.0:amd64 (3.0.2-7ubuntu2.10) ...\r\n",
            "Setting up ruby-rubygems (3.3.5-2) ...\r\n",
            "Setting up ruby3.0 (3.0.2-7ubuntu2.10) ...\r\n",
            "Setting up klayout (0.26.2-3build3) ...\r\n",
            "Setting up ruby (1:3.0~exp1) ...\r\n",
            "Processing triggers for mailcap (3.70+nmu1ubuntu1) ...\r\n",
            "Processing triggers for fontconfig (2.13.1-4.2ubuntu5) ...\r\n",
            "Processing triggers for hicolor-icon-theme (0.17-2) ...\r\n",
            "Processing triggers for libc-bin (2.35-0ubuntu3.8) ...\r\n",
            "/sbin/ldconfig.real: /usr/local/lib/libtbbmalloc_proxy.so.2 is not a symbolic link\r\n",
            "\r\n",
            "/sbin/ldconfig.real: /usr/local/lib/libtcm.so.1 is not a symbolic link\r\n",
            "\r\n",
            "/sbin/ldconfig.real: /usr/local/lib/libtbbmalloc.so.2 is not a symbolic link\r\n",
            "\r\n",
            "/sbin/ldconfig.real: /usr/local/lib/libtbbbind.so.3 is not a symbolic link\r\n",
            "\r\n",
            "/sbin/ldconfig.real: /usr/local/lib/libtcm_debug.so.1 is not a symbolic link\r\n",
            "\r\n",
            "/sbin/ldconfig.real: /usr/local/lib/libumf.so.0 is not a symbolic link\r\n",
            "\r\n",
            "/sbin/ldconfig.real: /usr/local/lib/libur_adapter_level_zero.so.0 is not a symbolic link\r\n",
            "\r\n",
            "/sbin/ldconfig.real: /usr/local/lib/libhwloc.so.15 is not a symbolic link\r\n",
            "\r\n",
            "/sbin/ldconfig.real: /usr/local/lib/libur_loader.so.0 is not a symbolic link\r\n",
            "\r\n",
            "/sbin/ldconfig.real: /usr/local/lib/libur_adapter_opencl.so.0 is not a symbolic link\r\n",
            "\r\n",
            "/sbin/ldconfig.real: /usr/local/lib/libtbbbind_2_0.so.3 is not a symbolic link\r\n",
            "\r\n",
            "/sbin/ldconfig.real: /usr/local/lib/libtbbbind_2_5.so.3 is not a symbolic link\r\n",
            "\r\n",
            "/sbin/ldconfig.real: /usr/local/lib/libtbb.so.12 is not a symbolic link\r\n",
            "\r\n",
            "Processing triggers for man-db (2.10.2-1) ...\r\n"
          ]
        },
        {
          "output_type": "stream",
          "name": "stderr",
          "text": [
            "W: Skipping acquire of configured file 'main/source/Sources' as repository 'https://r2u.stat.illinois.edu/ubuntu jammy InRelease' does not seem to provide it (sources.list entry misspelt?)\n",
            "debconf: unable to initialize frontend: Dialog\n",
            "debconf: (No usable dialog-like program is installed, so the dialog based frontend cannot be used. at /usr/share/perl5/Debconf/FrontEnd/Dialog.pm line 78, <> line 71.)\n",
            "debconf: falling back to frontend: Readline\n",
            "debconf: unable to initialize frontend: Readline\n",
            "debconf: (This frontend requires a controlling tty.)\n",
            "debconf: falling back to frontend: Teletype\n",
            "dpkg-preconfigure: unable to re-open stdin: \n"
          ]
        }
      ]
    },
    {
      "cell_type": "code",
      "source": [
        "# 2️⃣  Python packages  (IPython cell, NOT inside %%bash)\n",
        "%pip install -q \"openlane==2.*\" \"volare>=0.20.4,<0.21\" gdspy\n"
      ],
      "metadata": {
        "id": "_gZsnywz1be8",
        "colab": {
          "base_uri": "https://localhost:8080/"
        },
        "outputId": "3b2ffe94-9328-49b3-c6de-9f36af85e911"
      },
      "execution_count": 3,
      "outputs": [
        {
          "output_type": "stream",
          "name": "stdout",
          "text": [
            "\u001b[?25l     \u001b[90m━━━━━━━━━━━━━━━━━━━━━━━━━━━━━━━━━━━━━━━━\u001b[0m \u001b[32m0.0/157.9 kB\u001b[0m \u001b[31m?\u001b[0m eta \u001b[36m-:--:--\u001b[0m\r\u001b[2K     \u001b[91m━━━━━━━━━━━━━━━━━━━━━━━━━━━━━━━━━━━\u001b[0m\u001b[90m╺\u001b[0m\u001b[90m━━━\u001b[0m \u001b[32m143.4/157.9 kB\u001b[0m \u001b[31m4.1 MB/s\u001b[0m eta \u001b[36m0:00:01\u001b[0m\r\u001b[2K     \u001b[90m━━━━━━━━━━━━━━━━━━━━━━━━━━━━━━━━━━━━━━━\u001b[0m \u001b[32m157.9/157.9 kB\u001b[0m \u001b[31m3.2 MB/s\u001b[0m eta \u001b[36m0:00:00\u001b[0m\n",
            "\u001b[?25h  Preparing metadata (setup.py) ... \u001b[?25l\u001b[?25hdone\n",
            "\u001b[2K   \u001b[90m━━━━━━━━━━━━━━━━━━━━━━━━━━━━━━━━━━━━━━━━\u001b[0m \u001b[32m377.4/377.4 kB\u001b[0m \u001b[31m12.9 MB/s\u001b[0m eta \u001b[36m0:00:00\u001b[0m\n",
            "\u001b[2K   \u001b[90m━━━━━━━━━━━━━━━━━━━━━━━━━━━━━━━━━━━━━━━━\u001b[0m \u001b[32m54.6/54.6 kB\u001b[0m \u001b[31m4.8 MB/s\u001b[0m eta \u001b[36m0:00:00\u001b[0m\n",
            "\u001b[2K   \u001b[90m━━━━━━━━━━━━━━━━━━━━━━━━━━━━━━━━━━━━━━━━\u001b[0m \u001b[32m23.8/23.8 MB\u001b[0m \u001b[31m8.3 MB/s\u001b[0m eta \u001b[36m0:00:00\u001b[0m\n",
            "\u001b[2K   \u001b[90m━━━━━━━━━━━━━━━━━━━━━━━━━━━━━━━━━━━━━━━━\u001b[0m \u001b[32m1.1/1.1 MB\u001b[0m \u001b[31m26.9 MB/s\u001b[0m eta \u001b[36m0:00:00\u001b[0m\n",
            "\u001b[2K   \u001b[90m━━━━━━━━━━━━━━━━━━━━━━━━━━━━━━━━━━━━━━━━\u001b[0m \u001b[32m91.1/91.1 kB\u001b[0m \u001b[31m8.6 MB/s\u001b[0m eta \u001b[36m0:00:00\u001b[0m\n",
            "\u001b[2K   \u001b[90m━━━━━━━━━━━━━━━━━━━━━━━━━━━━━━━━━━━━━━━━\u001b[0m \u001b[32m3.1/3.1 MB\u001b[0m \u001b[31m94.1 MB/s\u001b[0m eta \u001b[36m0:00:00\u001b[0m\n",
            "\u001b[?25h  Building wheel for gdspy (setup.py) ... \u001b[?25l\u001b[?25hdone\n"
          ]
        }
      ]
    },
    {
      "cell_type": "code",
      "source": [
        "%%bash\n",
        "# 3️⃣  Set and create the PDK folder\n",
        "export PDK_ROOT=/content/pdks\n",
        "mkdir -p \"$PDK_ROOT\"\n"
      ],
      "metadata": {
        "id": "jciGekqo8dSp"
      },
      "execution_count": 4,
      "outputs": []
    },
    {
      "cell_type": "code",
      "source": [
        "%%bash\n",
        "# 4️⃣  Enable the Sky130 kit (OpenLane-tested commit)\n",
        "export PDK_ROOT=/content/pdks\n",
        "volare enable --pdk-root \"$PDK_ROOT\" --pdk sky130 \\\n",
        "    cd1748bb197f9b7af62a54507de6624e30363943\n"
      ],
      "metadata": {
        "colab": {
          "base_uri": "https://localhost:8080/"
        },
        "id": "_t6wyezr8dU3",
        "outputId": "9b6e4bc0-bd02-4747-c1a0-aaf9a50747c3"
      },
      "execution_count": 5,
      "outputs": [
        {
          "output_type": "stream",
          "name": "stdout",
          "text": [
            "Version cd1748bb197f9b7af62a54507de6624e30363943 not found locally, attempting \n",
            "to download…\n",
            "Downloading common.tar.zst… ━━━━━━━━━━━━━━━━━━━━━━━━━━━━━━━━━━━━━━━ 100% 0:00:00\n",
            "Downloading sky130_fd_io.tar.zst… ━━━━━━━━━━━━━━━━━━━━━━━━━━━━━━━━━ 100% 0:00:00\n",
            "Downloading sky130_fd_pr.tar.zst… ━━━━━━━━━━━━━━━━━━━━━━━━━━━━━━━━━ 100% 0:00:00\n",
            "Downloading sky130_fd_sc_hd.tar.zst… ━━━━━━━━━━━━━━━━━━━━━━━━━━━━━━ 100% 0:00:00\n",
            "Downloading sky130_fd_sc_hvl.tar.zst… ━━━━━━━━━━━━━━━━━━━━━━━━━━━━━ 100% 0:00:00\n",
            "Downloading sky130_ml_xx_hd.tar.zst… ━━━━━━━━━━━━━━━━━━━━━━━━━━━━━━ 100% 0:00:00\n",
            "Downloading sky130_sram_macros.tar.zst… ━━━━━━━━━━━━━━━━━━━━━━━━━━━ 100% 0:00:00\n",
            "Version cd1748bb197f9b7af62a54507de6624e30363943 enabled for the sky130 PDK.\n"
          ]
        }
      ]
    },
    {
      "cell_type": "code",
      "source": [
        "# 5️⃣  Tell Python / OpenLane where the PDK is\n",
        "import os, pathlib, sys\n",
        "os.environ[\"PDK_ROOT\"] = \"/content/pdks\"\n",
        "os.environ[\"PDK\"]      = \"sky130A\"\n",
        "assert (pathlib.Path(os.environ[\"PDK_ROOT\"]) / \"sky130A\").exists(), \"PDK missing!\"\n",
        "print(\"✅  PDK ready.\")\n"
      ],
      "metadata": {
        "colab": {
          "base_uri": "https://localhost:8080/"
        },
        "id": "4lLpoB5t8dXd",
        "outputId": "6033de3d-e6d6-47ce-ef43-f4bdf189dd6b"
      },
      "execution_count": 6,
      "outputs": [
        {
          "output_type": "stream",
          "name": "stdout",
          "text": [
            "✅  PDK ready.\n"
          ]
        }
      ]
    },
    {
      "cell_type": "code",
      "source": [
        "from pathlib import Path            # path handling\n",
        "import textwrap                     # handy for dedenting multi-line strings\n",
        "import json                         # read/write JSON\n"
      ],
      "metadata": {
        "id": "6LAjvVK_9Gom"
      },
      "execution_count": 7,
      "outputs": []
    },
    {
      "cell_type": "code",
      "source": [
        "from pathlib import Path\n",
        "import textwrap, json               # ← corrected import line\n",
        "\n",
        "proj = Path(\"/content/h_bridge_project\")\n",
        "src  = proj / \"src\"\n",
        "src.mkdir(parents=True, exist_ok=True)\n",
        "\n",
        "(src / \"h_bridge.v\").write_text(textwrap.dedent(r'''\n",
        "module h_bridge (\n",
        "    input  wire in_a, input wire in_b,\n",
        "    output wire out_p, output wire out_n,\n",
        "    supply1 vccd1, supply0 vssd1\n",
        ");\n",
        "    sky130_fd_pr__pfet_01v8 p1 (.G(in_a), .D(out_p), .S(vccd1), .B(vccd1));\n",
        "    sky130_fd_pr__pfet_01v8 p2 (.G(in_b), .D(out_n), .S(vccd1), .B(vccd1));\n",
        "    sky130_fd_pr__nfet_01v8 n1 (.G(in_b), .D(out_p), .S(vssd1), .B(vssd1));\n",
        "    sky130_fd_pr__nfet_01v8 n2 (.G(in_a), .D(out_n), .S(vssd1), .B(vssd1));\n",
        "endmodule\n",
        "'''))\n",
        "\n",
        "(src / \"pin_order.cfg\").write_text(\"vccd1 vssd1 in_a in_b out_p out_n\\n\")\n",
        "\n",
        "(proj / \"config.json\").write_text(json.dumps({\n",
        "    \"DESIGN_NAME\":   \"h_bridge\",\n",
        "    \"PDK\":           \"sky130A\",\n",
        "    \"PDK_ROOT\":      \"/content/pdks\",\n",
        "    \"VERILOG_FILES\": \"src/h_bridge.v\",\n",
        "    \"FP_PIN_ORDER_CFG\": \"pin_order.cfg\",\n",
        "    \"FP_CORE_UTIL\":  20,\n",
        "    \"RUN_MAGIC_DRC\": \"on\",\n",
        "    \"RUN_LVS\":       \"on\",\n",
        "    \"RUN_CVC\":       \"on\",\n",
        "    \"RUN_KLAYOUT\":   \"on\"\n",
        "}, indent=2))\n",
        "\n",
        "print(\"🎯  Project folder ready:\", proj)\n"
      ],
      "metadata": {
        "colab": {
          "base_uri": "https://localhost:8080/"
        },
        "id": "3v9W9rys8dZy",
        "outputId": "715076c2-7c01-48f7-9274-dcf15ed4b49a"
      },
      "execution_count": 8,
      "outputs": [
        {
          "output_type": "stream",
          "name": "stdout",
          "text": [
            "🎯  Project folder ready: /content/h_bridge_project\n"
          ]
        }
      ]
    },
    {
      "cell_type": "code",
      "source": [
        "import json, pathlib, subprocess, textwrap, pprint, os, sys\n",
        "\n",
        "proj   = pathlib.Path(\"/content/h_bridge_project\")\n",
        "cfgf   = proj/\"config.json\"\n",
        "\n",
        "# --- 1️⃣  load & patch ---\n",
        "cfg = {\n",
        "    \"DESIGN_NAME\"          : \"h_bridge\",\n",
        "    \"PDK\"                  : \"sky130A\",\n",
        "    \"PDK_ROOT\"             : \"/content/pdks\",\n",
        "    \"VERILOG_FILES\"        : [ str((proj/\"src/h_bridge.v\").resolve()) ],\n",
        "    \"FP_PIN_ORDER_CFG\"     : str((proj/\"src/pin_order.cfg\").resolve()),\n",
        "    \"FP_CORE_UTIL\"         : 20,\n",
        "    \"RUN_MAGIC_DRC\"        : True,\n",
        "    \"RUN_LVS\"              : True,\n",
        "    \"RUN_KLAYOUT_STREAMOUT\": True          # replaces deprecated RUN_KLAYOUT\n",
        "}\n",
        "\n",
        "cfgf.write_text(json.dumps(cfg, indent=2))\n",
        "print(\"✅  cleaned config.json →\")\n",
        "pprint.pp(cfg)\n",
        "\n",
        "# --- 2️⃣  launch OpenLane ---\n",
        "bash = textwrap.dedent(f\"\"\"\n",
        "    set -e\n",
        "    export PDK_ROOT=/content/pdks\n",
        "    export PDK=sky130A\n",
        "    cd {proj}\n",
        "    openlane config.json --run-tag colab\n",
        "\"\"\")\n",
        "\n",
        "print(\"\\n🚀 running flow …\\n\")\n",
        "rc = subprocess.call([\"bash\",\"-c\", bash])\n",
        "print(\"\\nFlow exited with code\", rc)\n"
      ],
      "metadata": {
        "colab": {
          "base_uri": "https://localhost:8080/"
        },
        "id": "IOeVyYu78dcP",
        "outputId": "5bc4f2ee-85e7-408b-fe8b-cf6ae8b872b7"
      },
      "execution_count": 12,
      "outputs": [
        {
          "output_type": "stream",
          "name": "stdout",
          "text": [
            "✅  cleaned config.json →\n",
            "{'DESIGN_NAME': 'h_bridge',\n",
            " 'PDK': 'sky130A',\n",
            " 'PDK_ROOT': '/content/pdks',\n",
            " 'VERILOG_FILES': ['/content/h_bridge_project/src/h_bridge.v'],\n",
            " 'FP_PIN_ORDER_CFG': '/content/h_bridge_project/src/pin_order.cfg',\n",
            " 'FP_CORE_UTIL': 20,\n",
            " 'RUN_MAGIC_DRC': True,\n",
            " 'RUN_LVS': True,\n",
            " 'RUN_KLAYOUT_STREAMOUT': True}\n",
            "\n",
            "🚀 running flow …\n",
            "\n",
            "\n",
            "Flow exited with code 1\n"
          ]
        }
      ]
    },
    {
      "cell_type": "code",
      "source": [
        "import pathlib, pprint, os\n",
        "\n",
        "runs_root = pathlib.Path(\"/content/h_bridge_project/runs\")\n",
        "if not runs_root.exists():\n",
        "    print(\"No run directory created – the flow must have stopped early.\")\n",
        "else:\n",
        "    print(\"Existing run folders:\")\n",
        "    for p in runs_root.glob(\"*\"):\n",
        "        print(\"  •\", p.name)\n",
        "        for sub in p.rglob(\"*\") :\n",
        "            if sub.is_dir() and sub.name.lower() in {\"gds\",\"results\"}:\n",
        "                print(\"     ↳\", sub.relative_to(runs_root))\n",
        "\n",
        "Existing run folders:\n",
        "  • colab"
      ],
      "metadata": {
        "id": "-8WGg-VJBMSU",
        "outputId": "8f2bdc06-68c0-4458-a110-78b60071bc4f",
        "colab": {
          "base_uri": "https://localhost:8080/"
        }
      },
      "execution_count": 15,
      "outputs": [
        {
          "output_type": "stream",
          "name": "stdout",
          "text": [
            "Existing run folders:\n",
            "  • colab\n"
          ]
        }
      ]
    },
    {
      "cell_type": "code",
      "source": [
        "%%bash\n",
        "#  ⏱  takes 8-12 min on Colab, ~800 MB total download\n",
        "openlane tools install-all\n"
      ],
      "metadata": {
        "id": "nFObQB1w8dhi",
        "colab": {
          "base_uri": "https://localhost:8080/",
          "height": 877
        },
        "outputId": "ef1f2ae1-c238-4cc9-fc01-d707d7cbe88f"
      },
      "execution_count": 20,
      "outputs": [
        {
          "output_type": "stream",
          "name": "stderr",
          "text": [
            "Usage: openlane [OPTIONS] [CONFIG_FILES]...\n",
            "Try 'openlane --help' for help.\n",
            "\n",
            "Error: Invalid value for '[CONFIG_FILES]...': Path 'tools' does not exist.\n"
          ]
        },
        {
          "output_type": "error",
          "ename": "CalledProcessError",
          "evalue": "Command 'b'#  \\xe2\\x8f\\xb1  takes 8-12 min on Colab, ~800 MB total download\\nopenlane tools install-all\\n'' returned non-zero exit status 2.",
          "traceback": [
            "\u001b[0;31m---------------------------------------------------------------------------\u001b[0m",
            "\u001b[0;31mCalledProcessError\u001b[0m                        Traceback (most recent call last)",
            "\u001b[0;32m<ipython-input-20-2e1bb8e13995>\u001b[0m in \u001b[0;36m<cell line: 0>\u001b[0;34m()\u001b[0m\n\u001b[0;32m----> 1\u001b[0;31m \u001b[0mget_ipython\u001b[0m\u001b[0;34m(\u001b[0m\u001b[0;34m)\u001b[0m\u001b[0;34m.\u001b[0m\u001b[0mrun_cell_magic\u001b[0m\u001b[0;34m(\u001b[0m\u001b[0;34m'bash'\u001b[0m\u001b[0;34m,\u001b[0m \u001b[0;34m''\u001b[0m\u001b[0;34m,\u001b[0m \u001b[0;34m'#  ⏱  takes 8-12 min on Colab, ~800 MB total download\\nopenlane tools install-all\\n'\u001b[0m\u001b[0;34m)\u001b[0m\u001b[0;34m\u001b[0m\u001b[0;34m\u001b[0m\u001b[0m\n\u001b[0m",
            "\u001b[0;32m/usr/local/lib/python3.11/dist-packages/google/colab/_shell.py\u001b[0m in \u001b[0;36mrun_cell_magic\u001b[0;34m(self, magic_name, line, cell)\u001b[0m\n\u001b[1;32m    356\u001b[0m     \u001b[0;32mif\u001b[0m \u001b[0mline\u001b[0m \u001b[0;32mand\u001b[0m \u001b[0;32mnot\u001b[0m \u001b[0mcell\u001b[0m\u001b[0;34m:\u001b[0m\u001b[0;34m\u001b[0m\u001b[0;34m\u001b[0m\u001b[0m\n\u001b[1;32m    357\u001b[0m       \u001b[0mcell\u001b[0m \u001b[0;34m=\u001b[0m \u001b[0;34m' '\u001b[0m\u001b[0;34m\u001b[0m\u001b[0;34m\u001b[0m\u001b[0m\n\u001b[0;32m--> 358\u001b[0;31m     \u001b[0;32mreturn\u001b[0m \u001b[0msuper\u001b[0m\u001b[0;34m(\u001b[0m\u001b[0;34m)\u001b[0m\u001b[0;34m.\u001b[0m\u001b[0mrun_cell_magic\u001b[0m\u001b[0;34m(\u001b[0m\u001b[0mmagic_name\u001b[0m\u001b[0;34m,\u001b[0m \u001b[0mline\u001b[0m\u001b[0;34m,\u001b[0m \u001b[0mcell\u001b[0m\u001b[0;34m)\u001b[0m\u001b[0;34m\u001b[0m\u001b[0;34m\u001b[0m\u001b[0m\n\u001b[0m\u001b[1;32m    359\u001b[0m \u001b[0;34m\u001b[0m\u001b[0m\n\u001b[1;32m    360\u001b[0m \u001b[0;34m\u001b[0m\u001b[0m\n",
            "\u001b[0;32m/usr/local/lib/python3.11/dist-packages/IPython/core/interactiveshell.py\u001b[0m in \u001b[0;36mrun_cell_magic\u001b[0;34m(self, magic_name, line, cell)\u001b[0m\n\u001b[1;32m   2471\u001b[0m             \u001b[0;32mwith\u001b[0m \u001b[0mself\u001b[0m\u001b[0;34m.\u001b[0m\u001b[0mbuiltin_trap\u001b[0m\u001b[0;34m:\u001b[0m\u001b[0;34m\u001b[0m\u001b[0;34m\u001b[0m\u001b[0m\n\u001b[1;32m   2472\u001b[0m                 \u001b[0margs\u001b[0m \u001b[0;34m=\u001b[0m \u001b[0;34m(\u001b[0m\u001b[0mmagic_arg_s\u001b[0m\u001b[0;34m,\u001b[0m \u001b[0mcell\u001b[0m\u001b[0;34m)\u001b[0m\u001b[0;34m\u001b[0m\u001b[0;34m\u001b[0m\u001b[0m\n\u001b[0;32m-> 2473\u001b[0;31m                 \u001b[0mresult\u001b[0m \u001b[0;34m=\u001b[0m \u001b[0mfn\u001b[0m\u001b[0;34m(\u001b[0m\u001b[0;34m*\u001b[0m\u001b[0margs\u001b[0m\u001b[0;34m,\u001b[0m \u001b[0;34m**\u001b[0m\u001b[0mkwargs\u001b[0m\u001b[0;34m)\u001b[0m\u001b[0;34m\u001b[0m\u001b[0;34m\u001b[0m\u001b[0m\n\u001b[0m\u001b[1;32m   2474\u001b[0m             \u001b[0;32mreturn\u001b[0m \u001b[0mresult\u001b[0m\u001b[0;34m\u001b[0m\u001b[0;34m\u001b[0m\u001b[0m\n\u001b[1;32m   2475\u001b[0m \u001b[0;34m\u001b[0m\u001b[0m\n",
            "\u001b[0;32m/usr/local/lib/python3.11/dist-packages/IPython/core/magics/script.py\u001b[0m in \u001b[0;36mnamed_script_magic\u001b[0;34m(line, cell)\u001b[0m\n\u001b[1;32m    140\u001b[0m             \u001b[0;32melse\u001b[0m\u001b[0;34m:\u001b[0m\u001b[0;34m\u001b[0m\u001b[0;34m\u001b[0m\u001b[0m\n\u001b[1;32m    141\u001b[0m                 \u001b[0mline\u001b[0m \u001b[0;34m=\u001b[0m \u001b[0mscript\u001b[0m\u001b[0;34m\u001b[0m\u001b[0;34m\u001b[0m\u001b[0m\n\u001b[0;32m--> 142\u001b[0;31m             \u001b[0;32mreturn\u001b[0m \u001b[0mself\u001b[0m\u001b[0;34m.\u001b[0m\u001b[0mshebang\u001b[0m\u001b[0;34m(\u001b[0m\u001b[0mline\u001b[0m\u001b[0;34m,\u001b[0m \u001b[0mcell\u001b[0m\u001b[0;34m)\u001b[0m\u001b[0;34m\u001b[0m\u001b[0;34m\u001b[0m\u001b[0m\n\u001b[0m\u001b[1;32m    143\u001b[0m \u001b[0;34m\u001b[0m\u001b[0m\n\u001b[1;32m    144\u001b[0m         \u001b[0;31m# write a basic docstring:\u001b[0m\u001b[0;34m\u001b[0m\u001b[0;34m\u001b[0m\u001b[0m\n",
            "\u001b[0;32m<decorator-gen-103>\u001b[0m in \u001b[0;36mshebang\u001b[0;34m(self, line, cell)\u001b[0m\n",
            "\u001b[0;32m/usr/local/lib/python3.11/dist-packages/IPython/core/magic.py\u001b[0m in \u001b[0;36m<lambda>\u001b[0;34m(f, *a, **k)\u001b[0m\n\u001b[1;32m    185\u001b[0m     \u001b[0;31m# but it's overkill for just that one bit of state.\u001b[0m\u001b[0;34m\u001b[0m\u001b[0;34m\u001b[0m\u001b[0m\n\u001b[1;32m    186\u001b[0m     \u001b[0;32mdef\u001b[0m \u001b[0mmagic_deco\u001b[0m\u001b[0;34m(\u001b[0m\u001b[0marg\u001b[0m\u001b[0;34m)\u001b[0m\u001b[0;34m:\u001b[0m\u001b[0;34m\u001b[0m\u001b[0;34m\u001b[0m\u001b[0m\n\u001b[0;32m--> 187\u001b[0;31m         \u001b[0mcall\u001b[0m \u001b[0;34m=\u001b[0m \u001b[0;32mlambda\u001b[0m \u001b[0mf\u001b[0m\u001b[0;34m,\u001b[0m \u001b[0;34m*\u001b[0m\u001b[0ma\u001b[0m\u001b[0;34m,\u001b[0m \u001b[0;34m**\u001b[0m\u001b[0mk\u001b[0m\u001b[0;34m:\u001b[0m \u001b[0mf\u001b[0m\u001b[0;34m(\u001b[0m\u001b[0;34m*\u001b[0m\u001b[0ma\u001b[0m\u001b[0;34m,\u001b[0m \u001b[0;34m**\u001b[0m\u001b[0mk\u001b[0m\u001b[0;34m)\u001b[0m\u001b[0;34m\u001b[0m\u001b[0;34m\u001b[0m\u001b[0m\n\u001b[0m\u001b[1;32m    188\u001b[0m \u001b[0;34m\u001b[0m\u001b[0m\n\u001b[1;32m    189\u001b[0m         \u001b[0;32mif\u001b[0m \u001b[0mcallable\u001b[0m\u001b[0;34m(\u001b[0m\u001b[0marg\u001b[0m\u001b[0;34m)\u001b[0m\u001b[0;34m:\u001b[0m\u001b[0;34m\u001b[0m\u001b[0;34m\u001b[0m\u001b[0m\n",
            "\u001b[0;32m/usr/local/lib/python3.11/dist-packages/IPython/core/magics/script.py\u001b[0m in \u001b[0;36mshebang\u001b[0;34m(self, line, cell)\u001b[0m\n\u001b[1;32m    243\u001b[0m             \u001b[0msys\u001b[0m\u001b[0;34m.\u001b[0m\u001b[0mstderr\u001b[0m\u001b[0;34m.\u001b[0m\u001b[0mflush\u001b[0m\u001b[0;34m(\u001b[0m\u001b[0;34m)\u001b[0m\u001b[0;34m\u001b[0m\u001b[0;34m\u001b[0m\u001b[0m\n\u001b[1;32m    244\u001b[0m         \u001b[0;32mif\u001b[0m \u001b[0margs\u001b[0m\u001b[0;34m.\u001b[0m\u001b[0mraise_error\u001b[0m \u001b[0;32mand\u001b[0m \u001b[0mp\u001b[0m\u001b[0;34m.\u001b[0m\u001b[0mreturncode\u001b[0m\u001b[0;34m!=\u001b[0m\u001b[0;36m0\u001b[0m\u001b[0;34m:\u001b[0m\u001b[0;34m\u001b[0m\u001b[0;34m\u001b[0m\u001b[0m\n\u001b[0;32m--> 245\u001b[0;31m             \u001b[0;32mraise\u001b[0m \u001b[0mCalledProcessError\u001b[0m\u001b[0;34m(\u001b[0m\u001b[0mp\u001b[0m\u001b[0;34m.\u001b[0m\u001b[0mreturncode\u001b[0m\u001b[0;34m,\u001b[0m \u001b[0mcell\u001b[0m\u001b[0;34m,\u001b[0m \u001b[0moutput\u001b[0m\u001b[0;34m=\u001b[0m\u001b[0mout\u001b[0m\u001b[0;34m,\u001b[0m \u001b[0mstderr\u001b[0m\u001b[0;34m=\u001b[0m\u001b[0merr\u001b[0m\u001b[0;34m)\u001b[0m\u001b[0;34m\u001b[0m\u001b[0;34m\u001b[0m\u001b[0m\n\u001b[0m\u001b[1;32m    246\u001b[0m \u001b[0;34m\u001b[0m\u001b[0m\n\u001b[1;32m    247\u001b[0m     \u001b[0;32mdef\u001b[0m \u001b[0m_run_script\u001b[0m\u001b[0;34m(\u001b[0m\u001b[0mself\u001b[0m\u001b[0;34m,\u001b[0m \u001b[0mp\u001b[0m\u001b[0;34m,\u001b[0m \u001b[0mcell\u001b[0m\u001b[0;34m,\u001b[0m \u001b[0mto_close\u001b[0m\u001b[0;34m)\u001b[0m\u001b[0;34m:\u001b[0m\u001b[0;34m\u001b[0m\u001b[0;34m\u001b[0m\u001b[0m\n",
            "\u001b[0;31mCalledProcessError\u001b[0m: Command 'b'#  \\xe2\\x8f\\xb1  takes 8-12 min on Colab, ~800 MB total download\\nopenlane tools install-all\\n'' returned non-zero exit status 2."
          ]
        }
      ]
    },
    {
      "cell_type": "code",
      "source": [
        "%%bash\n",
        "which yosys\n",
        "which openroad\n",
        "which magic\n",
        "which klayout\n"
      ],
      "metadata": {
        "id": "KzuwA6bt8dkH",
        "colab": {
          "base_uri": "https://localhost:8080/"
        },
        "outputId": "8f7b3f0c-f6c2-4a5b-e28d-5e03e56163e0"
      },
      "execution_count": 21,
      "outputs": [
        {
          "output_type": "stream",
          "name": "stdout",
          "text": [
            "/usr/bin/klayout\n"
          ]
        }
      ]
    },
    {
      "cell_type": "code",
      "source": [
        "%%bash\n",
        "export PDK_ROOT=/content/pdks\n",
        "export PDK=sky130A\n",
        "cd /content/h_bridge_project\n",
        "openlane config.json --run-tag colab\n"
      ],
      "metadata": {
        "id": "1OXPztO41bhh",
        "colab": {
          "base_uri": "https://localhost:8080/",
          "height": 1000
        },
        "outputId": "f4c3cb1d-1c92-46f6-9915-b6c854dc1faf"
      },
      "execution_count": 22,
      "outputs": [
        {
          "output_type": "stream",
          "name": "stdout",
          "text": [
            "[04:25:35] INFO     Using existing run at 'colab' with the 'Classic' flow.py:578\n",
            "                    flow.                                                       \n",
            "[04:25:35] INFO     Starting…                                  sequential.py:294\n",
            "──────────────────────────────── Verilator Lint ────────────────────────────────\n",
            "[04:25:36] VERBOSE  Running 'Verilator.Lint' at                     step.py:1122\n",
            "                    'runs/colab/03-verilator-lint'…                             \n",
            "[04:25:36] WARNING  yosys and yowasp-yosys not found in PATH.     toolbox.py:474\n",
            "                    This may trigger issues with blackboxing.                   \n",
            "[04:25:36] VERBOSE  Logging subprocess to                           step.py:1318\n",
            "                    'runs/colab/03-verilator-lint/verilator-lint.lo             \n",
            "                    g'…                                                         \n",
            "Classic - Stage 1 - Verilator Lint                                  0/78 0:00:00\n",
            "[04:25:36] WARNING  The following warnings were generated by the     flow.py:673\n",
            "                    flow:                                                       \n",
            "[04:25:36] WARNING  yosys and yowasp-yosys not found in PATH. This   flow.py:675\n",
            "                    may trigger issues with blackboxing.                        \n"
          ]
        },
        {
          "output_type": "stream",
          "name": "stderr",
          "text": [
            "Traceback (most recent call last):\n",
            "  File \"/usr/local/bin/openlane\", line 8, in <module>\n",
            "    sys.exit(cli())\n",
            "             ^^^^^\n",
            "  File \"/usr/local/lib/python3.11/dist-packages/click/core.py\", line 1442, in __call__\n",
            "    return self.main(*args, **kwargs)\n",
            "           ^^^^^^^^^^^^^^^^^^^^^^^^^^\n",
            "  File \"/usr/local/lib/python3.11/dist-packages/click/core.py\", line 1363, in main\n",
            "    rv = self.invoke(ctx)\n",
            "         ^^^^^^^^^^^^^^^^\n",
            "  File \"/usr/local/lib/python3.11/dist-packages/click/core.py\", line 1226, in invoke\n",
            "    return ctx.invoke(self.callback, **ctx.params)\n",
            "           ^^^^^^^^^^^^^^^^^^^^^^^^^^^^^^^^^^^^^^^\n",
            "  File \"/usr/local/lib/python3.11/dist-packages/click/core.py\", line 794, in invoke\n",
            "    return callback(*args, **kwargs)\n",
            "           ^^^^^^^^^^^^^^^^^^^^^^^^^\n",
            "  File \"/usr/local/lib/python3.11/dist-packages/openlane/flows/cli.py\", line 452, in pdk_resolve_wrapper\n",
            "    return f(*args, pdk_root=pdk_root, pdk=pdk, scl=scl, **kwargs)\n",
            "           ^^^^^^^^^^^^^^^^^^^^^^^^^^^^^^^^^^^^^^^^^^^^^^^^^^^^^^^\n",
            "  File \"/usr/local/lib/python3.11/dist-packages/click/decorators.py\", line 34, in new_func\n",
            "    return f(get_current_context(), *args, **kwargs)\n",
            "           ^^^^^^^^^^^^^^^^^^^^^^^^^^^^^^^^^^^^^^^^^\n",
            "  File \"/usr/local/lib/python3.11/dist-packages/openlane/__main__.py\", line 465, in cli\n",
            "    run(ctx, **run_kwargs)\n",
            "  File \"/usr/local/lib/python3.11/dist-packages/openlane/__main__.py\", line 171, in run\n",
            "    state_out = flow.start(\n",
            "                ^^^^^^^^^^^\n",
            "  File \"/usr/local/lib/python3.11/dist-packages/openlane/flows/flow.py\", line 657, in start\n",
            "    final_state, step_objects = self.run(\n",
            "                                ^^^^^^^^^\n",
            "  File \"/usr/local/lib/python3.11/dist-packages/openlane/flows/sequential.py\", line 338, in run\n",
            "    current_state = step.start(\n",
            "                    ^^^^^^^^^^^\n",
            "  File \"/usr/local/lib/python3.11/dist-packages/openlane/steps/step.py\", line 1150, in start\n",
            "    views_updates, metrics_updates = self.run(state_in_result, **kwargs)\n",
            "                                     ^^^^^^^^^^^^^^^^^^^^^^^^^^^^^^^^^^^\n",
            "  File \"/usr/local/lib/python3.11/dist-packages/openlane/steps/verilator.py\", line 172, in run\n",
            "    result = self.run_subprocess(\n",
            "             ^^^^^^^^^^^^^^^^^^^^\n",
            "  File \"/usr/local/lib/python3.11/dist-packages/openlane/steps/step.py\", line 1321, in run_subprocess\n",
            "    process = _popen_callable(\n",
            "              ^^^^^^^^^^^^^^^^\n",
            "  File \"/usr/local/lib/python3.11/dist-packages/psutil/__init__.py\", line 1321, in __init__\n",
            "    self.__subproc = subprocess.Popen(*args, **kwargs)\n",
            "                     ^^^^^^^^^^^^^^^^^^^^^^^^^^^^^^^^^\n",
            "  File \"/usr/lib/python3.11/subprocess.py\", line 1026, in __init__\n",
            "    self._execute_child(args, executable, preexec_fn, close_fds,\n",
            "  File \"/usr/lib/python3.11/subprocess.py\", line 1955, in _execute_child\n",
            "    raise child_exception_type(errno_num, err_msg, err_filename)\n",
            "FileNotFoundError: [Errno 2] No such file or directory: 'verilator'\n"
          ]
        },
        {
          "output_type": "error",
          "ename": "CalledProcessError",
          "evalue": "Command 'b'export PDK_ROOT=/content/pdks\\nexport PDK=sky130A\\ncd /content/h_bridge_project\\nopenlane config.json --run-tag colab\\n'' returned non-zero exit status 1.",
          "traceback": [
            "\u001b[0;31m---------------------------------------------------------------------------\u001b[0m",
            "\u001b[0;31mCalledProcessError\u001b[0m                        Traceback (most recent call last)",
            "\u001b[0;32m<ipython-input-22-93a0927361c8>\u001b[0m in \u001b[0;36m<cell line: 0>\u001b[0;34m()\u001b[0m\n\u001b[0;32m----> 1\u001b[0;31m \u001b[0mget_ipython\u001b[0m\u001b[0;34m(\u001b[0m\u001b[0;34m)\u001b[0m\u001b[0;34m.\u001b[0m\u001b[0mrun_cell_magic\u001b[0m\u001b[0;34m(\u001b[0m\u001b[0;34m'bash'\u001b[0m\u001b[0;34m,\u001b[0m \u001b[0;34m''\u001b[0m\u001b[0;34m,\u001b[0m \u001b[0;34m'export PDK_ROOT=/content/pdks\\nexport PDK=sky130A\\ncd /content/h_bridge_project\\nopenlane config.json --run-tag colab\\n'\u001b[0m\u001b[0;34m)\u001b[0m\u001b[0;34m\u001b[0m\u001b[0;34m\u001b[0m\u001b[0m\n\u001b[0m",
            "\u001b[0;32m/usr/local/lib/python3.11/dist-packages/google/colab/_shell.py\u001b[0m in \u001b[0;36mrun_cell_magic\u001b[0;34m(self, magic_name, line, cell)\u001b[0m\n\u001b[1;32m    356\u001b[0m     \u001b[0;32mif\u001b[0m \u001b[0mline\u001b[0m \u001b[0;32mand\u001b[0m \u001b[0;32mnot\u001b[0m \u001b[0mcell\u001b[0m\u001b[0;34m:\u001b[0m\u001b[0;34m\u001b[0m\u001b[0;34m\u001b[0m\u001b[0m\n\u001b[1;32m    357\u001b[0m       \u001b[0mcell\u001b[0m \u001b[0;34m=\u001b[0m \u001b[0;34m' '\u001b[0m\u001b[0;34m\u001b[0m\u001b[0;34m\u001b[0m\u001b[0m\n\u001b[0;32m--> 358\u001b[0;31m     \u001b[0;32mreturn\u001b[0m \u001b[0msuper\u001b[0m\u001b[0;34m(\u001b[0m\u001b[0;34m)\u001b[0m\u001b[0;34m.\u001b[0m\u001b[0mrun_cell_magic\u001b[0m\u001b[0;34m(\u001b[0m\u001b[0mmagic_name\u001b[0m\u001b[0;34m,\u001b[0m \u001b[0mline\u001b[0m\u001b[0;34m,\u001b[0m \u001b[0mcell\u001b[0m\u001b[0;34m)\u001b[0m\u001b[0;34m\u001b[0m\u001b[0;34m\u001b[0m\u001b[0m\n\u001b[0m\u001b[1;32m    359\u001b[0m \u001b[0;34m\u001b[0m\u001b[0m\n\u001b[1;32m    360\u001b[0m \u001b[0;34m\u001b[0m\u001b[0m\n",
            "\u001b[0;32m/usr/local/lib/python3.11/dist-packages/IPython/core/interactiveshell.py\u001b[0m in \u001b[0;36mrun_cell_magic\u001b[0;34m(self, magic_name, line, cell)\u001b[0m\n\u001b[1;32m   2471\u001b[0m             \u001b[0;32mwith\u001b[0m \u001b[0mself\u001b[0m\u001b[0;34m.\u001b[0m\u001b[0mbuiltin_trap\u001b[0m\u001b[0;34m:\u001b[0m\u001b[0;34m\u001b[0m\u001b[0;34m\u001b[0m\u001b[0m\n\u001b[1;32m   2472\u001b[0m                 \u001b[0margs\u001b[0m \u001b[0;34m=\u001b[0m \u001b[0;34m(\u001b[0m\u001b[0mmagic_arg_s\u001b[0m\u001b[0;34m,\u001b[0m \u001b[0mcell\u001b[0m\u001b[0;34m)\u001b[0m\u001b[0;34m\u001b[0m\u001b[0;34m\u001b[0m\u001b[0m\n\u001b[0;32m-> 2473\u001b[0;31m                 \u001b[0mresult\u001b[0m \u001b[0;34m=\u001b[0m \u001b[0mfn\u001b[0m\u001b[0;34m(\u001b[0m\u001b[0;34m*\u001b[0m\u001b[0margs\u001b[0m\u001b[0;34m,\u001b[0m \u001b[0;34m**\u001b[0m\u001b[0mkwargs\u001b[0m\u001b[0;34m)\u001b[0m\u001b[0;34m\u001b[0m\u001b[0;34m\u001b[0m\u001b[0m\n\u001b[0m\u001b[1;32m   2474\u001b[0m             \u001b[0;32mreturn\u001b[0m \u001b[0mresult\u001b[0m\u001b[0;34m\u001b[0m\u001b[0;34m\u001b[0m\u001b[0m\n\u001b[1;32m   2475\u001b[0m \u001b[0;34m\u001b[0m\u001b[0m\n",
            "\u001b[0;32m/usr/local/lib/python3.11/dist-packages/IPython/core/magics/script.py\u001b[0m in \u001b[0;36mnamed_script_magic\u001b[0;34m(line, cell)\u001b[0m\n\u001b[1;32m    140\u001b[0m             \u001b[0;32melse\u001b[0m\u001b[0;34m:\u001b[0m\u001b[0;34m\u001b[0m\u001b[0;34m\u001b[0m\u001b[0m\n\u001b[1;32m    141\u001b[0m                 \u001b[0mline\u001b[0m \u001b[0;34m=\u001b[0m \u001b[0mscript\u001b[0m\u001b[0;34m\u001b[0m\u001b[0;34m\u001b[0m\u001b[0m\n\u001b[0;32m--> 142\u001b[0;31m             \u001b[0;32mreturn\u001b[0m \u001b[0mself\u001b[0m\u001b[0;34m.\u001b[0m\u001b[0mshebang\u001b[0m\u001b[0;34m(\u001b[0m\u001b[0mline\u001b[0m\u001b[0;34m,\u001b[0m \u001b[0mcell\u001b[0m\u001b[0;34m)\u001b[0m\u001b[0;34m\u001b[0m\u001b[0;34m\u001b[0m\u001b[0m\n\u001b[0m\u001b[1;32m    143\u001b[0m \u001b[0;34m\u001b[0m\u001b[0m\n\u001b[1;32m    144\u001b[0m         \u001b[0;31m# write a basic docstring:\u001b[0m\u001b[0;34m\u001b[0m\u001b[0;34m\u001b[0m\u001b[0m\n",
            "\u001b[0;32m<decorator-gen-103>\u001b[0m in \u001b[0;36mshebang\u001b[0;34m(self, line, cell)\u001b[0m\n",
            "\u001b[0;32m/usr/local/lib/python3.11/dist-packages/IPython/core/magic.py\u001b[0m in \u001b[0;36m<lambda>\u001b[0;34m(f, *a, **k)\u001b[0m\n\u001b[1;32m    185\u001b[0m     \u001b[0;31m# but it's overkill for just that one bit of state.\u001b[0m\u001b[0;34m\u001b[0m\u001b[0;34m\u001b[0m\u001b[0m\n\u001b[1;32m    186\u001b[0m     \u001b[0;32mdef\u001b[0m \u001b[0mmagic_deco\u001b[0m\u001b[0;34m(\u001b[0m\u001b[0marg\u001b[0m\u001b[0;34m)\u001b[0m\u001b[0;34m:\u001b[0m\u001b[0;34m\u001b[0m\u001b[0;34m\u001b[0m\u001b[0m\n\u001b[0;32m--> 187\u001b[0;31m         \u001b[0mcall\u001b[0m \u001b[0;34m=\u001b[0m \u001b[0;32mlambda\u001b[0m \u001b[0mf\u001b[0m\u001b[0;34m,\u001b[0m \u001b[0;34m*\u001b[0m\u001b[0ma\u001b[0m\u001b[0;34m,\u001b[0m \u001b[0;34m**\u001b[0m\u001b[0mk\u001b[0m\u001b[0;34m:\u001b[0m \u001b[0mf\u001b[0m\u001b[0;34m(\u001b[0m\u001b[0;34m*\u001b[0m\u001b[0ma\u001b[0m\u001b[0;34m,\u001b[0m \u001b[0;34m**\u001b[0m\u001b[0mk\u001b[0m\u001b[0;34m)\u001b[0m\u001b[0;34m\u001b[0m\u001b[0;34m\u001b[0m\u001b[0m\n\u001b[0m\u001b[1;32m    188\u001b[0m \u001b[0;34m\u001b[0m\u001b[0m\n\u001b[1;32m    189\u001b[0m         \u001b[0;32mif\u001b[0m \u001b[0mcallable\u001b[0m\u001b[0;34m(\u001b[0m\u001b[0marg\u001b[0m\u001b[0;34m)\u001b[0m\u001b[0;34m:\u001b[0m\u001b[0;34m\u001b[0m\u001b[0;34m\u001b[0m\u001b[0m\n",
            "\u001b[0;32m/usr/local/lib/python3.11/dist-packages/IPython/core/magics/script.py\u001b[0m in \u001b[0;36mshebang\u001b[0;34m(self, line, cell)\u001b[0m\n\u001b[1;32m    243\u001b[0m             \u001b[0msys\u001b[0m\u001b[0;34m.\u001b[0m\u001b[0mstderr\u001b[0m\u001b[0;34m.\u001b[0m\u001b[0mflush\u001b[0m\u001b[0;34m(\u001b[0m\u001b[0;34m)\u001b[0m\u001b[0;34m\u001b[0m\u001b[0;34m\u001b[0m\u001b[0m\n\u001b[1;32m    244\u001b[0m         \u001b[0;32mif\u001b[0m \u001b[0margs\u001b[0m\u001b[0;34m.\u001b[0m\u001b[0mraise_error\u001b[0m \u001b[0;32mand\u001b[0m \u001b[0mp\u001b[0m\u001b[0;34m.\u001b[0m\u001b[0mreturncode\u001b[0m\u001b[0;34m!=\u001b[0m\u001b[0;36m0\u001b[0m\u001b[0;34m:\u001b[0m\u001b[0;34m\u001b[0m\u001b[0;34m\u001b[0m\u001b[0m\n\u001b[0;32m--> 245\u001b[0;31m             \u001b[0;32mraise\u001b[0m \u001b[0mCalledProcessError\u001b[0m\u001b[0;34m(\u001b[0m\u001b[0mp\u001b[0m\u001b[0;34m.\u001b[0m\u001b[0mreturncode\u001b[0m\u001b[0;34m,\u001b[0m \u001b[0mcell\u001b[0m\u001b[0;34m,\u001b[0m \u001b[0moutput\u001b[0m\u001b[0;34m=\u001b[0m\u001b[0mout\u001b[0m\u001b[0;34m,\u001b[0m \u001b[0mstderr\u001b[0m\u001b[0;34m=\u001b[0m\u001b[0merr\u001b[0m\u001b[0;34m)\u001b[0m\u001b[0;34m\u001b[0m\u001b[0;34m\u001b[0m\u001b[0m\n\u001b[0m\u001b[1;32m    246\u001b[0m \u001b[0;34m\u001b[0m\u001b[0m\n\u001b[1;32m    247\u001b[0m     \u001b[0;32mdef\u001b[0m \u001b[0m_run_script\u001b[0m\u001b[0;34m(\u001b[0m\u001b[0mself\u001b[0m\u001b[0;34m,\u001b[0m \u001b[0mp\u001b[0m\u001b[0;34m,\u001b[0m \u001b[0mcell\u001b[0m\u001b[0;34m,\u001b[0m \u001b[0mto_close\u001b[0m\u001b[0;34m)\u001b[0m\u001b[0;34m:\u001b[0m\u001b[0;34m\u001b[0m\u001b[0;34m\u001b[0m\u001b[0m\n",
            "\u001b[0;31mCalledProcessError\u001b[0m: Command 'b'export PDK_ROOT=/content/pdks\\nexport PDK=sky130A\\ncd /content/h_bridge_project\\nopenlane config.json --run-tag colab\\n'' returned non-zero exit status 1."
          ]
        }
      ]
    },
    {
      "cell_type": "code",
      "source": [],
      "metadata": {
        "id": "CmOkWkhf1bjb"
      },
      "execution_count": null,
      "outputs": []
    },
    {
      "cell_type": "code",
      "source": [],
      "metadata": {
        "id": "F5K8YWjA1bls"
      },
      "execution_count": null,
      "outputs": []
    },
    {
      "cell_type": "code",
      "source": [],
      "metadata": {
        "id": "_HhJOR0K1boY"
      },
      "execution_count": null,
      "outputs": []
    },
    {
      "cell_type": "code",
      "source": [],
      "metadata": {
        "id": "M2ttFB4C1bql"
      },
      "execution_count": null,
      "outputs": []
    },
    {
      "cell_type": "code",
      "source": [],
      "metadata": {
        "id": "x1LF6sWN1bti"
      },
      "execution_count": null,
      "outputs": []
    },
    {
      "cell_type": "code",
      "source": [],
      "metadata": {
        "id": "4w2cfQrV0pLA"
      },
      "execution_count": null,
      "outputs": []
    },
    {
      "cell_type": "code",
      "source": [],
      "metadata": {
        "id": "R2KoVyuI0pNW"
      },
      "execution_count": null,
      "outputs": []
    }
  ]
}